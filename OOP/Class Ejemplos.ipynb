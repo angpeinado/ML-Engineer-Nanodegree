{
 "cells": [
  {
   "cell_type": "markdown",
   "metadata": {},
   "source": [
    "Las clases es la forma de generar objetos, POO es programación orientada a objetos, si quieres usar este paradigma tienes que pensar en objetos y clases.\n",
    "\n",
    "un clase define un tipo de objeto, cuando lo llamas estas creando una instancia de esa clase, cuando quieres que algo suceda llamas a ese objeto y le indicas que lo haga.\n",
    "\n",
    "__init__ es el constructor de tu clase en el creas una nueva instancia de la clase, por ejemplo"
   ]
  },
  {
   "cell_type": "code",
   "execution_count": 5,
   "metadata": {},
   "outputs": [
    {
     "name": "stdout",
     "output_type": "stream",
     "text": [
      "wof\n",
      "wofwof\n",
      "wofwofwof\n",
      "wofwofwofwof\n",
      "wofwofwofwofwof\n",
      "wofwofwofwofwofwof\n",
      "wof\n",
      "wofwof\n",
      "wofwofwof\n",
      "wofwofwofwof\n"
     ]
    }
   ],
   "source": [
    "class perro():\n",
    "    def __init__(self, nombre, size, raza):\n",
    "        self.nombre=nombre\n",
    "        self.size=size\n",
    "        self.raza=raza\n",
    "\n",
    "    def ladra(self):\n",
    "        s=\"\"\n",
    "        for l in self.nombre:\n",
    "            s+=\"wof\"\n",
    "            print(s)\n",
    "\n",
    "\n",
    "chucho=perro(\"chucho\",\"grande\",\"husky\")\n",
    "chucho.ladra()\n",
    "\n",
    "#wofwofwofwofwofwof\n",
    "\n",
    "cloe=perro(\"cloe\",\"mini\",\"chihuahua\")\n",
    "cloe.ladra()\n",
    "\n",
    "#wofwofwofwof"
   ]
  },
  {
   "cell_type": "markdown",
   "metadata": {},
   "source": [
    "en un juego quieres crear 100 enemigos y cada uno actúa de forma similar, pero quieres que cada uno tenga características que los distingan, pues creas la clase enemigo e implementas las características que los distinguen.\n",
    "\n",
    "se supone que el POO se creo cuando los simuladores de vuelo empezaron a tener problemas al diferenciar un avión de otro dentro de la simulación."
   ]
  },
  {
   "cell_type": "code",
   "execution_count": 1,
   "metadata": {},
   "outputs": [],
   "source": [
    "class Boton():\n",
    "    def __init__(self, texto = 'Botón', color = 'Azul', accion = None):\n",
    "        self.texto = texto\n",
    "        self.color = color\n",
    "        self.accion = accion\n",
    "        self.habilitado = True\n",
    "\n",
    "    def pulsar(self):\n",
    "        if self.accion:\n",
    "            if self.habilitado:\n",
    "                self.accion()\n",
    "            else:\n",
    "                print('Estoy desactivado, déjame en paz....')\n",
    "\n",
    "\n",
    "    def deshabilitar(self):\n",
    "        self.habilitado = False\n",
    "\n",
    "    def habilitar(self):\n",
    "        self.habilitado = True"
   ]
  },
  {
   "cell_type": "markdown",
   "metadata": {},
   "source": [
    "El ejemplo es muy simple pero bueno, a ver si con esto se capta la idea. Ahora yo puedo crear los botones que quiera con el mínimo esfuerzo, solo los instancio:"
   ]
  },
  {
   "cell_type": "code",
   "execution_count": 2,
   "metadata": {},
   "outputs": [],
   "source": [
    "def holaMundo():\n",
    "    print('Hola mundo')\n",
    "\n",
    "def opinion():\n",
    "    print('Odio la POO... ¿Que m****a es esto?')\n",
    "\n",
    "boton1 = Boton(accion = opinion)\n",
    "boton2 = Boton(texto = 'Hola', accion = holaMundo)"
   ]
  },
  {
   "cell_type": "code",
   "execution_count": 3,
   "metadata": {},
   "outputs": [
    {
     "name": "stdout",
     "output_type": "stream",
     "text": [
      "Odio la POO... ¿Que m****a es esto?\n"
     ]
    }
   ],
   "source": [
    "boton1.pulsar()"
   ]
  },
  {
   "cell_type": "code",
   "execution_count": 4,
   "metadata": {},
   "outputs": [
    {
     "name": "stdout",
     "output_type": "stream",
     "text": [
      "Hola mundo\n"
     ]
    }
   ],
   "source": [
    "boton2.pulsar()"
   ]
  },
  {
   "cell_type": "markdown",
   "metadata": {},
   "source": [
    "Ahora tengo dos botones, ambos diferentes y ambos hacen lo que se supone que hace un botón:"
   ]
  },
  {
   "cell_type": "markdown",
   "metadata": {},
   "source": [
    ">>> boton1.pulsar()\n",
    "Odio la POO... ¿Que m****a es esto?\n",
    "\n",
    ">>> boton2.pulsar()\n",
    "Hola mundo\n",
    "\n",
    ">>> boton2.deshabilitar()\n",
    "\n",
    ">>> boton2.pulsar()\n",
    "Estoy desactivado, déjame en paz....\n",
    "\n",
    ">>> boton2.habilitar()\n",
    "\n",
    ">>> boton2.pulsar()\n",
    "Hola mundo"
   ]
  },
  {
   "cell_type": "code",
   "execution_count": 1,
   "metadata": {},
   "outputs": [
    {
     "name": "stdout",
     "output_type": "stream",
     "text": [
      "Coordenada del punto\n",
      "( 10 , -2 )\n",
      "Cuarto cuadrante\n"
     ]
    }
   ],
   "source": [
    "class Punto:\n",
    "\n",
    "    def __init__(self,x,y):\n",
    "        self.x=x\n",
    "        self.y=y\n",
    "\n",
    "    def imprimir(self):\n",
    "        print(\"Coordenada del punto\")\n",
    "        print(\"(\",self.x,\",\",self.y,\")\")\n",
    "\n",
    "    def imprimir_cuadrante(self):\n",
    "        if self.x>0 and self.y>0:\n",
    "            print(\"Primer cuadrange\")\n",
    "        else:\n",
    "            if self.x<0 and self.y>0:\n",
    "                print(\"Segundo cuadrante\")\n",
    "            else:\n",
    "                if self.x<0 and self.y<0:\n",
    "                    print(\"Tercer cuadrante\")\n",
    "                else:\n",
    "                    if self.x>0 and self.y<0:\n",
    "                        print(\"Cuarto cuadrante\")\n",
    "\n",
    "\n",
    "# bloque principal\n",
    "\n",
    "punto1=Punto(10,-2)\n",
    "punto1.imprimir()\n",
    "punto1.imprimir_cuadrante()"
   ]
  },
  {
   "cell_type": "code",
   "execution_count": 2,
   "metadata": {},
   "outputs": [
    {
     "name": "stdout",
     "output_type": "stream",
     "text": [
      "Ingrese el nombre del empleado:Angel\n",
      "Ingrese el sueldo:4000\n",
      "Nombre: Angel\n",
      "Sueldo: 4000.0\n",
      "Debe pagar impuestos\n"
     ]
    }
   ],
   "source": [
    "class Empleado:\n",
    "\n",
    "    def __init__(self):\n",
    "        self.nombre=input(\"Ingrese el nombre del empleado:\")\n",
    "        self.sueldo=float(input(\"Ingrese el sueldo:\"))\n",
    "\n",
    "    def imprimir(self):\n",
    "        print(\"Nombre:\",self.nombre)\n",
    "        print(\"Sueldo:\",self.sueldo)\n",
    "\n",
    "    def paga_impuestos(self):\n",
    "        if self.sueldo>3000:\n",
    "            print(\"Debe pagar impuestos\")\n",
    "        else:\n",
    "            print(\"No paga impuestos\")\n",
    "\n",
    "\n",
    "# bloque principal\n",
    "\n",
    "empleado1=Empleado()\n",
    "empleado1.imprimir()\n",
    "empleado1.paga_impuestos()"
   ]
  }
 ],
 "metadata": {
  "kernelspec": {
   "display_name": "Python 3",
   "language": "python",
   "name": "python3"
  },
  "language_info": {
   "codemirror_mode": {
    "name": "ipython",
    "version": 3
   },
   "file_extension": ".py",
   "mimetype": "text/x-python",
   "name": "python",
   "nbconvert_exporter": "python",
   "pygments_lexer": "ipython3",
   "version": "3.7.3"
  }
 },
 "nbformat": 4,
 "nbformat_minor": 2
}
