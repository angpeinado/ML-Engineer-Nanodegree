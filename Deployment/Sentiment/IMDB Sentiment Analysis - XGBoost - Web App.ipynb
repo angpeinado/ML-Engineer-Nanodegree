{
 "cells": [
  {
   "cell_type": "markdown",
   "metadata": {},
   "source": [
    "# Sentiment Analysis Web App\n",
    "\n",
    "_Deep Learning Nanodegree Program | Deployment_\n",
    "\n",
    "---\n",
    "\n",
    "In this notebook we will use Amazon's SageMaker service to construct a random tree model to predict the sentiment of a movie review. In addition, we will deploy this model to an endpoint and construct a very simple web app which will interact with our model's deployed endpoint.\n",
    "\n",
    "## General Outline\n",
    "\n",
    "Typically, when using a notebook instance with SageMaker, you will proceed through the following steps. Of course, not every step will need to be done with each project. Also, there is quite a lot of room for variation in many of the steps, as you will see throughout these lessons.\n",
    "\n",
    "1. Download or otherwise retrieve the data.\n",
    "2. Process / Prepare the data.\n",
    "3. Upload the processed data to S3.\n",
    "4. Train a chosen model.\n",
    "5. Test the trained model (typically using a batch transform job).\n",
    "6. Deploy the trained model.\n",
    "7. Use the deployed model.\n",
    "\n",
    "In this notebook we will progress through each of the steps above. We will also see that the final step, using the deployed model, can be quite challenging."
   ]
  },
  {
   "cell_type": "markdown",
   "metadata": {},
   "source": [
    "## Step 1: Downloading the data\n",
    "\n",
    "The dataset we are going to use is very popular among researchers in Natural Language Processing, usually referred to as the [IMDb dataset](http://ai.stanford.edu/~amaas/data/sentiment/). It consists of movie reviews from the website [imdb.com](http://www.imdb.com/), each labeled as either '**pos**itive', if the reviewer enjoyed the film, or '**neg**ative' otherwise.\n",
    "\n",
    "> Maas, Andrew L., et al. [Learning Word Vectors for Sentiment Analysis](http://ai.stanford.edu/~amaas/data/sentiment/). In _Proceedings of the 49th Annual Meeting of the Association for Computational Linguistics: Human Language Technologies_. Association for Computational Linguistics, 2011.\n",
    "\n",
    "We begin by using some Jupyter Notebook magic to download and extract the dataset."
   ]
  },
  {
   "cell_type": "code",
   "execution_count": 13,
   "metadata": {},
   "outputs": [
    {
     "name": "stdout",
     "output_type": "stream",
     "text": [
      "mkdir: cannot create directory ‘../data’: File exists\n",
      "--2020-03-25 07:44:59--  http://ai.stanford.edu/~amaas/data/sentiment/aclImdb_v1.tar.gz\n",
      "Resolving ai.stanford.edu (ai.stanford.edu)... 171.64.68.10\n",
      "Connecting to ai.stanford.edu (ai.stanford.edu)|171.64.68.10|:80... connected.\n",
      "HTTP request sent, awaiting response... 200 OK\n",
      "Length: 84125825 (80M) [application/x-gzip]\n",
      "Saving to: ‘../data/aclImdb_v1.tar.gz’\n",
      "\n",
      "../data/aclImdb_v1. 100%[===================>]  80.23M  22.4MB/s    in 4.9s    \n",
      "\n",
      "2020-03-25 07:45:04 (16.2 MB/s) - ‘../data/aclImdb_v1.tar.gz’ saved [84125825/84125825]\n",
      "\n"
     ]
    }
   ],
   "source": [
    "%mkdir ../data\n",
    "!wget -O ../data/aclImdb_v1.tar.gz http://ai.stanford.edu/~amaas/data/sentiment/aclImdb_v1.tar.gz\n",
    "!tar -zxf ../data/aclImdb_v1.tar.gz -C ../data"
   ]
  },
  {
   "cell_type": "markdown",
   "metadata": {},
   "source": [
    "## Step 2: Preparing and Processing the data\n",
    "\n",
    "The data we have downloaded is split into various files, each of which contains a single review. It will be much easier going forward if we combine these individual files into two large files, one for training and one for testing."
   ]
  },
  {
   "cell_type": "code",
   "execution_count": 14,
   "metadata": {},
   "outputs": [],
   "source": [
    "import os\n",
    "import glob\n",
    "\n",
    "def read_imdb_data(data_dir='../data/aclImdb'):\n",
    "    data = {}\n",
    "    labels = {}\n",
    "    \n",
    "    for data_type in ['train', 'test']:\n",
    "        data[data_type] = {}\n",
    "        labels[data_type] = {}\n",
    "        \n",
    "        for sentiment in ['pos', 'neg']:\n",
    "            data[data_type][sentiment] = []\n",
    "            labels[data_type][sentiment] = []\n",
    "            \n",
    "            path = os.path.join(data_dir, data_type, sentiment, '*.txt')\n",
    "            files = glob.glob(path)\n",
    "            \n",
    "            for f in files:\n",
    "                with open(f) as review:\n",
    "                    data[data_type][sentiment].append(review.read())\n",
    "                    # Here we represent a positive review by '1' and a negative review by '0'\n",
    "                    labels[data_type][sentiment].append(1 if sentiment == 'pos' else 0)\n",
    "                    \n",
    "            assert len(data[data_type][sentiment]) == len(labels[data_type][sentiment]), \\\n",
    "                    \"{}/{} data size does not match labels size\".format(data_type, sentiment)\n",
    "                \n",
    "    return data, labels"
   ]
  },
  {
   "cell_type": "code",
   "execution_count": 15,
   "metadata": {},
   "outputs": [
    {
     "name": "stdout",
     "output_type": "stream",
     "text": [
      "IMDB reviews: train = 12500 pos / 12500 neg, test = 12500 pos / 12500 neg\n"
     ]
    }
   ],
   "source": [
    "data, labels = read_imdb_data()\n",
    "print(\"IMDB reviews: train = {} pos / {} neg, test = {} pos / {} neg\".format(\n",
    "            len(data['train']['pos']), len(data['train']['neg']),\n",
    "            len(data['test']['pos']), len(data['test']['neg'])))"
   ]
  },
  {
   "cell_type": "code",
   "execution_count": 16,
   "metadata": {},
   "outputs": [],
   "source": [
    "from sklearn.utils import shuffle\n",
    "\n",
    "def prepare_imdb_data(data, labels):\n",
    "    \"\"\"Prepare training and test sets from IMDb movie reviews.\"\"\"\n",
    "    \n",
    "    #Combine positive and negative reviews and labels\n",
    "    data_train = data['train']['pos'] + data['train']['neg']\n",
    "    data_test = data['test']['pos'] + data['test']['neg']\n",
    "    labels_train = labels['train']['pos'] + labels['train']['neg']\n",
    "    labels_test = labels['test']['pos'] + labels['test']['neg']\n",
    "    \n",
    "    #Shuffle reviews and corresponding labels within training and test sets\n",
    "    data_train, labels_train = shuffle(data_train, labels_train)\n",
    "    data_test, labels_test = shuffle(data_test, labels_test)\n",
    "    \n",
    "    # Return a unified training data, test data, training labels, test labets\n",
    "    return data_train, data_test, labels_train, labels_test"
   ]
  },
  {
   "cell_type": "code",
   "execution_count": 17,
   "metadata": {},
   "outputs": [
    {
     "name": "stdout",
     "output_type": "stream",
     "text": [
      "IMDb reviews (combined): train = 25000, test = 25000\n"
     ]
    }
   ],
   "source": [
    "train_X, test_X, train_y, test_y = prepare_imdb_data(data, labels)\n",
    "print(\"IMDb reviews (combined): train = {}, test = {}\".format(len(train_X), len(test_X)))"
   ]
  },
  {
   "cell_type": "code",
   "execution_count": 18,
   "metadata": {},
   "outputs": [
    {
     "data": {
      "text/plain": [
       "\"I started to watch this movie with high expectations. However, after one hour I gave up on this movie as it only instilled lots of unanswered questions upon me. This already started in the opening sequence and only got worse.<br /><br />Why would they bury the Hollander under a statue? Why is there an Italian comediant present? Why did the farmers wife save the Hollander? Why did he, upon being saved, not run for his life instead of starting to make love to the farmers wife? Why did the farmers wife not save the Hollander at a time when the farmer wouldn't be around? Why did these presumably illiterate farmers understand Italian? Why did the Italian comediant know about the Hollanders gold? Why did he hide it in the cesspool in the midst of the evil farmers property? These and many more questions popped up, and none of them seemed to get answered in an acceptable way. So I guess I am totally missing the point of this movie, and I am not connecting to the story in any way....\""
      ]
     },
     "execution_count": 18,
     "metadata": {},
     "output_type": "execute_result"
    }
   ],
   "source": [
    "train_X[100]"
   ]
  },
  {
   "cell_type": "markdown",
   "metadata": {},
   "source": [
    "## Processing the data\n",
    "\n",
    "Now that we have our training and testing datasets merged and ready to use, we need to start processing the raw data into something that will be useable by our machine learning algorithm. To begin with, we remove any html formatting and any non-alpha numeric characters that may appear in the reviews. We will do this in a very simplistic way using Python's regular expression module. We will discuss the reason for this rather simplistic pre-processing later on."
   ]
  },
  {
   "cell_type": "code",
   "execution_count": 19,
   "metadata": {},
   "outputs": [],
   "source": [
    "import re\n",
    "\n",
    "REPLACE_NO_SPACE = re.compile(\"(\\.)|(\\;)|(\\:)|(\\!)|(\\')|(\\?)|(\\,)|(\\\")|(\\()|(\\))|(\\[)|(\\])\")\n",
    "REPLACE_WITH_SPACE = re.compile(\"(<br\\s*/><br\\s*/>)|(\\-)|(\\/)\")\n",
    "\n",
    "def review_to_words(review):\n",
    "    words = REPLACE_NO_SPACE.sub(\"\", review.lower())\n",
    "    words = REPLACE_WITH_SPACE.sub(\" \", words)\n",
    "    return words"
   ]
  },
  {
   "cell_type": "code",
   "execution_count": 20,
   "metadata": {},
   "outputs": [
    {
     "data": {
      "text/plain": [
       "'i started to watch this movie with high expectations however after one hour i gave up on this movie as it only instilled lots of unanswered questions upon me this already started in the opening sequence and only got worse why would they bury the hollander under a statue why is there an italian comediant present why did the farmers wife save the hollander why did he upon being saved not run for his life instead of starting to make love to the farmers wife why did the farmers wife not save the hollander at a time when the farmer wouldnt be around why did these presumably illiterate farmers understand italian why did the italian comediant know about the hollanders gold why did he hide it in the cesspool in the midst of the evil farmers property these and many more questions popped up and none of them seemed to get answered in an acceptable way so i guess i am totally missing the point of this movie and i am not connecting to the story in any way'"
      ]
     },
     "execution_count": 20,
     "metadata": {},
     "output_type": "execute_result"
    }
   ],
   "source": [
    "review_to_words(train_X[100])"
   ]
  },
  {
   "cell_type": "code",
   "execution_count": 21,
   "metadata": {},
   "outputs": [],
   "source": [
    "import pickle\n",
    "\n",
    "cache_dir = os.path.join(\"../cache\", \"sentiment_web_app\")  # where to store cache files\n",
    "os.makedirs(cache_dir, exist_ok=True)  # ensure cache directory exists\n",
    "\n",
    "def preprocess_data(data_train, data_test, labels_train, labels_test,\n",
    "                    cache_dir=cache_dir, cache_file=\"preprocessed_data.pkl\"):\n",
    "    \"\"\"Convert each review to words; read from cache if available.\"\"\"\n",
    "\n",
    "    # If cache_file is not None, try to read from it first\n",
    "    cache_data = None\n",
    "    if cache_file is not None:\n",
    "        try:\n",
    "            with open(os.path.join(cache_dir, cache_file), \"rb\") as f:\n",
    "                cache_data = pickle.load(f)\n",
    "            print(\"Read preprocessed data from cache file:\", cache_file)\n",
    "        except:\n",
    "            pass  # unable to read from cache, but that's okay\n",
    "    \n",
    "    # If cache is missing, then do the heavy lifting\n",
    "    if cache_data is None:\n",
    "        # Preprocess training and test data to obtain words for each review\n",
    "        #words_train = list(map(review_to_words, data_train))\n",
    "        #words_test = list(map(review_to_words, data_test))\n",
    "        words_train = [review_to_words(review) for review in data_train]\n",
    "        words_test = [review_to_words(review) for review in data_test]\n",
    "        \n",
    "        # Write to cache file for future runs\n",
    "        if cache_file is not None:\n",
    "            cache_data = dict(words_train=words_train, words_test=words_test,\n",
    "                              labels_train=labels_train, labels_test=labels_test)\n",
    "            with open(os.path.join(cache_dir, cache_file), \"wb\") as f:\n",
    "                pickle.dump(cache_data, f)\n",
    "            print(\"Wrote preprocessed data to cache file:\", cache_file)\n",
    "    else:\n",
    "        # Unpack data loaded from cache file\n",
    "        words_train, words_test, labels_train, labels_test = (cache_data['words_train'],\n",
    "                cache_data['words_test'], cache_data['labels_train'], cache_data['labels_test'])\n",
    "    \n",
    "    return words_train, words_test, labels_train, labels_test"
   ]
  },
  {
   "cell_type": "code",
   "execution_count": 22,
   "metadata": {},
   "outputs": [
    {
     "name": "stdout",
     "output_type": "stream",
     "text": [
      "Wrote preprocessed data to cache file: preprocessed_data.pkl\n"
     ]
    }
   ],
   "source": [
    "# Preprocess data\n",
    "train_X, test_X, train_y, test_y = preprocess_data(train_X, test_X, train_y, test_y)"
   ]
  },
  {
   "cell_type": "markdown",
   "metadata": {},
   "source": [
    "### Extract Bag-of-Words features\n",
    "\n",
    "For the model we will be implementing, rather than using the reviews directly, we are going to transform each review into a Bag-of-Words feature representation. Keep in mind that 'in the wild' we will only have access to the training set so our transformer can only use the training set to construct a representation."
   ]
  },
  {
   "cell_type": "code",
   "execution_count": 23,
   "metadata": {},
   "outputs": [],
   "source": [
    "import numpy as np\n",
    "from sklearn.feature_extraction.text import CountVectorizer\n",
    "from sklearn.externals import joblib\n",
    "# joblib is an enhanced version of pickle that is more efficient for storing NumPy arrays\n",
    "\n",
    "def extract_BoW_features(words_train, words_test, vocabulary_size=5000,\n",
    "                         cache_dir=cache_dir, cache_file=\"bow_features.pkl\"):\n",
    "    \"\"\"Extract Bag-of-Words for a given set of documents, already preprocessed into words.\"\"\"\n",
    "    \n",
    "    # If cache_file is not None, try to read from it first\n",
    "    cache_data = None\n",
    "    if cache_file is not None:\n",
    "        try:\n",
    "            with open(os.path.join(cache_dir, cache_file), \"rb\") as f:\n",
    "                cache_data = joblib.load(f)\n",
    "            print(\"Read features from cache file:\", cache_file)\n",
    "        except:\n",
    "            pass  # unable to read from cache, but that's okay\n",
    "    \n",
    "    # If cache is missing, then do the heavy lifting\n",
    "    if cache_data is None:\n",
    "        # Fit a vectorizer to training documents and use it to transform them\n",
    "        # NOTE: Training documents have already been preprocessed and tokenized into words;\n",
    "        #       pass in dummy functions to skip those steps, e.g. preprocessor=lambda x: x\n",
    "        vectorizer = CountVectorizer(max_features=vocabulary_size)\n",
    "        features_train = vectorizer.fit_transform(words_train).toarray()\n",
    "\n",
    "        # Apply the same vectorizer to transform the test documents (ignore unknown words)\n",
    "        features_test = vectorizer.transform(words_test).toarray()\n",
    "        \n",
    "        # NOTE: Remember to convert the features using .toarray() for a compact representation\n",
    "        \n",
    "        # Write to cache file for future runs (store vocabulary as well)\n",
    "        if cache_file is not None:\n",
    "            vocabulary = vectorizer.vocabulary_\n",
    "            cache_data = dict(features_train=features_train, features_test=features_test,\n",
    "                             vocabulary=vocabulary)\n",
    "            with open(os.path.join(cache_dir, cache_file), \"wb\") as f:\n",
    "                joblib.dump(cache_data, f)\n",
    "            print(\"Wrote features to cache file:\", cache_file)\n",
    "    else:\n",
    "        # Unpack data loaded from cache file\n",
    "        features_train, features_test, vocabulary = (cache_data['features_train'],\n",
    "                cache_data['features_test'], cache_data['vocabulary'])\n",
    "    \n",
    "    # Return both the extracted features as well as the vocabulary\n",
    "    return features_train, features_test, vocabulary"
   ]
  },
  {
   "cell_type": "code",
   "execution_count": 24,
   "metadata": {},
   "outputs": [
    {
     "name": "stdout",
     "output_type": "stream",
     "text": [
      "Wrote features to cache file: bow_features.pkl\n"
     ]
    }
   ],
   "source": [
    "# Extract Bag of Words features for both training and test datasets\n",
    "train_X, test_X, vocabulary = extract_BoW_features(train_X, test_X)"
   ]
  },
  {
   "cell_type": "code",
   "execution_count": 27,
   "metadata": {},
   "outputs": [
    {
     "data": {
      "text/plain": [
       "5000"
      ]
     },
     "execution_count": 27,
     "metadata": {},
     "output_type": "execute_result"
    }
   ],
   "source": [
    "len(vocabulary)"
   ]
  },
  {
   "cell_type": "code",
   "execution_count": null,
   "metadata": {},
   "outputs": [],
   "source": [
    "len(train_X[100])"
   ]
  },
  {
   "cell_type": "markdown",
   "metadata": {},
   "source": [
    "## Step 3: Upload data to S3\n",
    "\n",
    "Now that we have created the feature representation of our training (and testing) data, it is time to start setting up and using the XGBoost classifier provided by SageMaker.\n",
    "\n",
    "### Writing the datasets\n",
    "\n",
    "The XGBoost classifier that we will be using requires the dataset to be written to a file and stored using Amazon S3. To do this, we will start by splitting the training dataset into two parts, the data we will train the model with and a validation set. Then, we will write those datasets to a file locally and then upload the files to S3. In addition, we will write the test set to a file and upload that file to S3. This is so that we can use SageMakers Batch Transform functionality to test our model once we've fit it."
   ]
  },
  {
   "cell_type": "code",
   "execution_count": null,
   "metadata": {},
   "outputs": [],
   "source": [
    "import pandas as pd\n",
    "\n",
    "# Earlier we shuffled the training dataset so to make things simple we can just assign\n",
    "# the first 10 000 reviews to the validation set and use the remaining reviews for training.\n",
    "val_X = pd.DataFrame(train_X[:10000])\n",
    "train_X = pd.DataFrame(train_X[10000:])\n",
    "\n",
    "val_y = pd.DataFrame(train_y[:10000])\n",
    "train_y = pd.DataFrame(train_y[10000:])"
   ]
  },
  {
   "cell_type": "markdown",
   "metadata": {},
   "source": [
    "The documentation for the XGBoost algorithm in SageMaker requires that the training and validation datasets should contain no headers or index and that the label should occur first for each sample.\n",
    "\n",
    "For more information about this and other algorithms, the SageMaker developer documentation can be found on __[Amazon's website.](https://docs.aws.amazon.com/sagemaker/latest/dg/)__"
   ]
  },
  {
   "cell_type": "code",
   "execution_count": null,
   "metadata": {},
   "outputs": [],
   "source": [
    "# First we make sure that the local directory in which we'd like to store the training and validation csv files exists.\n",
    "data_dir = '../data/sentiment_web_app'\n",
    "if not os.path.exists(data_dir):\n",
    "    os.makedirs(data_dir)"
   ]
  },
  {
   "cell_type": "code",
   "execution_count": null,
   "metadata": {},
   "outputs": [],
   "source": [
    "pd.DataFrame(test_X).to_csv(os.path.join(data_dir, 'test.csv'), header=False, index=False)\n",
    "\n",
    "pd.concat([val_y, val_X], axis=1).to_csv(os.path.join(data_dir, 'validation.csv'), header=False, index=False)\n",
    "pd.concat([train_y, train_X], axis=1).to_csv(os.path.join(data_dir, 'train.csv'), header=False, index=False)"
   ]
  },
  {
   "cell_type": "code",
   "execution_count": null,
   "metadata": {},
   "outputs": [],
   "source": [
    "# To save a bit of memory we can set text_X, train_X, val_X, train_y and val_y to None.\n",
    "\n",
    "test_X = train_X = val_X = train_y = val_y = None"
   ]
  },
  {
   "cell_type": "markdown",
   "metadata": {},
   "source": [
    "### Uploading Training / Validation files to S3\n",
    "\n",
    "Amazon's S3 service allows us to store files that can be accessed by both the built-in training models such as the XGBoost model we will be using as well as custom models such as the one we will see a little later.\n",
    "\n",
    "For this and most other tasks we will be doing using SageMaker, there are two methods we could use. The first is to use the low level functionality of SageMaker which requires knowing each of the objects involved in the SageMaker environment. The second is to use the high level functionality in which certain choices have been made on the user's behalf. The low level approach benefits from allowing the user a great deal of flexibility while the high level approach makes development much quicker. For our purposes we will opt to use the high level approach although using the low-level approach is certainly an option.\n",
    "\n",
    "Recall the method `upload_data()` which is a member of the object representing our current SageMaker session. What this method does is upload the data to the default bucket (which is created if it does not exist) into the path described by the key_prefix variable. To see this for yourself, once you have uploaded the data files, go to the S3 console and look to see where the files have been uploaded.\n",
    "\n",
    "For additional resources, see the __[SageMaker API documentation](http://sagemaker.readthedocs.io/en/latest/)__ and in addition the __[SageMaker Developer Guide.](https://docs.aws.amazon.com/sagemaker/latest/dg/)__"
   ]
  },
  {
   "cell_type": "code",
   "execution_count": null,
   "metadata": {},
   "outputs": [],
   "source": [
    "import sagemaker\n",
    "\n",
    "session = sagemaker.Session() # Store the current SageMaker session\n",
    "\n",
    "# S3 prefix (which folder will we use)\n",
    "prefix = 'sentiment-web-app'\n",
    "\n",
    "test_location = session.upload_data(os.path.join(data_dir, 'test.csv'), key_prefix=prefix)\n",
    "val_location = session.upload_data(os.path.join(data_dir, 'validation.csv'), key_prefix=prefix)\n",
    "train_location = session.upload_data(os.path.join(data_dir, 'train.csv'), key_prefix=prefix)"
   ]
  },
  {
   "cell_type": "markdown",
   "metadata": {},
   "source": [
    "## Step 4: Creating the XGBoost model\n",
    "\n",
    "Now that the data has been uploaded it is time to create the XGBoost model. To begin with, we need to do some setup. At this point it is worth discussing what a model is in SageMaker. It is easiest to think of a model of comprising three different objects in the SageMaker ecosystem, which interact with one another.\n",
    "\n",
    "- Model Artifacts\n",
    "- Training Code (Container)\n",
    "- Inference Code (Container)\n",
    "\n",
    "The Model Artifacts are what you might think of as the actual model itself. For example, if you were building a neural network, the model artifacts would be the weights of the various layers. In our case, for an XGBoost model, the artifacts are the actual trees that are created during training.\n",
    "\n",
    "The other two objects, the training code and the inference code are then used to manipulate the training artifacts. More precisely, the training code uses the training data that is provided and creates the model artifacts, while the inference code uses the model artifacts to make predictions on new data.\n",
    "\n",
    "The way that SageMaker runs the training and inference code is by making use of Docker containers. For now, think of a container as being a way of packaging code up so that dependencies aren't an issue."
   ]
  },
  {
   "cell_type": "code",
   "execution_count": null,
   "metadata": {},
   "outputs": [],
   "source": [
    "from sagemaker import get_execution_role\n",
    "\n",
    "# Our current execution role is required when creating the model as the training\n",
    "# and inference code will need to access the model artifacts.\n",
    "role = get_execution_role()"
   ]
  },
  {
   "cell_type": "code",
   "execution_count": null,
   "metadata": {},
   "outputs": [],
   "source": [
    "# We need to retrieve the location of the container which is provided by Amazon for using XGBoost.\n",
    "# As a matter of convenience, the training and inference code both use the same container.\n",
    "from sagemaker.amazon.amazon_estimator import get_image_uri\n",
    "\n",
    "container = get_image_uri(session.boto_region_name, 'xgboost')"
   ]
  },
  {
   "cell_type": "code",
   "execution_count": null,
   "metadata": {},
   "outputs": [],
   "source": [
    "# First we create a SageMaker estimator object for our model.\n",
    "xgb = sagemaker.estimator.Estimator(container, # The location of the container we wish to use\n",
    "                                    role,                                    # What is our current IAM Role\n",
    "                                    train_instance_count=1,                  # How many compute instances\n",
    "                                    train_instance_type='ml.m4.xlarge',      # What kind of compute instances\n",
    "                                    output_path='s3://{}/{}/output'.format(session.default_bucket(), prefix),\n",
    "                                    sagemaker_session=session)\n",
    "\n",
    "# And then set the algorithm specific parameters.\n",
    "xgb.set_hyperparameters(max_depth=5,\n",
    "                        eta=0.2,\n",
    "                        gamma=4,\n",
    "                        min_child_weight=6,\n",
    "                        subsample=0.8,\n",
    "                        silent=0,\n",
    "                        objective='binary:logistic',\n",
    "                        early_stopping_rounds=10,\n",
    "                        num_round=500)"
   ]
  },
  {
   "cell_type": "markdown",
   "metadata": {},
   "source": [
    "### Fit the XGBoost model\n",
    "\n",
    "Now that our model has been set up we simply need to attach the training and validation datasets and then ask SageMaker to set up the computation."
   ]
  },
  {
   "cell_type": "code",
   "execution_count": null,
   "metadata": {},
   "outputs": [],
   "source": [
    "s3_input_train = sagemaker.s3_input(s3_data=train_location, content_type='csv')\n",
    "s3_input_validation = sagemaker.s3_input(s3_data=val_location, content_type='csv')"
   ]
  },
  {
   "cell_type": "code",
   "execution_count": null,
   "metadata": {},
   "outputs": [],
   "source": [
    "xgb.fit({'train': s3_input_train, 'validation': s3_input_validation})"
   ]
  },
  {
   "cell_type": "markdown",
   "metadata": {},
   "source": [
    "## Step 5: Testing the model\n",
    "\n",
    "Now that we've fit our XGBoost model, it's time to see how well it performs. To do this we will use SageMakers Batch Transform functionality. Batch Transform is a convenient way to perform inference on a large dataset in a way that is not realtime. That is, we don't necessarily need to use our model's results immediately and instead we can perform inference on a large number of samples. An example of this in industry might be performing an end of month report. This method of inference can also be useful to us as it means that we can perform inference on our entire test set. \n",
    "\n",
    "To perform a Batch Transformation we need to first create a transformer objects from our trained estimator object."
   ]
  },
  {
   "cell_type": "code",
   "execution_count": null,
   "metadata": {},
   "outputs": [],
   "source": [
    "xgb_transformer = xgb.transformer(instance_count = 1, instance_type = 'ml.m4.xlarge')"
   ]
  },
  {
   "cell_type": "markdown",
   "metadata": {},
   "source": [
    "Next we actually perform the transform job. When doing so we need to make sure to specify the type of data we are sending so that it is serialized correctly in the background. In our case we are providing our model with csv data so we specify `text/csv`. Also, if the test data that we have provided is too large to process all at once then we need to specify how the data file should be split up. Since each line is a single entry in our data set we tell SageMaker that it can split the input on each line."
   ]
  },
  {
   "cell_type": "code",
   "execution_count": null,
   "metadata": {},
   "outputs": [],
   "source": [
    "xgb_transformer.transform(test_location, content_type='text/csv', split_type='Line')"
   ]
  },
  {
   "cell_type": "markdown",
   "metadata": {},
   "source": [
    "Currently the transform job is running but it is doing so in the background. Since we wish to wait until the transform job is done and we would like a bit of feedback we can run the `wait()` method."
   ]
  },
  {
   "cell_type": "code",
   "execution_count": null,
   "metadata": {},
   "outputs": [],
   "source": [
    "xgb_transformer.wait()"
   ]
  },
  {
   "cell_type": "markdown",
   "metadata": {},
   "source": [
    "Now the transform job has executed and the result, the estimated sentiment of each review, has been saved on S3. Since we would rather work on this file locally we can perform a bit of notebook magic to copy the file to the `data_dir`."
   ]
  },
  {
   "cell_type": "code",
   "execution_count": null,
   "metadata": {},
   "outputs": [],
   "source": [
    "!aws s3 cp --recursive $xgb_transformer.output_path $data_dir"
   ]
  },
  {
   "cell_type": "markdown",
   "metadata": {},
   "source": [
    "The last step is now to read in the output from our model, convert the output to something a little more usable, in this case we want the sentiment to be either `1` (positive) or `0` (negative), and then compare to the ground truth labels."
   ]
  },
  {
   "cell_type": "code",
   "execution_count": null,
   "metadata": {},
   "outputs": [],
   "source": [
    "predictions = pd.read_csv(os.path.join(data_dir, 'test.csv.out'), header=None)\n",
    "predictions = [round(num) for num in predictions.squeeze().values]"
   ]
  },
  {
   "cell_type": "code",
   "execution_count": null,
   "metadata": {},
   "outputs": [],
   "source": [
    "from sklearn.metrics import accuracy_score\n",
    "accuracy_score(test_y, predictions)"
   ]
  },
  {
   "cell_type": "markdown",
   "metadata": {},
   "source": [
    "## Step 6: Deploying the model\n",
    "\n",
    "Once we construct and fit our model, SageMaker stores the resulting model artifacts and we can use those to deploy an endpoint (inference code). To see this, look in the SageMaker console and you should see that a model has been created along with a link to the S3 location where the model artifacts have been stored.\n",
    "\n",
    "Deploying an endpoint is a lot like training the model with a few important differences. The first is that a deployed model doesn't change the model artifacts, so as you send it various testing instances the model won't change. Another difference is that since we aren't performing a fixed computation, as we were in the training step or while performing a batch transform, the compute instance that gets started stays running until we tell it to stop. This is important to note as if we forget and leave it running we will be charged the entire time.\n",
    "\n",
    "In other words **If you are no longer using a deployed endpoint, shut it down!**"
   ]
  },
  {
   "cell_type": "code",
   "execution_count": null,
   "metadata": {},
   "outputs": [],
   "source": [
    "xgb_predictor = xgb.deploy(initial_instance_count = 1, instance_type = 'ml.m4.xlarge')"
   ]
  },
  {
   "cell_type": "markdown",
   "metadata": {},
   "source": [
    "### Testing the model (again)\n",
    "\n",
    "Now that we have deployed our endpoint, we can send the testing data to it and get back the inference results. We already did this earlier using the batch transform functionality of SageMaker, however, we will test our model again using the newly deployed endpoint so that we can make sure that it works properly and to get a bit of a feel for how the endpoint works.\n",
    "\n",
    "When using the created endpoint it is important to know that we are limited in the amount of information we can send in each call so we need to break the testing data up into chunks and then send each chunk. Also, we need to serialize our data before we send it to the endpoint to ensure that our data is transmitted properly. Fortunately, SageMaker can do the serialization part for us provided we tell it the format of our data."
   ]
  },
  {
   "cell_type": "code",
   "execution_count": null,
   "metadata": {},
   "outputs": [],
   "source": [
    "from sagemaker.predictor import csv_serializer\n",
    "\n",
    "# We need to tell the endpoint what format the data we are sending is in so that SageMaker can perform the serialization.\n",
    "xgb_predictor.content_type = 'text/csv'\n",
    "xgb_predictor.serializer = csv_serializer"
   ]
  },
  {
   "cell_type": "code",
   "execution_count": null,
   "metadata": {},
   "outputs": [],
   "source": [
    "# We split the data into chunks and send each chunk seperately, accumulating the results.\n",
    "\n",
    "def predict(data, rows=512):\n",
    "    split_array = np.array_split(data, int(data.shape[0] / float(rows) + 1))\n",
    "    predictions = ''\n",
    "    for array in split_array:\n",
    "        predictions = ','.join([predictions, xgb_predictor.predict(array).decode('utf-8')])\n",
    "    \n",
    "    return np.fromstring(predictions[1:], sep=',')"
   ]
  },
  {
   "cell_type": "code",
   "execution_count": null,
   "metadata": {},
   "outputs": [],
   "source": [
    "test_X = pd.read_csv(os.path.join(data_dir, 'test.csv'), header=None).values\n",
    "\n",
    "predictions = predict(test_X)\n",
    "predictions = [round(num) for num in predictions]"
   ]
  },
  {
   "cell_type": "markdown",
   "metadata": {},
   "source": [
    "Lastly, we check to see what the accuracy of our model is."
   ]
  },
  {
   "cell_type": "code",
   "execution_count": null,
   "metadata": {},
   "outputs": [],
   "source": [
    "from sklearn.metrics import accuracy_score\n",
    "accuracy_score(test_y, predictions)"
   ]
  },
  {
   "cell_type": "markdown",
   "metadata": {},
   "source": [
    "And the results here should agree with the model testing that we did earlier using the batch transform job.\n",
    "\n",
    "### Cleaning up\n",
    "\n",
    "Now that we've determined that deploying our model works as expected, we are going to shut it down. Remember that the longer the endpoint is left running, the greater the cost and since we have a bit more work to do before we are able to use our endpoint with our simple web app, we should shut everything down."
   ]
  },
  {
   "cell_type": "code",
   "execution_count": null,
   "metadata": {},
   "outputs": [],
   "source": [
    "xgb_predictor.delete_endpoint()"
   ]
  },
  {
   "cell_type": "markdown",
   "metadata": {},
   "source": [
    "## Step 7: Putting our model to work\n",
    "\n",
    "As we've mentioned a few times now, our goal is to have our model deployed and then access it using a very simple web app. The intent is for this web app to take some user submitted data (a review), send it off to our endpoint (the model) and then display the result.\n",
    "\n",
    "However, there is a small catch. Currently the only way we can access the endpoint to send it data is using the SageMaker API. We can, if we wish, expose the actual URL that our model's endpoint is receiving data from, however, if we just send it data ourselves we will not get anything in return. This is because the endpoint created by SageMaker requires the entity accessing it have the correct permissions. So, we would need to somehow authenticate our web app with AWS.\n",
    "\n",
    "Having a website that authenticates to AWS seems a bit beyond the scope of this lesson so we will opt for an alternative approach. Namely, we will create a new endpoint which does not require authentication and which acts as a proxy for the SageMaker endpoint.\n",
    "\n",
    "As an additional constraint, we will try to avoid doing any data processing in the web app itself. Remember that when we constructed and tested our model we started with a movie review, then we simplified it by removing any html formatting and punctuation, then we constructed a bag of words embedding and the resulting vector is what we sent to our model. All of this needs to be done to our user input as well.\n",
    "\n",
    "Fortunately we can do all of this data processing in the backend, using Amazon's Lambda service.\n",
    "\n",
    "<img src=\"Web App Diagram.svg\">\n",
    "\n",
    "The diagram above gives an overview of how the various services will work together. On the far right is the model which we trained above and which will be deployed using SageMaker. On the far left is our web app that collects a user's movie review, sends it off and expects a positive or negative sentiment in return.\n",
    "\n",
    "In the middle is where some of the magic happens. We will construct a Lambda function, which you can think of as a straightforward Python function that can be executed whenever a specified event occurs. This Python function will do the data processing we need to perform on a user submitted review. In addition, we will give this function permission to send and recieve data from a SageMaker endpoint.\n",
    "\n",
    "Lastly, the method we will use to execute the Lambda function is a new endpoint that we will create using API Gateway. This endpoint will be a url that listens for data to be sent to it. Once it gets some data it will pass that data on to the Lambda function and then return whatever the Lambda function returns. Essentially it will act as an interface that lets our web app communicate with the Lambda function.\n",
    "\n",
    "### Processing a single review\n",
    "\n",
    "For now, suppose we are given a movie review by our user in the form of a string, like so:"
   ]
  },
  {
   "cell_type": "code",
   "execution_count": 1,
   "metadata": {},
   "outputs": [],
   "source": [
    "test_review = \"Nothing but a disgusting materialistic pageant of glistening abed remote control greed zombies, totally devoid of any heart or heat. A romantic comedy that has zero romantic chemestry and zero laughs!\""
   ]
  },
  {
   "cell_type": "markdown",
   "metadata": {},
   "source": [
    "How do we go from this string to the bag of words feature vector that is expected by our model?\n",
    "\n",
    "If we recall at the beginning of this notebook, the first step is to remove any unnecessary characters using the `review_to_words` method. Remember that we intentionally did this in a very simplistic way. This is because we are going to have to copy this method to our (eventual) Lambda function (we will go into more detail later) and this means it needs to be rather simplistic."
   ]
  },
  {
   "cell_type": "code",
   "execution_count": 4,
   "metadata": {},
   "outputs": [
    {
     "name": "stdout",
     "output_type": "stream",
     "text": [
      "nothing but a disgusting materialistic pageant of glistening abed remote control greed zombies totally devoid of any heart or heat a romantic comedy that has zero romantic chemestry and zero laughs\n"
     ]
    }
   ],
   "source": [
    "test_words = review_to_words(test_review)\n",
    "print(test_words)"
   ]
  },
  {
   "cell_type": "code",
   "execution_count": 30,
   "metadata": {},
   "outputs": [
    {
     "data": {
      "text/plain": [
       "list"
      ]
     },
     "execution_count": 30,
     "metadata": {},
     "output_type": "execute_result"
    }
   ],
   "source": [
    "type(test_words.split())"
   ]
  },
  {
   "cell_type": "code",
   "execution_count": 31,
   "metadata": {},
   "outputs": [
    {
     "data": {
      "text/plain": [
       "['nothing',\n",
       " 'but',\n",
       " 'a',\n",
       " 'disgusting',\n",
       " 'materialistic',\n",
       " 'pageant',\n",
       " 'of',\n",
       " 'glistening',\n",
       " 'abed',\n",
       " 'remote',\n",
       " 'control',\n",
       " 'greed',\n",
       " 'zombies',\n",
       " 'totally',\n",
       " 'devoid',\n",
       " 'of',\n",
       " 'any',\n",
       " 'heart',\n",
       " 'or',\n",
       " 'heat',\n",
       " 'a',\n",
       " 'romantic',\n",
       " 'comedy',\n",
       " 'that',\n",
       " 'has',\n",
       " 'zero',\n",
       " 'romantic',\n",
       " 'chemestry',\n",
       " 'and',\n",
       " 'zero',\n",
       " 'laughs']"
      ]
     },
     "execution_count": 31,
     "metadata": {},
     "output_type": "execute_result"
    }
   ],
   "source": [
    "test_words.split()"
   ]
  },
  {
   "cell_type": "code",
   "execution_count": 40,
   "metadata": {},
   "outputs": [
    {
     "data": {
      "text/plain": [
       "31"
      ]
     },
     "execution_count": 40,
     "metadata": {},
     "output_type": "execute_result"
    }
   ],
   "source": [
    "len(test_words.split())"
   ]
  },
  {
   "cell_type": "markdown",
   "metadata": {},
   "source": [
    "Next, we need to construct a bag of words embedding of the `test_words` string. To do this, remember that a bag of words embedding uses a `vocabulary` consisting of the most frequently appearing words in a set of documents. Then, for each word in the vocabulary we record the number of times that word appears in `test_words`. We constructed the `vocabulary` earlier using the training set for our problem so encoding `test_words` is relatively straightforward."
   ]
  },
  {
   "cell_type": "code",
   "execution_count": 5,
   "metadata": {},
   "outputs": [],
   "source": [
    "def bow_encoding(words, vocabulary):\n",
    "    bow = [0] * len(vocabulary) # Start by setting the count for each word in the vocabulary to zero.\n",
    "    for word in words.split():  # For each word in the string\n",
    "        if word in vocabulary:  # If the word is one that occurs in the vocabulary, increase its count.\n",
    "            bow[vocabulary[word]] += 1\n",
    "    return bow"
   ]
  },
  {
   "cell_type": "code",
   "execution_count": 41,
   "metadata": {},
   "outputs": [
    {
     "data": {
      "text/plain": [
       "2534"
      ]
     },
     "execution_count": 41,
     "metadata": {},
     "output_type": "execute_result"
    }
   ],
   "source": [
    "vocabulary['laughs']"
   ]
  },
  {
   "cell_type": "code",
   "execution_count": 42,
   "metadata": {},
   "outputs": [
    {
     "data": {
      "text/plain": [
       "1"
      ]
     },
     "execution_count": 42,
     "metadata": {},
     "output_type": "execute_result"
    }
   ],
   "source": [
    "test_bow[2534]"
   ]
  },
  {
   "cell_type": "code",
   "execution_count": 43,
   "metadata": {},
   "outputs": [
    {
     "data": {
      "text/plain": [
       "890"
      ]
     },
     "execution_count": 43,
     "metadata": {},
     "output_type": "execute_result"
    }
   ],
   "source": [
    "vocabulary['comedy']"
   ]
  },
  {
   "cell_type": "code",
   "execution_count": 45,
   "metadata": {},
   "outputs": [
    {
     "data": {
      "text/plain": [
       "1"
      ]
     },
     "execution_count": 45,
     "metadata": {},
     "output_type": "execute_result"
    }
   ],
   "source": [
    "test_bow[890]"
   ]
  },
  {
   "cell_type": "code",
   "execution_count": 48,
   "metadata": {},
   "outputs": [
    {
     "name": "stdout",
     "output_type": "stream",
     "text": [
      "3083\n",
      "2\n"
     ]
    }
   ],
   "source": [
    "print(vocabulary['of'])\n",
    "print(test_bow[vocabulary['of']])"
   ]
  },
  {
   "cell_type": "code",
   "execution_count": 52,
   "metadata": {},
   "outputs": [
    {
     "data": {
      "text/plain": [
       "2"
      ]
     },
     "execution_count": 52,
     "metadata": {},
     "output_type": "execute_result"
    }
   ],
   "source": [
    "test_bow[4996]"
   ]
  },
  {
   "cell_type": "code",
   "execution_count": 28,
   "metadata": {},
   "outputs": [
    {
     "name": "stdout",
     "output_type": "stream",
     "text": [
      "[0, 0, 0, 0, 0, 0, 0, 0, 0, 0, 0, 0, 0, 0, 0, 0, 0, 0, 0, 0, 0, 0, 0, 0, 0, 0, 0, 0, 0, 0, 0, 0, 0, 0, 0, 0, 0, 0, 0, 0, 0, 0, 0, 0, 0, 0, 0, 0, 0, 0, 0, 0, 0, 0, 0, 0, 0, 0, 0, 0, 0, 0, 0, 0, 0, 0, 0, 0, 0, 0, 0, 0, 0, 0, 0, 0, 0, 0, 0, 0, 0, 0, 0, 0, 0, 0, 0, 0, 0, 0, 0, 0, 0, 0, 0, 0, 0, 0, 0, 0, 0, 0, 0, 0, 0, 0, 0, 0, 0, 0, 0, 0, 0, 0, 0, 0, 0, 0, 0, 0, 0, 0, 0, 0, 0, 0, 0, 0, 0, 0, 0, 0, 0, 0, 0, 0, 0, 0, 0, 0, 0, 0, 0, 0, 0, 0, 0, 0, 0, 0, 0, 0, 0, 0, 0, 0, 0, 0, 0, 0, 0, 0, 0, 0, 0, 0, 0, 0, 0, 0, 0, 0, 0, 0, 0, 0, 0, 0, 0, 0, 0, 0, 0, 0, 0, 0, 0, 0, 0, 0, 0, 0, 0, 0, 0, 0, 0, 0, 0, 0, 0, 0, 0, 0, 0, 0, 0, 0, 0, 0, 0, 0, 0, 0, 0, 0, 0, 0, 0, 0, 0, 0, 0, 0, 0, 0, 1, 0, 0, 0, 0, 0, 0, 0, 0, 0, 0, 0, 0, 0, 0, 0, 0, 0, 0, 0, 0, 0, 0, 0, 0, 0, 0, 0, 0, 0, 1, 0, 0, 0, 0, 0, 0, 0, 0, 0, 0, 0, 0, 0, 0, 0, 0, 0, 0, 0, 0, 0, 0, 0, 0, 0, 0, 0, 0, 0, 0, 0, 0, 0, 0, 0, 0, 0, 0, 0, 0, 0, 0, 0, 0, 0, 0, 0, 0, 0, 0, 0, 0, 0, 0, 0, 0, 0, 0, 0, 0, 0, 0, 0, 0, 0, 0, 0, 0, 0, 0, 0, 0, 0, 0, 0, 0, 0, 0, 0, 0, 0, 0, 0, 0, 0, 0, 0, 0, 0, 0, 0, 0, 0, 0, 0, 0, 0, 0, 0, 0, 0, 0, 0, 0, 0, 0, 0, 0, 0, 0, 0, 0, 0, 0, 0, 0, 0, 0, 0, 0, 0, 0, 0, 0, 0, 0, 0, 0, 0, 0, 0, 0, 0, 0, 0, 0, 0, 0, 0, 0, 0, 0, 0, 0, 0, 0, 0, 0, 0, 0, 0, 0, 0, 0, 0, 0, 0, 0, 0, 0, 0, 0, 0, 0, 0, 0, 0, 0, 0, 0, 0, 0, 0, 0, 0, 0, 0, 0, 0, 0, 0, 0, 0, 0, 0, 0, 0, 0, 0, 0, 0, 0, 0, 0, 0, 0, 0, 0, 0, 0, 0, 0, 0, 0, 0, 0, 0, 0, 0, 0, 0, 0, 0, 0, 0, 0, 0, 0, 0, 0, 0, 0, 0, 0, 0, 0, 0, 0, 0, 0, 0, 0, 0, 0, 0, 0, 0, 0, 0, 0, 0, 0, 0, 0, 0, 0, 0, 0, 0, 0, 0, 0, 0, 0, 0, 0, 0, 0, 0, 0, 0, 0, 0, 0, 0, 0, 0, 0, 0, 0, 0, 0, 0, 0, 0, 0, 0, 0, 0, 0, 0, 0, 0, 0, 0, 0, 0, 0, 0, 0, 0, 0, 0, 0, 0, 0, 0, 0, 0, 0, 0, 0, 0, 0, 0, 0, 0, 0, 0, 0, 0, 0, 0, 0, 0, 0, 0, 0, 0, 0, 0, 0, 0, 0, 0, 0, 0, 0, 0, 0, 0, 0, 0, 0, 0, 0, 0, 0, 0, 0, 0, 0, 0, 0, 0, 0, 0, 0, 0, 0, 0, 0, 0, 0, 0, 0, 0, 0, 0, 0, 0, 0, 0, 0, 0, 0, 0, 0, 0, 0, 0, 0, 0, 0, 0, 0, 0, 0, 0, 1, 0, 0, 0, 0, 0, 0, 0, 0, 0, 0, 0, 0, 0, 0, 0, 0, 0, 0, 0, 0, 0, 0, 0, 0, 0, 0, 0, 0, 0, 0, 0, 0, 0, 0, 0, 0, 0, 0, 0, 0, 0, 0, 0, 0, 0, 0, 0, 0, 0, 0, 0, 0, 0, 0, 0, 0, 0, 0, 0, 0, 0, 0, 0, 0, 0, 0, 0, 0, 0, 0, 0, 0, 0, 0, 0, 0, 0, 0, 0, 0, 0, 0, 0, 0, 0, 0, 0, 0, 0, 0, 0, 0, 0, 0, 0, 0, 0, 0, 0, 0, 0, 0, 0, 0, 0, 0, 0, 0, 0, 0, 0, 0, 0, 0, 0, 0, 0, 0, 0, 0, 0, 0, 0, 0, 0, 0, 0, 0, 0, 0, 0, 0, 0, 0, 0, 0, 0, 0, 0, 0, 0, 0, 0, 0, 0, 0, 0, 0, 0, 0, 0, 0, 0, 0, 0, 0, 0, 0, 0, 0, 0, 0, 0, 0, 0, 0, 0, 0, 0, 0, 0, 0, 0, 0, 0, 0, 0, 0, 0, 0, 0, 0, 0, 0, 0, 0, 0, 0, 0, 0, 0, 0, 0, 0, 0, 0, 0, 0, 0, 0, 0, 0, 0, 0, 0, 0, 0, 0, 0, 0, 0, 0, 0, 0, 0, 0, 0, 0, 0, 0, 0, 0, 0, 0, 0, 0, 0, 0, 0, 0, 0, 0, 0, 0, 0, 0, 0, 0, 0, 0, 0, 0, 0, 0, 0, 0, 0, 0, 0, 0, 0, 0, 0, 1, 0, 0, 0, 0, 0, 0, 0, 0, 0, 0, 0, 0, 0, 0, 0, 0, 0, 0, 0, 0, 0, 0, 0, 0, 0, 0, 0, 0, 0, 0, 0, 0, 0, 0, 0, 0, 0, 0, 0, 0, 0, 0, 0, 0, 0, 0, 0, 0, 0, 0, 0, 0, 0, 0, 0, 0, 0, 0, 0, 0, 0, 0, 0, 0, 0, 0, 0, 0, 0, 0, 0, 0, 0, 0, 0, 0, 0, 0, 0, 0, 0, 0, 0, 0, 0, 0, 1, 0, 0, 0, 0, 0, 0, 0, 0, 0, 0, 0, 0, 0, 0, 0, 0, 0, 0, 0, 0, 0, 0, 0, 0, 0, 0, 0, 0, 0, 0, 0, 0, 0, 0, 0, 0, 0, 0, 0, 0, 0, 0, 0, 0, 0, 0, 0, 0, 0, 0, 0, 0, 0, 0, 0, 0, 0, 0, 0, 0, 0, 0, 0, 0, 0, 0, 0, 0, 0, 0, 0, 0, 0, 0, 0, 0, 0, 0, 0, 0, 0, 0, 0, 0, 0, 0, 0, 0, 0, 0, 0, 0, 0, 0, 0, 0, 0, 0, 0, 0, 0, 0, 0, 0, 0, 0, 0, 0, 0, 0, 0, 0, 0, 0, 0, 0, 0, 0, 0, 0, 0, 0, 0, 0, 0, 0, 0, 0, 0, 0, 0, 0, 0, 0, 0, 0, 0, 0, 0, 0, 0, 0, 0, 0, 0, 0, 0, 0, 0, 0, 0, 0, 0, 0, 0, 0, 0, 0, 0, 0, 0, 0, 0, 0, 0, 0, 0, 0, 0, 0, 0, 0, 0, 0, 0, 0, 0, 0, 0, 0, 0, 0, 0, 0, 0, 0, 0, 0, 0, 0, 0, 0, 0, 0, 0, 0, 0, 0, 0, 0, 0, 0, 0, 0, 0, 0, 0, 0, 0, 0, 0, 0, 0, 0, 0, 0, 0, 0, 0, 0, 0, 0, 0, 0, 0, 0, 0, 0, 0, 0, 0, 0, 0, 0, 0, 0, 0, 0, 0, 0, 0, 0, 0, 0, 0, 0, 0, 0, 0, 0, 0, 0, 1, 0, 0, 0, 0, 0, 0, 0, 0, 0, 0, 0, 0, 0, 0, 0, 0, 0, 0, 0, 0, 0, 0, 0, 0, 0, 0, 0, 0, 0, 0, 0, 0, 0, 0, 0, 0, 0, 0, 0, 0, 0, 0, 0, 0, 0, 0, 0, 0, 0, 0, 0, 0, 0, 0, 0, 1, 0, 0, 0, 0, 0, 0, 0, 0, 0, 0, 0, 0, 0, 0, 0, 0, 0, 0, 0, 0, 0, 0, 0, 0, 0, 0, 0, 0, 0, 0, 0, 0, 0, 0, 0, 0, 0, 0, 0, 0, 0, 0, 0, 0, 0, 0, 0, 0, 0, 0, 0, 0, 0, 0, 0, 0, 0, 0, 0, 0, 0, 0, 0, 0, 0, 0, 0, 0, 0, 0, 0, 0, 0, 0, 0, 0, 0, 0, 0, 0, 0, 0, 0, 0, 0, 0, 0, 0, 0, 0, 0, 0, 0, 0, 0, 0, 0, 0, 0, 0, 0, 0, 0, 0, 0, 0, 0, 0, 0, 0, 0, 0, 0, 0, 0, 0, 0, 0, 0, 0, 0, 0, 0, 0, 0, 0, 0, 0, 0, 0, 0, 0, 0, 0, 0, 0, 0, 0, 0, 0, 0, 0, 0, 0, 0, 0, 0, 0, 0, 0, 0, 0, 0, 0, 0, 0, 0, 0, 0, 0, 0, 0, 0, 0, 0, 0, 0, 0, 0, 0, 0, 0, 0, 0, 0, 0, 0, 0, 0, 0, 0, 0, 0, 0, 0, 0, 0, 0, 0, 0, 0, 0, 0, 0, 0, 0, 0, 0, 0, 0, 0, 0, 0, 0, 0, 0, 0, 0, 0, 0, 0, 0, 0, 0, 0, 0, 0, 0, 0, 0, 0, 0, 0, 0, 0, 0, 0, 0, 0, 0, 0, 0, 0, 0, 0, 0, 0, 0, 0, 0, 0, 0, 0, 0, 0, 0, 0, 0, 0, 0, 0, 0, 0, 0, 0, 0, 0, 0, 0, 0, 0, 0, 0, 0, 0, 0, 0, 0, 0, 0, 0, 0, 0, 0, 0, 0, 0, 0, 0, 0, 0, 0, 0, 0, 0, 0, 0, 0, 0, 0, 0, 0, 0, 0, 0, 0, 0, 0, 0, 0, 0, 0, 0, 0, 0, 0, 0, 0, 0, 0, 0, 0, 0, 0, 0, 0, 0, 0, 0, 0, 0, 0, 0, 0, 0, 0, 0, 0, 0, 0, 0, 0, 0, 0, 0, 0, 0, 0, 0, 0, 0, 0, 0, 0, 0, 0, 0, 0, 0, 0, 0, 0, 0, 0, 0, 0, 0, 0, 0, 0, 0, 0, 0, 0, 0, 0, 0, 0, 0, 0, 0, 0, 0, 0, 0, 0, 0, 0, 0, 0, 0, 0, 0, 0, 0, 0, 0, 0, 0, 0, 0, 0, 0, 0, 0, 0, 0, 0, 0, 0, 0, 0, 0, 0, 0, 0, 0, 0, 0, 0, 0, 0, 0, 0, 0, 0, 0, 0, 0, 0, 0, 0, 0, 0, 0, 0, 0, 0, 0, 0, 0, 0, 0, 0, 0, 0, 0, 0, 0, 0, 0, 0, 0, 0, 0, 0, 0, 0, 0, 0, 0, 0, 0, 0, 0, 0, 0, 0, 0, 0, 0, 0, 0, 0, 0, 0, 0, 0, 0, 0, 0, 0, 0, 0, 0, 0, 0, 0, 0, 0, 0, 0, 0, 0, 0, 0, 0, 0, 0, 0, 0, 0, 0, 0, 0, 0, 0, 0, 0, 0, 0, 0, 0, 0, 0, 0, 0, 0, 0, 0, 0, 0, 0, 0, 0, 0, 0, 0, 0, 0, 0, 0, 0, 0, 0, 0, 0, 0, 0, 0, 0, 0, 0, 0, 0, 0, 0, 0, 0, 0, 0, 0, 0, 0, 0, 0, 0, 0, 0, 0, 0, 0, 0, 0, 0, 0, 0, 0, 0, 0, 0, 0, 0, 0, 0, 0, 0, 0, 0, 0, 0, 0, 0, 0, 0, 0, 0, 0, 0, 0, 0, 0, 0, 0, 0, 0, 0, 0, 0, 0, 0, 0, 0, 0, 0, 0, 0, 0, 0, 0, 0, 0, 0, 0, 0, 0, 0, 0, 0, 0, 0, 0, 0, 0, 0, 0, 0, 0, 0, 0, 0, 0, 0, 0, 0, 0, 0, 0, 0, 0, 0, 0, 0, 0, 0, 0, 0, 0, 0, 0, 0, 0, 0, 0, 0, 0, 0, 0, 0, 0, 0, 0, 0, 0, 0, 0, 0, 0, 0, 0, 0, 0, 0, 0, 0, 0, 0, 0, 0, 0, 0, 0, 0, 0, 0, 0, 0, 0, 0, 0, 0, 1, 0, 0, 0, 0, 0, 0, 0, 0, 0, 0, 0, 0, 0, 0, 0, 0, 0, 0, 0, 0, 0, 0, 0, 0, 0, 0, 0, 0, 0, 0, 0, 0, 0, 0, 0, 0, 0, 0, 0, 0, 0, 0, 0, 0, 0, 0, 0, 0, 0, 0, 0, 0, 0, 0, 0, 0, 0, 0, 0, 0, 0, 0, 0, 0, 0, 0, 0, 0, 0, 0, 0, 0, 0, 0, 1, 0, 0, 0, 0, 0, 0, 0, 0, 0, 0, 0, 0, 0, 0, 0, 0, 0, 0, 0, 0, 1, 0, 0, 1, 0, 0, 0, 0, 0, 0, 0, 0, 0, 0, 0, 0, 0, 0, 0, 0, 0, 0, 0, 0, 0, 0, 0, 0, 0, 0, 0, 0, 0, 0, 0, 0, 0, 0, 0, 0, 0, 0, 0, 0, 0, 0, 0, 0, 0, 0, 0, 0, 0, 0, 0, 0, 0, 0, 0, 0, 0, 0, 0, 0, 0, 0, 0, 0, 0, 0, 0, 0, 0, 0, 0, 0, 0, 0, 0, 0, 0, 0, 0, 0, 0, 0, 0, 0, 0, 0, 0, 0, 0, 0, 0, 0, 0, 0, 0, 0, 0, 0, 0, 0, 0, 0, 0, 0, 0, 0, 0, 0, 0, 0, 0, 0, 0, 0, 0, 0, 0, 0, 0, 0, 0, 0, 0, 0, 0, 0, 0, 0, 0, 0, 0, 0, 0, 0, 0, 0, 0, 0, 0, 0, 0, 0, 0, 0, 0, 0, 0, 0, 0, 0, 0, 0, 0, 0, 0, 0, 0, 0, 0, 0, 0, 0, 0, 0, 0, 0, 0, 0, 0, 0, 0, 0, 0, 0, 0, 0, 0, 0, 0, 0, 0, 0, 0, 0, 0, 0, 0, 0, 0, 0, 0, 0, 0, 0, 0, 0, 0, 0, 0, 0, 0, 0, 0, 0, 0, 0, 0, 0, 0, 0, 0, 0, 0, 0, 0, 0, 0, 0, 0, 0, 0, 0, 0, 0, 0, 0, 0, 0, 0, 0, 0, 0, 0, 0, 0, 0, 0, 0, 0, 0, 0, 0, 0, 0, 0, 0, 0, 0, 0, 0, 0, 0, 0, 0, 0, 0, 0, 0, 0, 0, 0, 0, 0, 0, 0, 0, 0, 0, 0, 0, 0, 0, 0, 0, 0, 0, 0, 0, 0, 0, 0, 0, 0, 0, 0, 0, 0, 0, 0, 0, 0, 0, 0, 0, 0, 0, 0, 0, 0, 0, 0, 0, 0, 0, 0, 0, 0, 0, 0, 0, 0, 0, 0, 0, 0, 0, 0, 0, 0, 0, 0, 0, 0, 0, 0, 0, 0, 0, 0, 0, 0, 0, 0, 0, 0, 0, 0, 0, 0, 0, 0, 0, 0, 0, 0, 0, 0, 0, 0, 0, 0, 0, 0, 0, 0, 0, 0, 0, 0, 0, 0, 0, 0, 0, 0, 0, 0, 0, 0, 0, 0, 0, 0, 0, 0, 0, 0, 0, 0, 0, 0, 0, 0, 0, 0, 0, 0, 0, 0, 0, 0, 0, 0, 0, 0, 0, 0, 0, 0, 0, 0, 0, 0, 0, 0, 0, 0, 0, 0, 0, 0, 0, 0, 0, 0, 0, 0, 0, 0, 0, 0, 0, 0, 0, 0, 0, 0, 0, 0, 0, 0, 0, 0, 0, 0, 0, 0, 0, 0, 0, 0, 0, 0, 0, 0, 0, 0, 0, 0, 0, 0, 0, 0, 0, 0, 0, 0, 0, 0, 0, 0, 0, 0, 0, 0, 0, 1, 0, 0, 0, 0, 0, 0, 0, 0, 0, 0, 0, 0, 0, 0, 0, 0, 0, 0, 0, 0, 0, 0, 0, 0, 0, 0, 0, 0, 0, 0, 0, 0, 0, 0, 0, 0, 0, 0, 0, 0, 0, 0, 0, 0, 0, 0, 0, 0, 0, 0, 0, 0, 0, 0, 0, 0, 0, 0, 0, 0, 0, 0, 0, 0, 0, 0, 0, 0, 0, 0, 0, 0, 0, 0, 0, 0, 0, 0, 0, 0, 0, 0, 0, 0, 0, 0, 0, 0, 0, 0, 0, 0, 0, 0, 0, 0, 0, 0, 0, 0, 0, 0, 0, 0, 0, 0, 0, 0, 0, 0, 0, 0, 0, 0, 0, 0, 0, 0, 0, 0, 0, 0, 0, 0, 0, 0, 0, 0, 0, 0, 0, 0, 0, 0, 0, 0, 0, 0, 0, 0, 0, 0, 0, 0, 0, 0, 0, 0, 0, 0, 0, 0, 0, 0, 0, 0, 0, 0, 0, 0, 0, 0, 0, 0, 0, 0, 0, 0, 0, 0, 0, 0, 0, 0, 0, 0, 0, 0, 0, 0, 0, 0, 0, 0, 0, 0, 0, 0, 0, 0, 0, 0, 0, 0, 0, 0, 0, 0, 0, 0, 0, 0, 0, 0, 0, 0, 0, 0, 0, 0, 0, 0, 0, 0, 0, 0, 0, 0, 0, 0, 0, 0, 0, 0, 0, 0, 0, 0, 0, 0, 0, 0, 0, 0, 0, 0, 0, 0, 0, 0, 0, 0, 0, 0, 0, 0, 0, 0, 0, 0, 0, 0, 0, 0, 0, 0, 0, 0, 0, 0, 0, 0, 0, 0, 0, 0, 0, 0, 0, 0, 0, 0, 0, 0, 0, 0, 0, 0, 0, 0, 0, 0, 0, 0, 0, 0, 0, 0, 0, 0, 0, 0, 0, 0, 0, 0, 0, 0, 0, 0, 0, 0, 0, 0, 0, 0, 0, 0, 0, 0, 0, 0, 0, 0, 0, 0, 0, 0, 0, 0, 0, 0, 0, 0, 0, 0, 0, 0, 0, 0, 0, 0, 0, 0, 0, 0, 0, 0, 0, 0, 0, 0, 0, 0, 0, 0, 0, 0, 0, 0, 0, 0, 0, 0, 0, 0, 0, 0, 0, 0, 0, 0, 0, 0, 0, 0, 0, 0, 0, 0, 0, 0, 0, 0, 0, 0, 0, 0, 0, 0, 0, 0, 0, 0, 0, 0, 0, 0, 0, 0, 0, 0, 0, 0, 0, 0, 0, 0, 0, 0, 0, 0, 0, 0, 0, 0, 0, 0, 0, 0, 0, 0, 0, 0, 0, 0, 0, 0, 0, 0, 0, 0, 0, 0, 0, 0, 0, 0, 0, 0, 0, 0, 0, 0, 0, 0, 0, 0, 0, 0, 0, 0, 0, 0, 0, 0, 0, 0, 0, 0, 0, 0, 0, 0, 0, 0, 0, 0, 0, 0, 0, 0, 0, 0, 0, 0, 0, 0, 0, 0, 0, 0, 0, 0, 0, 0, 0, 0, 0, 0, 0, 0, 0, 0, 0, 0, 0, 0, 0, 0, 0, 0, 0, 0, 0, 0, 0, 0, 0, 0, 0, 0, 0, 0, 0, 0, 0, 0, 0, 0, 0, 0, 1, 0, 0, 0, 0, 0, 0, 0, 0, 0, 0, 0, 0, 0, 0, 0, 0, 0, 0, 0, 0, 0, 0, 0, 0, 0, 0, 0, 0, 0, 0, 0, 0, 0, 0, 0, 2, 0, 0, 0, 0, 0, 0, 0, 0, 0, 0, 0, 0, 0, 0, 0, 0, 0, 0, 0, 0, 0, 0, 0, 0, 0, 0, 0, 0, 0, 0, 0, 0, 0, 0, 0, 0, 0, 0, 0, 0, 1, 0, 0, 0, 0, 0, 0, 0, 0, 0, 0, 0, 0, 0, 0, 0, 0, 0, 0, 0, 0, 0, 0, 0, 0, 0, 0, 0, 0, 0, 0, 0, 0, 0, 0, 0, 0, 0, 0, 0, 0, 0, 0, 0, 0, 0, 0, 0, 0, 0, 0, 0, 0, 0, 0, 0, 0, 0, 0, 0, 0, 0, 0, 0, 0, 0, 0, 0, 0, 0, 0, 0, 0, 0, 0, 0, 0, 0, 0, 0, 0, 0, 0, 0, 0, 0, 0, 0, 0, 0, 0, 0, 0, 0, 0, 0, 0, 0, 0, 0, 0, 0, 0, 0, 0, 0, 0, 0, 0, 0, 0, 0, 0, 0, 0, 0, 0, 0, 0, 0, 0, 0, 0, 0, 0, 0, 0, 0, 0, 0, 0, 0, 0, 0, 0, 0, 0, 0, 0, 0, 0, 0, 0, 0, 0, 0, 0, 0, 0, 0, 0, 0, 0, 0, 0, 0, 0, 0, 0, 0, 0, 0, 0, 0, 0, 0, 0, 0, 0, 0, 0, 0, 0, 0, 0, 0, 0, 0, 0, 0, 0, 0, 0, 0, 0, 0, 0, 0, 0, 0, 0, 0, 0, 0, 0, 0, 0, 0, 0, 0, 0, 0, 0, 0, 0, 0, 0, 0, 0, 0, 0, 0, 0, 0, 0, 0, 0, 0, 0, 0, 0, 0, 0, 0, 0, 0, 0, 0, 0, 0, 0, 0, 0, 0, 0, 0, 0, 0, 0, 0, 0, 0, 0, 0, 0, 0, 0, 0, 0, 0, 0, 0, 0, 0, 0, 0, 0, 0, 0, 0, 0, 0, 0, 0, 0, 0, 0, 0, 0, 0, 0, 0, 0, 0, 0, 0, 0, 0, 0, 0, 0, 0, 0, 0, 0, 0, 0, 0, 0, 0, 0, 0, 0, 0, 0, 0, 0, 0, 0, 0, 0, 0, 0, 0, 0, 0, 0, 0, 0, 0, 0, 0, 0, 0, 0, 0, 0, 0, 0, 0, 0, 0, 0, 0, 0, 0, 0, 0, 0, 0, 0, 0, 0, 0, 0, 0, 0, 0, 0, 0, 0, 0, 0, 0, 0, 0, 0, 0, 0, 0, 0, 0, 0, 0, 0, 0, 0, 0, 0, 0, 0, 0, 0, 0, 0, 0, 0, 0, 0, 0, 0, 0, 0, 0, 0, 0, 0, 0, 0, 0, 0, 0, 0, 0, 0, 0, 0, 0, 0, 0, 0, 0, 0, 0, 0, 0, 0, 0, 0, 0, 0, 0, 0, 0, 0, 0, 0, 0, 0, 0, 0, 0, 0, 0, 0, 0, 0, 0, 0, 0, 0, 0, 0, 0, 0, 0, 0, 0, 0, 0, 0, 0, 0, 0, 0, 0, 0, 0, 0, 0, 0, 0, 0, 0, 0, 0, 0, 0, 0, 0, 0, 0, 0, 0, 0, 0, 0, 0, 0, 0, 0, 0, 0, 0, 0, 0, 0, 0, 0, 0, 0, 0, 0, 0, 0, 0, 0, 0, 0, 0, 0, 0, 0, 0, 0, 0, 0, 0, 0, 0, 0, 0, 0, 0, 0, 0, 0, 0, 1, 0, 0, 0, 0, 0, 0, 0, 0, 0, 0, 0, 0, 0, 0, 0, 0, 0, 0, 0, 0, 0, 0, 0, 0, 0, 0, 0, 0, 0, 0, 0, 0, 0, 0, 0, 0, 0, 0, 0, 0, 0, 0, 0, 0, 0, 0, 0, 0, 0, 0, 0, 0, 0, 0, 0, 0, 0, 0, 0, 0, 0, 0, 0, 0, 0, 0, 0, 0, 0, 0, 0, 0, 0, 0, 0, 0, 0, 0, 0, 0, 0, 0, 0, 0, 0, 0, 0, 0, 0, 0, 0, 0, 0, 0, 0, 0, 0, 0, 0, 0, 0, 0, 0, 0, 0, 0, 0, 0, 0, 0, 2, 0, 0, 0, 0, 0, 0, 0, 0, 0, 0, 0, 0, 0, 0, 0, 0, 0, 0, 0, 0, 0, 0, 0, 0, 0, 0, 0, 0, 0, 0, 0, 0, 0, 0, 0, 0, 0, 0, 0, 0, 0, 0, 0, 0, 0, 0, 0, 0, 0, 0, 0, 0, 0, 0, 0, 0, 0, 0, 0, 0, 0, 0, 0, 0, 0, 0, 0, 0, 0, 0, 0, 0, 0, 0, 0, 0, 0, 0, 0, 0, 0, 0, 0, 0, 0, 0, 0, 0, 0, 0, 0, 0, 0, 0, 0, 0, 0, 0, 0, 0, 0, 0, 0, 0, 0, 0, 0, 0, 0, 0, 0, 0, 0, 0, 0, 0, 0, 0, 0, 0, 0, 0, 0, 0, 0, 0, 0, 0, 0, 0, 0, 0, 0, 0, 0, 0, 0, 0, 0, 0, 0, 0, 0, 0, 0, 0, 0, 0, 0, 0, 0, 0, 0, 0, 0, 0, 0, 0, 0, 0, 0, 0, 0, 0, 0, 0, 0, 0, 0, 0, 0, 0, 0, 0, 0, 0, 0, 0, 0, 0, 0, 0, 0, 0, 0, 0, 0, 0, 0, 0, 0, 0, 0, 0, 0, 0, 0, 0, 0, 0, 0, 0, 0, 0, 0, 0, 0, 0, 0, 0, 0, 0, 0, 0, 0, 0, 0, 0, 0, 0, 0, 0, 0, 0, 0, 0, 0, 0, 0, 0, 0, 0, 0, 0, 0, 0, 0, 0, 0, 0, 0, 0, 0, 0, 0, 0, 0, 0, 0, 0, 0, 0, 0, 0, 0, 0, 0, 0, 0, 0, 0, 0, 0, 0, 0, 0, 0, 0, 0, 0, 0, 0, 0, 0, 0, 0, 0, 0, 0, 0, 0, 0, 0, 0, 0, 0, 0, 0, 0, 0, 0, 0, 0, 0, 0, 0, 0, 0, 0, 0, 0, 0, 0, 0, 0, 0, 0, 0, 0, 0, 0, 0, 0, 0, 0, 0, 0, 0, 0, 0, 0, 0, 0, 0, 0, 0, 0, 0, 0, 0, 0, 0, 0, 0, 0, 0, 0, 0, 0, 0, 0, 0, 0, 0, 0, 0, 0, 0, 0, 0, 0, 0, 0, 0, 0, 0, 0, 0, 0, 0, 0, 0, 0, 0, 0, 0, 0, 0, 0, 0, 0, 0, 0, 0, 0, 0, 0, 0, 0, 0, 0, 0, 0, 0, 0, 0, 0, 0, 0, 0, 0, 0, 0, 0, 0, 0, 0, 0, 0, 0, 0, 0, 0, 0, 0, 0, 0, 0, 0, 0, 0, 0, 0, 0, 0, 0, 0, 0, 0, 0, 0, 0, 0, 0, 0, 0, 0, 0, 0, 0, 0, 0, 0, 0, 0, 0, 0, 0, 0, 0, 0, 0, 0, 0, 0, 0, 0, 0, 0, 0, 0, 0, 0, 0, 0, 0, 0, 0, 0, 0, 0, 0, 0, 0, 0, 0, 0, 0, 0, 0, 0, 0, 0, 0, 0, 0, 0, 0, 0, 0, 0, 0, 0, 0, 0, 0, 0, 0, 0, 0, 0, 0, 0, 0, 0, 0, 0, 0, 0, 0, 0, 0, 0, 0, 0, 0, 0, 0, 0, 0, 0, 0, 0, 0, 0, 0, 0, 0, 0, 0, 0, 0, 0, 0, 0, 0, 0, 0, 0, 0, 0, 0, 0, 0, 0, 0, 0, 0, 0, 0, 0, 0, 0, 0, 0, 0, 0, 0, 0, 0, 0, 0, 0, 0, 0, 0, 0, 0, 0, 0, 0, 0, 0, 0, 0, 0, 0, 0, 0, 0, 0, 0, 0, 0, 0, 0, 0, 0, 0, 0, 0, 0, 0, 0, 0, 0, 0, 0, 0, 0, 0, 0, 0, 0, 0, 0, 0, 0, 0, 0, 0, 0, 0, 0, 0, 0, 0, 0, 0, 0, 0, 0, 0, 0, 0, 0, 0, 0, 0, 0, 0, 0, 0, 0, 0, 0, 0, 0, 0, 0, 0, 0, 0, 0, 0, 0, 0, 0, 0, 0, 0, 0, 0, 0, 0, 0, 0, 0, 0, 0, 0, 0, 0, 0, 0, 0, 0, 0, 0, 0, 0, 0, 0, 0, 0, 0, 0, 0, 0, 0, 0, 0, 0, 0, 0, 0, 0, 0, 0, 0, 0, 0, 0, 0, 0, 0, 0, 0, 0, 0, 1, 0, 0, 0, 0, 0, 0, 0, 0, 0, 0, 0, 0, 0, 0, 0, 0, 0, 0, 0, 0, 0, 0, 0, 0, 0, 0, 0, 0, 0, 0, 0, 0, 0, 0, 0, 0, 0, 0, 0, 0, 0, 0, 0, 0, 0, 0, 0, 0, 0, 0, 0, 0, 0, 0, 0, 0, 0, 0, 0, 0, 0, 0, 0, 0, 0, 0, 0, 0, 0, 0, 0, 0, 0, 0, 0, 0, 0, 0, 0, 0, 0, 0, 0, 0, 0, 0, 0, 0, 0, 0, 0, 0, 0, 0, 0, 0, 0, 0, 0, 0, 0, 0, 0, 0, 0, 0, 0, 1, 0, 0, 0, 0, 0, 0, 0, 0, 0, 0, 0, 0, 0, 0, 0, 0, 0, 0, 0, 0, 0, 0, 0, 0, 0, 0, 0, 0, 0, 0, 0, 0, 0, 0, 0, 0, 0, 0, 0, 0, 0, 0, 0, 0, 0, 0, 0, 0, 0, 0, 0, 0, 0, 0, 0, 0, 0, 0, 0, 0, 0, 0, 0, 0, 0, 0, 0, 0, 0, 0, 0, 0, 0, 0, 0, 0, 0, 0, 0, 0, 0, 0, 0, 0, 0, 0, 0, 0, 0, 0, 0, 0, 0, 0, 0, 0, 0, 0, 0, 0, 0, 0, 0, 0, 0, 0, 0, 0, 0, 0, 0, 0, 0, 0, 0, 0, 0, 0, 0, 0, 0, 0, 0, 0, 0, 0, 0, 0, 0, 0, 0, 0, 0, 0, 0, 0, 0, 0, 0, 0, 0, 0, 0, 0, 0, 0, 0, 0, 0, 0, 0, 0, 0, 0, 0, 0, 0, 0, 0, 0, 0, 0, 0, 0, 0, 0, 0, 0, 0, 0, 0, 0, 0, 0, 0, 0, 0, 0, 0, 0, 0, 0, 0, 0, 0, 0, 0, 0, 0, 0, 0, 0, 0, 0, 0, 0, 0, 0, 0, 0, 0, 0, 0, 0, 0, 0, 0, 0, 0, 0, 0, 0, 0, 0, 0, 0, 0, 0, 0, 0, 0, 0, 0, 0, 0, 0, 0, 0, 0, 0, 0, 0, 0, 0, 0, 0, 0, 0, 0, 0, 0, 0, 0, 0, 0, 0, 0, 0, 0, 0, 0, 0, 0, 0, 0, 0, 0, 0, 0, 0, 0, 0, 0, 0, 0, 0, 0, 0, 0, 0, 0, 0, 0, 0, 0, 0, 0, 0, 0, 0, 0, 0, 0, 0, 0, 0, 0, 0, 0, 0, 0, 0, 0, 0, 0, 0, 0, 0, 0, 0, 0, 0, 0, 0, 0, 0, 0, 0, 0, 0, 0, 0, 0, 0, 0, 0, 0, 0, 0, 0, 0, 0, 0, 0, 0, 0, 0, 0, 0, 0, 0, 0, 0, 0, 0, 0, 0, 0, 0, 0, 0, 0, 0, 0, 0, 0, 0, 0, 0, 0, 0, 0, 0, 0, 0, 0, 0, 0, 0, 0, 0, 0, 0, 0, 0, 0, 0, 0, 0, 0, 0, 0, 0, 0, 0, 0, 0, 0, 0, 0, 0, 0, 0, 0, 0, 0, 0, 0, 0, 0, 0, 0, 0, 0, 0, 0, 0, 0, 0, 0, 0, 0, 0, 0, 0, 0, 0, 0, 0, 0, 0, 0, 0, 0, 0, 0, 0, 0, 0, 0, 0, 0, 0, 0, 0, 0, 0, 0, 0, 0, 0, 0, 0, 0, 0, 0, 0, 0, 0, 0, 0, 0, 0, 0, 0, 0, 0, 0, 0, 0, 0, 0, 0, 0, 0, 0, 0, 0, 0, 0, 0, 0, 0, 2, 0, 1, 0]\n"
     ]
    }
   ],
   "source": [
    "test_bow = bow_encoding(test_words, vocabulary)\n",
    "print(test_bow)"
   ]
  },
  {
   "cell_type": "code",
   "execution_count": 34,
   "metadata": {},
   "outputs": [
    {
     "data": {
      "text/plain": [
       "5000"
      ]
     },
     "execution_count": 34,
     "metadata": {},
     "output_type": "execute_result"
    }
   ],
   "source": [
    "len(test_bow)"
   ]
  },
  {
   "cell_type": "code",
   "execution_count": 35,
   "metadata": {},
   "outputs": [
    {
     "data": {
      "text/plain": [
       "list"
      ]
     },
     "execution_count": 35,
     "metadata": {},
     "output_type": "execute_result"
    }
   ],
   "source": [
    "type(test_bow)"
   ]
  },
  {
   "cell_type": "code",
   "execution_count": 39,
   "metadata": {},
   "outputs": [
    {
     "data": {
      "text/plain": [
       "24"
      ]
     },
     "execution_count": 39,
     "metadata": {},
     "output_type": "execute_result"
    }
   ],
   "source": [
    "sum(test_bow)"
   ]
  },
  {
   "cell_type": "code",
   "execution_count": 38,
   "metadata": {},
   "outputs": [
    {
     "data": {
      "text/plain": [
       "{'what': 4858,\n",
       " 'loved': 2670,\n",
       " 'about': 67,\n",
       " 'the': 4426,\n",
       " 'on': 3105,\n",
       " 'screen': 3829,\n",
       " 'adaptation': 113,\n",
       " 'of': 3083,\n",
       " 'stone': 4197,\n",
       " 'angel': 231,\n",
       " 'is': 2360,\n",
       " 'that': 4424,\n",
       " 'it': 2366,\n",
       " 'stayed': 4167,\n",
       " 'so': 4046,\n",
       " 'true': 4596,\n",
       " 'to': 4507,\n",
       " 'novel': 3052,\n",
       " 'great': 1964,\n",
       " 'film': 1716,\n",
       " 'as': 311,\n",
       " 'an': 223,\n",
       " 'find': 1726,\n",
       " 'worst': 4952,\n",
       " 'thing': 4450,\n",
       " 'book': 535,\n",
       " 'somehow': 4063,\n",
       " 'gets': 1900,\n",
       " 'lost': 2660,\n",
       " 'in': 2257,\n",
       " 'translation': 4562,\n",
       " 'you': 4986,\n",
       " 'can': 665,\n",
       " 'tell': 4395,\n",
       " 'team': 4378,\n",
       " 'was': 4805,\n",
       " 'careful': 688,\n",
       " 'not': 3040,\n",
       " 'let': 2579,\n",
       " 'this': 4457,\n",
       " 'happen': 2026,\n",
       " 'with': 4911,\n",
       " 'ellen': 1446,\n",
       " 'excellent': 1555,\n",
       " 'casting': 711,\n",
       " 'choice': 797,\n",
       " 'for': 1784,\n",
       " 'role': 3726,\n",
       " 'and': 226,\n",
       " 'she': 3923,\n",
       " 'definitely': 1162,\n",
       " 'movie': 2926,\n",
       " 'however': 2183,\n",
       " 'think': 4452,\n",
       " 'canadian': 667,\n",
       " 'actress': 105,\n",
       " 'chosen': 805,\n",
       " 'play': 3296,\n",
       " 'her': 2085,\n",
       " 'younger': 4990,\n",
       " 'years': 4979,\n",
       " 'also': 199,\n",
       " 'did': 1241,\n",
       " 'incredible': 2269,\n",
       " 'job': 2405,\n",
       " 'praise': 3364,\n",
       " 'havent': 2053,\n",
       " 'seen': 3865,\n",
       " 'any': 256,\n",
       " 'previous': 3387,\n",
       " 'work': 4940,\n",
       " 'but': 636,\n",
       " 'will': 4886,\n",
       " 'seek': 3858,\n",
       " 'out': 3141,\n",
       " 'after': 143,\n",
       " 'seeing': 3857,\n",
       " 'performance': 3228,\n",
       " 'heard': 2062,\n",
       " 'theatrical': 4430,\n",
       " 'release': 3602,\n",
       " 'going': 1931,\n",
       " 'spring': 4134,\n",
       " 'or': 3124,\n",
       " 'summer': 4291,\n",
       " 'cant': 671,\n",
       " 'wait': 4770,\n",
       " 'see': 3855,\n",
       " 'big': 478,\n",
       " 'again': 146,\n",
       " 'have': 2052,\n",
       " 'no': 3020,\n",
       " 'idea': 2213,\n",
       " 'other': 3135,\n",
       " 'reviewer': 3677,\n",
       " 'talking': 4360,\n",
       " 'wonderful': 4928,\n",
       " 'created': 1037,\n",
       " 'sense': 3877,\n",
       " 'era': 1513,\n",
       " 'feels': 1687,\n",
       " 'like': 2599,\n",
       " 'time': 4495,\n",
       " 'travel': 4567,\n",
       " 'characters': 760,\n",
       " 'are': 285,\n",
       " 'truly': 4597,\n",
       " 'young': 4989,\n",
       " 'mary': 2751,\n",
       " 'strong': 4229,\n",
       " 'match': 2762,\n",
       " 'claire': 831,\n",
       " 'juvenile': 2441,\n",
       " 'tad': 4347,\n",
       " 'annoying': 249,\n",
       " 'convincing': 985,\n",
       " 'beaten': 424,\n",
       " 'down': 1335,\n",
       " 'all': 187,\n",
       " 'beautiful': 428,\n",
       " 'curious': 1083,\n",
       " 'frightening': 1839,\n",
       " 'they': 4442,\n",
       " 'gothic': 1945,\n",
       " 'works': 4945,\n",
       " 'independent': 2272,\n",
       " 'piece': 3272,\n",
       " 'shock': 3938,\n",
       " 'different': 1248,\n",
       " 'reasons': 3560,\n",
       " 'from': 1840,\n",
       " 'my': 2951,\n",
       " 'best': 469,\n",
       " 'capture': 676,\n",
       " 'must': 2950,\n",
       " 'felt': 1692,\n",
       " 'romantic': 3733,\n",
       " 'yes': 4982,\n",
       " 'completely': 922,\n",
       " 'interest': 2323,\n",
       " 'lives': 2628,\n",
       " 'shelley': 3928,\n",
       " 'every': 1539,\n",
       " 'one': 3107,\n",
       " 'favorites': 1672,\n",
       " 'spoilers': 4124,\n",
       " 'undoubtedly': 4648,\n",
       " 'based': 404,\n",
       " 'legendary': 2565,\n",
       " 'us': 4690,\n",
       " 'soft': 4051,\n",
       " 'spoken': 4126,\n",
       " 'rogers': 3725,\n",
       " 'look': 2646,\n",
       " 'alike': 185,\n",
       " 'who': 4871,\n",
       " 'ran': 3513,\n",
       " 'up': 4683,\n",
       " 'score': 3822,\n",
       " 'much': 2934,\n",
       " 'north': 3036,\n",
       " 'military': 2844,\n",
       " 'kills': 2474,\n",
       " 'during': 1387,\n",
       " 'his': 2118,\n",
       " 'two': 4620,\n",
       " 'shows': 3960,\n",
       " 'just': 2437,\n",
       " 'how': 2181,\n",
       " 'deadly': 1133,\n",
       " 'effective': 1429,\n",
       " 'trained': 4557,\n",
       " 'really': 3556,\n",
       " 'tom': 4514,\n",
       " 'cool': 989,\n",
       " 'whos': 4876,\n",
       " 'at': 331,\n",
       " 'end': 1468,\n",
       " 'career': 686,\n",
       " 'top': 4525,\n",
       " 'later': 2525,\n",
       " 'realizes': 3554,\n",
       " 'life': 2592,\n",
       " 'be': 418,\n",
       " 'pointless': 3318,\n",
       " 'since': 3990,\n",
       " 'theres': 4440,\n",
       " 'nothing': 3047,\n",
       " 'outside': 3146,\n",
       " 'him': 2110,\n",
       " 'do': 1302,\n",
       " 'skills': 4014,\n",
       " 'he': 2056,\n",
       " 'learned': 2551,\n",
       " 'unless': 4669,\n",
       " 'decides': 1150,\n",
       " 'become': 433,\n",
       " 'mob': 2879,\n",
       " 'hit': 2122,\n",
       " 'man': 2721,\n",
       " 'fate': 1665,\n",
       " 'lifetime': 2594,\n",
       " 'professional': 3421,\n",
       " 'killer': 2470,\n",
       " 'country': 1014,\n",
       " 'story': 4207,\n",
       " 'focused': 1767,\n",
       " 'former': 1800,\n",
       " 'sharp': 3922,\n",
       " 'shooting': 3943,\n",
       " 'silver': 3977,\n",
       " 'government': 1948,\n",
       " 'agent': 150,\n",
       " 'richard': 3686,\n",
       " 'miller': 2846,\n",
       " 'billy': 482,\n",
       " 'being': 448,\n",
       " 'sent': 3880,\n",
       " 'deep': 1154,\n",
       " 'inside': 2297,\n",
       " 'jungle': 2434,\n",
       " 'take': 4349,\n",
       " 'rebel': 3561,\n",
       " 'general': 1880,\n",
       " 'drug': 1373,\n",
       " 'king': 2479,\n",
       " 'supporting': 4304,\n",
       " 'planned': 3290,\n",
       " 'over': 3148,\n",
       " 'we': 4823,\n",
       " 'earlier': 1399,\n",
       " 'scope': 3821,\n",
       " 'leader': 2546,\n",
       " 'which': 4867,\n",
       " 'feel': 1684,\n",
       " 'scene': 3809,\n",
       " 'step': 4175,\n",
       " 'by': 642,\n",
       " 'help': 2079,\n",
       " 'does': 1308,\n",
       " 'sub': 4252,\n",
       " 'plot': 3309,\n",
       " 'killed': 2469,\n",
       " 'were': 4848,\n",
       " 'both': 547,\n",
       " 'waiting': 4772,\n",
       " 'helicopter': 2076,\n",
       " 'would': 4957,\n",
       " 'thought': 4462,\n",
       " 'cat': 713,\n",
       " 'mouse': 2919,\n",
       " 'played': 3297,\n",
       " 'between': 475,\n",
       " 'when': 4862,\n",
       " 'ended': 1470,\n",
       " 'had': 2003,\n",
       " 'trouble': 4592,\n",
       " 'early': 1400,\n",
       " 'using': 4698,\n",
       " 'hurt': 2202,\n",
       " 'most': 2909,\n",
       " 'ironically': 2356,\n",
       " 'last': 2521,\n",
       " 'fifteen': 1706,\n",
       " 'minutes': 2859,\n",
       " 'went': 4847,\n",
       " 'shot': 3949,\n",
       " 'kill': 2468,\n",
       " 'rambo': 3511,\n",
       " 'ending': 1471,\n",
       " 'fighting': 1709,\n",
       " 'off': 3084,\n",
       " 'entire': 1502,\n",
       " 'bullets': 621,\n",
       " 'flying': 1764,\n",
       " 'thick': 4447,\n",
       " 'london': 2641,\n",
       " 'still': 4188,\n",
       " 'well': 4843,\n",
       " 'worth': 4953,\n",
       " 'watching': 4815,\n",
       " 'fact': 1621,\n",
       " 'tells': 4397,\n",
       " 'person': 3238,\n",
       " 'until': 4680,\n",
       " 'now': 3054,\n",
       " 'has': 2043,\n",
       " 'been': 438,\n",
       " 'war': 4792,\n",
       " 'movies': 2927,\n",
       " 'skill': 4013,\n",
       " 'master': 2757,\n",
       " 'diamond': 1236,\n",
       " 'accomplished': 87,\n",
       " 'total': 4531,\n",
       " 'led': 2558,\n",
       " 'captain': 674,\n",
       " 'storm': 4206,\n",
       " 'mark': 2739,\n",
       " 'travels': 4569,\n",
       " 'valley': 4707,\n",
       " 'kings': 2481,\n",
       " 'happened': 2027,\n",
       " 'meet': 2793,\n",
       " 'mysterious': 2955,\n",
       " 'them': 4432,\n",
       " 'soon': 4074,\n",
       " 'themselves': 4435,\n",
       " 'faced': 1617,\n",
       " 'blood': 512,\n",
       " 'drinking': 1362,\n",
       " 'only': 3110,\n",
       " 'seems': 3864,\n",
       " 'know': 2489,\n",
       " 'whats': 4860,\n",
       " 'real': 3547,\n",
       " 'caught': 722,\n",
       " 'late': 2523,\n",
       " 'night': 3013,\n",
       " 'tv': 4610,\n",
       " '10': 0,\n",
       " 'put': 3480,\n",
       " 'me': 2778,\n",
       " 'sleep': 4024,\n",
       " 'these': 4441,\n",
       " 'why': 4878,\n",
       " 'its': 2370,\n",
       " 'slow': 4031,\n",
       " 'moving': 2928,\n",
       " 'mummy': 2937,\n",
       " 'doesnt': 1309,\n",
       " 'even': 1533,\n",
       " 'show': 3953,\n",
       " '40': 48,\n",
       " 'long': 2644,\n",
       " 'acting': 99,\n",
       " 'bad': 382,\n",
       " 'george': 1893,\n",
       " 'violence': 4747,\n",
       " 'found': 1811,\n",
       " 'more': 2904,\n",
       " 'second': 3846,\n",
       " 'rate': 3526,\n",
       " 'involving': 2349,\n",
       " 'silly': 3976,\n",
       " 'love': 2669,\n",
       " 'than': 4420,\n",
       " 'horror': 2168,\n",
       " 'three': 4469,\n",
       " 'stars': 4155,\n",
       " 'because': 432,\n",
       " 'actually': 109,\n",
       " 'looks': 2649,\n",
       " 'pretty': 3384,\n",
       " 'good': 1937,\n",
       " 'everyone': 1542,\n",
       " 'plays': 3301,\n",
       " 'straight': 4210,\n",
       " 'some': 4061,\n",
       " 'diane': 1238,\n",
       " 'short': 3946,\n",
       " 'attack': 337,\n",
       " 'scenes': 3811,\n",
       " 'arent': 288,\n",
       " 'theyre': 4445,\n",
       " 'scary': 3807,\n",
       " 'mildly': 2840,\n",
       " 'creepy': 1052,\n",
       " 'sure': 4308,\n",
       " 'fire': 1734,\n",
       " 'cure': 1081,\n",
       " 'im': 2232,\n",
       " 'grand': 1953,\n",
       " 'epic': 1506,\n",
       " 'american': 213,\n",
       " 'revolutionary': 3681,\n",
       " 'aint': 163,\n",
       " 'matter': 2769,\n",
       " 'neither': 2996,\n",
       " 'saw': 3798,\n",
       " 'screening': 3830,\n",
       " 'old': 3100,\n",
       " 'mgm': 2828,\n",
       " 'studios': 4241,\n",
       " 'before': 440,\n",
       " 'came': 656,\n",
       " 'audience': 352,\n",
       " 'high': 2100,\n",
       " 'expectations': 1576,\n",
       " 'expensive': 1579,\n",
       " 'period': 3236,\n",
       " 'written': 4972,\n",
       " 'veteran': 4724,\n",
       " 'robert': 3713,\n",
       " 'directed': 1259,\n",
       " 'hugh': 2186,\n",
       " 'hudson': 2184,\n",
       " 'fame': 1642,\n",
       " 'starring': 4154,\n",
       " 'al': 170,\n",
       " 'pacino': 3164,\n",
       " 'didnt': 1242,\n",
       " 'people': 3221,\n",
       " 'start': 4156,\n",
       " 'their': 4431,\n",
       " 'comments': 901,\n",
       " 'horribly': 2164,\n",
       " 'accent': 78,\n",
       " 'supposed': 4306,\n",
       " 'scottish': 3825,\n",
       " 'recently': 3567,\n",
       " 'england': 1482,\n",
       " 'then': 4436,\n",
       " 'started': 4157,\n",
       " 'downhill': 1336,\n",
       " 'fast': 1661,\n",
       " 'motivations': 2915,\n",
       " 'dialogue': 1234,\n",
       " 'atrocious': 335,\n",
       " 'events': 1536,\n",
       " 'historical': 2119,\n",
       " 'political': 3324,\n",
       " 'context': 968,\n",
       " 'there': 4438,\n",
       " 'forward': 1808,\n",
       " 'absurd': 73,\n",
       " 'third': 4455,\n",
       " 'lovers': 2673,\n",
       " 'into': 2332,\n",
       " 'each': 1395,\n",
       " 'joke': 2414,\n",
       " 'donald': 1321,\n",
       " 'sutherland': 4333,\n",
       " 'gave': 1875,\n",
       " 'british': 589,\n",
       " 'officer': 3092,\n",
       " 'map': 2733,\n",
       " 'too': 4522,\n",
       " 'guess': 1989,\n",
       " 'werent': 4849,\n",
       " 'english': 1483,\n",
       " 'actors': 104,\n",
       " 'available': 361,\n",
       " 'lots': 2662,\n",
       " 'left': 2561,\n",
       " 'those': 4460,\n",
       " 'tried': 4584,\n",
       " 'stuck': 4237,\n",
       " 'figured': 1712,\n",
       " 'least': 2554,\n",
       " 'battle': 414,\n",
       " 'might': 2835,\n",
       " 'wrong': 4973,\n",
       " 'chose': 804,\n",
       " 'hand': 2015,\n",
       " 'held': 2074,\n",
       " 'cameras': 660,\n",
       " 'giving': 1915,\n",
       " 'ruined': 3751,\n",
       " 'scale': 3802,\n",
       " 'semi': 3874,\n",
       " 'famous': 1647,\n",
       " 'few': 1700,\n",
       " 'ahead': 159,\n",
       " 'gary': 1873,\n",
       " 'channel': 753,\n",
       " 'news': 3005,\n",
       " 'could': 1007,\n",
       " 'behavior': 446,\n",
       " 'rest': 3657,\n",
       " 'enough': 1491,\n",
       " 'segment': 3867,\n",
       " 'next': 3007,\n",
       " 'day': 1129,\n",
       " 'notorious': 3051,\n",
       " 'while': 4868,\n",
       " 'clearly': 840,\n",
       " 'art': 304,\n",
       " 'disaster': 1276,\n",
       " 'star': 4150,\n",
       " 'another': 250,\n",
       " 'almost': 193,\n",
       " 'never': 3001,\n",
       " 'say': 3799,\n",
       " 'warn': 4797,\n",
       " '14': 6,\n",
       " 'under': 4639,\n",
       " 'contract': 973,\n",
       " 'made': 2697,\n",
       " 'feature': 1678,\n",
       " 'judy': 2426,\n",
       " 'year': 4978,\n",
       " 'first': 1736,\n",
       " 'louis': 2665,\n",
       " 'decided': 1149,\n",
       " 'need': 2987,\n",
       " 'singers': 3994,\n",
       " 'placed': 3283,\n",
       " 'bet': 470,\n",
       " 'go': 1924,\n",
       " 'universal': 4665,\n",
       " 'immediately': 2242,\n",
       " 'signed': 3971,\n",
       " 'rushed': 3760,\n",
       " 'smart': 4035,\n",
       " 'girls': 1911,\n",
       " 'screenplay': 3831,\n",
       " 'part': 3193,\n",
       " 'shes': 3930,\n",
       " 'equivalent': 1512,\n",
       " 'lights': 2597,\n",
       " 'around': 297,\n",
       " 'name': 2960,\n",
       " 'convinced': 984,\n",
       " 'right': 3696,\n",
       " 'less': 2575,\n",
       " 'musical': 2947,\n",
       " 'comedy': 890,\n",
       " '15': 7,\n",
       " 'released': 3603,\n",
       " 'carries': 699,\n",
       " 'craig': 1030,\n",
       " 'older': 3101,\n",
       " 'sisters': 4002,\n",
       " 'joan': 2404,\n",
       " 'kay': 2447,\n",
       " 'determined': 1221,\n",
       " 'save': 3794,\n",
       " 'father': 1666,\n",
       " 'mother': 2911,\n",
       " 'elegant': 1441,\n",
       " 'gold': 1932,\n",
       " 'talk': 4358,\n",
       " 'way': 4820,\n",
       " 'where': 4864,\n",
       " 'live': 2625,\n",
       " 'new': 3003,\n",
       " 'york': 4985,\n",
       " 'city': 825,\n",
       " 'plan': 3287,\n",
       " 'break': 569,\n",
       " 'fathers': 1667,\n",
       " 'wedding': 4836,\n",
       " 'ten': 4399,\n",
       " 'apart': 264,\n",
       " 'loves': 2674,\n",
       " 'guy': 2000,\n",
       " 'doubt': 1332,\n",
       " 'sing': 3992,\n",
       " 'song': 4071,\n",
       " 'warm': 4794,\n",
       " 'finding': 1727,\n",
       " 'material': 2766,\n",
       " 'along': 195,\n",
       " 'saying': 3800,\n",
       " 'couldnt': 1008,\n",
       " 'keep': 2449,\n",
       " 'playing': 3300,\n",
       " 'little': 2624,\n",
       " 'miss': 2866,\n",
       " 'forever': 1792,\n",
       " 'course': 1019,\n",
       " 'pat': 3208,\n",
       " 'funny': 1852,\n",
       " 'things': 4451,\n",
       " 'natural': 2973,\n",
       " 'personality': 3242,\n",
       " 'genuine': 1891,\n",
       " 'makes': 2716,\n",
       " 'mix': 2876,\n",
       " 'farce': 1654,\n",
       " 'confusion': 943,\n",
       " 'intentions': 2321,\n",
       " 'downright': 1337,\n",
       " 'endearing': 1469,\n",
       " 'ease': 1404,\n",
       " 'lot': 2661,\n",
       " 'fun': 1848,\n",
       " 'hold': 2129,\n",
       " 'own': 3158,\n",
       " 'against': 147,\n",
       " 'likes': 2602,\n",
       " 'donna': 1323,\n",
       " 'woman': 4921,\n",
       " 'rich': 3685,\n",
       " 'charles': 764,\n",
       " 'stealing': 4171,\n",
       " 'either': 1438,\n",
       " 'alice': 182,\n",
       " 'brady': 561,\n",
       " 'daughter': 1121,\n",
       " 'ray': 3533,\n",
       " 'lord': 2652,\n",
       " 'michael': 2829,\n",
       " 'through': 4477,\n",
       " 'contrived': 976,\n",
       " 'amusing': 221,\n",
       " 'mistaken': 2872,\n",
       " 'holds': 2131,\n",
       " 'light': 2595,\n",
       " 'weight': 4840,\n",
       " 'ups': 4686,\n",
       " 'brand': 565,\n",
       " 'huge': 2185,\n",
       " 'success': 4265,\n",
       " 'saved': 3795,\n",
       " '11': 2,\n",
       " 'mr': 2929,\n",
       " 'whole': 4873,\n",
       " 'family': 1645,\n",
       " 'believe': 454,\n",
       " 'sun': 4292,\n",
       " 'nights': 3016,\n",
       " 'gags': 1862,\n",
       " 'rob': 3710,\n",
       " 'opening': 3114,\n",
       " 'use': 4692,\n",
       " 'spot': 4131,\n",
       " 'finally': 1724,\n",
       " 'kicking': 2462,\n",
       " 'door': 1328,\n",
       " 'open': 3112,\n",
       " 'taking': 4352,\n",
       " 'episode': 1507,\n",
       " 'dress': 1357,\n",
       " 'shirt': 3937,\n",
       " 'missed': 2867,\n",
       " 'timing': 4498,\n",
       " 'everything': 1544,\n",
       " 'got': 1944,\n",
       " 'laughs': 2534,\n",
       " 'remember': 3616,\n",
       " 'aunt': 355,\n",
       " 'jack': 2373,\n",
       " 'always': 203,\n",
       " 'wanted': 4789,\n",
       " 'something': 4066,\n",
       " 'scientific': 3817,\n",
       " 'come': 886,\n",
       " 'causing': 726,\n",
       " 'brilliant': 583,\n",
       " 'stole': 4194,\n",
       " 'continue': 969,\n",
       " 'series': 3890,\n",
       " 'quit': 3494,\n",
       " 'afraid': 140,\n",
       " 'somewhere': 4069,\n",
       " '1st': 28,\n",
       " 'anyway': 261,\n",
       " 'tiny': 4500,\n",
       " 'tim': 4494,\n",
       " 'nancy': 2964,\n",
       " 'ever': 1538,\n",
       " 'cover': 1022,\n",
       " 'guide': 1993,\n",
       " 'press': 3379,\n",
       " 'major': 2711,\n",
       " 'trip': 4588,\n",
       " 'museum': 2945,\n",
       " 'nyc': 3065,\n",
       " 'ago': 154,\n",
       " 'disappointing': 1274,\n",
       " 'very': 4723,\n",
       " 'episodes': 1508,\n",
       " 'gone': 1935,\n",
       " 'wish': 4904,\n",
       " 'fairly': 1631,\n",
       " 'knowledge': 2491,\n",
       " 'german': 1896,\n",
       " 'cinema': 816,\n",
       " 'surely': 4309,\n",
       " 'numerous': 3062,\n",
       " 'films': 1721,\n",
       " 'girl': 1909,\n",
       " 'having': 2054,\n",
       " 'troubles': 4594,\n",
       " 'boy': 557,\n",
       " 'friend': 1835,\n",
       " 'such': 4268,\n",
       " 'shown': 3959,\n",
       " 'provided': 3449,\n",
       " 'if': 2222,\n",
       " 'captivating': 675,\n",
       " 'todays': 4509,\n",
       " 'challenging': 744,\n",
       " 'audiences': 353,\n",
       " 'maker': 2714,\n",
       " 'principal': 3398,\n",
       " 'protagonist': 3441,\n",
       " 'everybody': 1540,\n",
       " 'including': 2264,\n",
       " 'bold': 528,\n",
       " 'face': 1616,\n",
       " 'punishment': 3467,\n",
       " 'kinds': 2478,\n",
       " 'criminal': 1057,\n",
       " 'activities': 102,\n",
       " 'originally': 3131,\n",
       " 'blown': 516,\n",
       " 'afterwards': 145,\n",
       " '35': 45,\n",
       " 'technical': 4381,\n",
       " 'our': 3139,\n",
       " 'learn': 2550,\n",
       " 'becoming': 435,\n",
       " 'run': 3755,\n",
       " 'mill': 2845,\n",
       " 'someone': 4064,\n",
       " 'state': 4160,\n",
       " 'positive': 3346,\n",
       " 'aspect': 321,\n",
       " 'may': 2775,\n",
       " 'involvement': 2347,\n",
       " 'result': 3660,\n",
       " 'human': 2188,\n",
       " 'unique': 4662,\n",
       " 'accurate': 90,\n",
       " 'takes': 4351,\n",
       " 'research': 3644,\n",
       " 'writing': 4971,\n",
       " 'pays': 3218,\n",
       " 'truth': 4599,\n",
       " 'though': 4461,\n",
       " 'draw': 1349,\n",
       " 'reviews': 3679,\n",
       " 'stories': 4205,\n",
       " 'clean': 838,\n",
       " 'sweet': 4336,\n",
       " 'once': 3106,\n",
       " 'brings': 587,\n",
       " 'christopher': 811,\n",
       " 'acted': 98,\n",
       " 'presented': 3376,\n",
       " 'poignant': 3315,\n",
       " 'done': 1322,\n",
       " 'hat': 2045,\n",
       " 'writer': 4968,\n",
       " 'production': 3419,\n",
       " 'crew': 1053,\n",
       " 'watch': 4811,\n",
       " 'aired': 165,\n",
       " 'memory': 2804,\n",
       " '1960s': 15,\n",
       " 'mike': 2838,\n",
       " 'kenneth': 2455,\n",
       " 'resist': 3648,\n",
       " 'challenge': 743,\n",
       " 'should': 3951,\n",
       " 'known': 2492,\n",
       " 'better': 472,\n",
       " 'quite': 3495,\n",
       " 'remake': 3612,\n",
       " 'parody': 3192,\n",
       " 'homage': 2141,\n",
       " 'cartoon': 704,\n",
       " 'plots': 3310,\n",
       " 'main': 2707,\n",
       " 'fox': 1814,\n",
       " 'act': 97,\n",
       " 'bob': 524,\n",
       " 'painful': 3171,\n",
       " 'cast': 710,\n",
       " 'merely': 2815,\n",
       " 'comedian': 887,\n",
       " 'wanting': 4790,\n",
       " 'far': 1653,\n",
       " 'aware': 368,\n",
       " 'situation': 4008,\n",
       " 'cgi': 740,\n",
       " 'effects': 1431,\n",
       " 'improvement': 2256,\n",
       " '30': 42,\n",
       " 'viewer': 4738,\n",
       " 'camera': 659,\n",
       " 'mask': 2752,\n",
       " 'poor': 3328,\n",
       " 'quality': 3484,\n",
       " 'scripts': 3836,\n",
       " 'style': 4249,\n",
       " 'substance': 4258,\n",
       " 'whereas': 4865,\n",
       " 'dated': 1119,\n",
       " 'matrix': 2767,\n",
       " 'power': 3359,\n",
       " 'subtle': 4260,\n",
       " 'tension': 4404,\n",
       " 'living': 2629,\n",
       " 'leads': 2548,\n",
       " 'glory': 1922,\n",
       " 'days': 1130,\n",
       " '90s': 61,\n",
       " 'god': 1926,\n",
       " 'soul': 4079,\n",
       " 'turn': 4605,\n",
       " 'central': 735,\n",
       " 'hour': 2176,\n",
       " 'greatest': 1966,\n",
       " 'saturday': 3792,\n",
       " 'glorious': 1921,\n",
       " 'whether': 4866,\n",
       " 'original': 3129,\n",
       " 'ready': 3546,\n",
       " 'players': 3299,\n",
       " 'golden': 1934,\n",
       " 'age': 148,\n",
       " 'snl': 4044,\n",
       " 'featuring': 1681,\n",
       " 'chris': 806,\n",
       " 'adam': 111,\n",
       " 'sandler': 3781,\n",
       " 'david': 1124,\n",
       " 'hell': 2077,\n",
       " 'exposed': 1598,\n",
       " 'half': 2007,\n",
       " 'passed': 3202,\n",
       " 'terrible': 4407,\n",
       " 'many': 2732,\n",
       " 'horrible': 2163,\n",
       " 'flaws': 1752,\n",
       " 'suppose': 4305,\n",
       " 'ill': 2228,\n",
       " 'bathroom': 412,\n",
       " 'humor': 2192,\n",
       " 'enjoyed': 1486,\n",
       " 'ms': 2931,\n",
       " 'talents': 4356,\n",
       " 'magnificent': 2705,\n",
       " 'alex': 179,\n",
       " 'talented': 4355,\n",
       " 'actor': 103,\n",
       " 'although': 201,\n",
       " 'ha': 2002,\n",
       " 'moments': 2887,\n",
       " 'endless': 1473,\n",
       " 'line': 2610,\n",
       " 'drivel': 1364,\n",
       " 'idiots': 2220,\n",
       " 'cameo': 657,\n",
       " 'theater': 4427,\n",
       " 'south': 4087,\n",
       " 'beach': 419,\n",
       " 'club': 863,\n",
       " 'wild': 4885,\n",
       " '60s': 54,\n",
       " 'home': 2142,\n",
       " 'generation': 1883,\n",
       " 'sexual': 3908,\n",
       " 'revolution': 3680,\n",
       " 'quest': 3486,\n",
       " 'conflict': 939,\n",
       " 'following': 1774,\n",
       " 'ones': 3108,\n",
       " 'seeking': 3859,\n",
       " 'paced': 3162,\n",
       " 'highly': 2105,\n",
       " 'enjoyable': 1485,\n",
       " 'vegas': 4717,\n",
       " 'sin': 3988,\n",
       " 'women': 4923,\n",
       " 'cameos': 658,\n",
       " 'romance': 3732,\n",
       " 'happy': 2032,\n",
       " 'poster': 3353,\n",
       " 'bedroom': 437,\n",
       " 'wall': 4781,\n",
       " 'back': 378,\n",
       " 'youth': 4994,\n",
       " 'times': 4497,\n",
       " 'dad': 1095,\n",
       " 'reminds': 3620,\n",
       " '80s': 59,\n",
       " 'john': 2409,\n",
       " 'place': 3282,\n",
       " 'world': 4946,\n",
       " 'attractive': 351,\n",
       " 'easily': 1406,\n",
       " 'conflicts': 940,\n",
       " 'occasionally': 3075,\n",
       " 'away': 369,\n",
       " 'mostly': 2910,\n",
       " 'proceedings': 3410,\n",
       " 'vast': 4716,\n",
       " 'amounts': 220,\n",
       " 'set': 3898,\n",
       " 'pop': 3330,\n",
       " 'tunes': 4603,\n",
       " 'absolute': 71,\n",
       " 'treat': 4572,\n",
       " 'beginning': 443,\n",
       " 'wife': 4884,\n",
       " 'ourselves': 3140,\n",
       " 'totally': 4532,\n",
       " 'won': 4925,\n",
       " 'making': 2718,\n",
       " 'embarrassing': 1454,\n",
       " 'admit': 122,\n",
       " 'room': 3735,\n",
       " 'theatre': 4429,\n",
       " 'enjoy': 1484,\n",
       " 'grade': 1951,\n",
       " 'features': 1680,\n",
       " 'ok': 3098,\n",
       " 'dr': 1340,\n",
       " 'credits': 1050,\n",
       " 'special': 4097,\n",
       " 'low': 2676,\n",
       " 'budget': 610,\n",
       " 'mad': 2696,\n",
       " 'scientist': 3818,\n",
       " 'nude': 3058,\n",
       " 'buffs': 612,\n",
       " 'simply': 3986,\n",
       " 'here': 2086,\n",
       " 'anne': 246,\n",
       " 'get': 1899,\n",
       " 'excited': 1561,\n",
       " 'realize': 3552,\n",
       " 'summary': 4290,\n",
       " 'free': 1827,\n",
       " 'ticket': 4487,\n",
       " 'dont': 1324,\n",
       " 'offended': 3085,\n",
       " 'travesty': 4570,\n",
       " 'call': 651,\n",
       " 'walked': 4776,\n",
       " 'unfortunately': 4654,\n",
       " 'consider': 949,\n",
       " 'mistakes': 2873,\n",
       " 'thus': 4486,\n",
       " 'became': 431,\n",
       " 'pure': 3471,\n",
       " 'closing': 859,\n",
       " 'demon': 1177,\n",
       " 'child': 789,\n",
       " 'sticks': 4186,\n",
       " 'head': 2057,\n",
       " 'behind': 447,\n",
       " 'sign': 3970,\n",
       " 'says': 3801,\n",
       " 'problem': 3408,\n",
       " 'coming': 896,\n",
       " 'hands': 2020,\n",
       " 'terrifying': 4410,\n",
       " 'moment': 2886,\n",
       " 'recorded': 3574,\n",
       " 'recall': 3562,\n",
       " 'involved': 2346,\n",
       " 'ritter': 3705,\n",
       " 'perhaps': 3235,\n",
       " 'ive': 2372,\n",
       " 'without': 4913,\n",
       " 'block': 508,\n",
       " 'mind': 2849,\n",
       " 'maybe': 2776,\n",
       " 'intent': 2318,\n",
       " 'fail': 1625,\n",
       " 'miserably': 2864,\n",
       " 'frame': 1815,\n",
       " 'remains': 3611,\n",
       " 'horrid': 2165,\n",
       " 'forget': 1793,\n",
       " 'baby': 376,\n",
       " 'kid': 2464,\n",
       " 'cake': 648,\n",
       " 'difference': 1246,\n",
       " 'sorry': 4076,\n",
       " 'hes': 2093,\n",
       " 'impossible': 2249,\n",
       " 'likely': 2601,\n",
       " 'character': 758,\n",
       " 'portrayed': 3342,\n",
       " 'want': 4788,\n",
       " 'spoiler': 4123,\n",
       " 'anyone': 259,\n",
       " 'cares': 690,\n",
       " 'yelling': 4980,\n",
       " 'send': 3875,\n",
       " 'shocked': 3939,\n",
       " 'several': 3905,\n",
       " 'given': 1913,\n",
       " 'imdb': 2240,\n",
       " 'superman': 4301,\n",
       " 'worse': 4951,\n",
       " 'quote': 3496,\n",
       " 'said': 3774,\n",
       " 'sequel': 3885,\n",
       " 'dragged': 1343,\n",
       " 'dead': 1132,\n",
       " 'body': 527,\n",
       " 'perform': 3227,\n",
       " 'rather': 3528,\n",
       " '24': 39,\n",
       " 'police': 3322,\n",
       " 'academy': 77,\n",
       " 'sequels': 3886,\n",
       " 'twenty': 4612,\n",
       " 'give': 1912,\n",
       " 'negative': 2991,\n",
       " 'deserves': 1201,\n",
       " 'burn': 625,\n",
       " ...}"
      ]
     },
     "execution_count": 38,
     "metadata": {},
     "output_type": "execute_result"
    }
   ],
   "source": [
    "vocabulary"
   ]
  },
  {
   "cell_type": "markdown",
   "metadata": {},
   "source": [
    "So now we know how to construct a bag of words encoding of a user provided review, how to we send it to our endpoint? First, we need to start the endpoint back up."
   ]
  },
  {
   "cell_type": "code",
   "execution_count": 53,
   "metadata": {},
   "outputs": [
    {
     "ename": "NameError",
     "evalue": "name 'xgb' is not defined",
     "output_type": "error",
     "traceback": [
      "\u001b[0;31m---------------------------------------------------------------------------\u001b[0m",
      "\u001b[0;31mNameError\u001b[0m                                 Traceback (most recent call last)",
      "\u001b[0;32m<ipython-input-53-ccb632c8fb45>\u001b[0m in \u001b[0;36m<module>\u001b[0;34m()\u001b[0m\n\u001b[0;32m----> 1\u001b[0;31m \u001b[0mxgb_predictor\u001b[0m \u001b[0;34m=\u001b[0m \u001b[0mxgb\u001b[0m\u001b[0;34m.\u001b[0m\u001b[0mdeploy\u001b[0m\u001b[0;34m(\u001b[0m\u001b[0minitial_instance_count\u001b[0m \u001b[0;34m=\u001b[0m \u001b[0;36m1\u001b[0m\u001b[0;34m,\u001b[0m \u001b[0minstance_type\u001b[0m \u001b[0;34m=\u001b[0m \u001b[0;34m'ml.m4.xlarge'\u001b[0m\u001b[0;34m)\u001b[0m\u001b[0;34m\u001b[0m\u001b[0m\n\u001b[0m",
      "\u001b[0;31mNameError\u001b[0m: name 'xgb' is not defined"
     ]
    }
   ],
   "source": [
    "xgb_predictor = xgb.deploy(initial_instance_count = 1, instance_type = 'ml.m4.xlarge')"
   ]
  },
  {
   "cell_type": "markdown",
   "metadata": {},
   "source": [
    "At this point we could just do the same thing that we did earlier when we tested our deployed model and send `test_bow` to our endpoint using the `xgb_predictor` object. However, when we eventually construct our Lambda function we won't have access to this object, so how do we call a SageMaker endpoint?\n",
    "\n",
    "It turns out that Python functions that are used in Lambda have access to another Amazon library called `boto3`. This library provides an API for working with Amazon services, including SageMaker. To start with, we need to get a handle to the SageMaker runtime."
   ]
  },
  {
   "cell_type": "code",
   "execution_count": null,
   "metadata": {},
   "outputs": [],
   "source": [
    "import boto3\n",
    "\n",
    "runtime = boto3.Session().client('sagemaker-runtime')"
   ]
  },
  {
   "cell_type": "markdown",
   "metadata": {},
   "source": [
    "And now that we have access to the SageMaker runtime, we can ask it to make use of (invoke) an endpoint that has already been created. However, we need to provide SageMaker with the name of the deployed endpoint. To find this out we can print it out using the `xgb_predictor` object."
   ]
  },
  {
   "cell_type": "code",
   "execution_count": null,
   "metadata": {},
   "outputs": [],
   "source": [
    "xgb_predictor.endpoint"
   ]
  },
  {
   "cell_type": "markdown",
   "metadata": {},
   "source": [
    "Using the SageMaker runtime and the name of our endpoint, we can invoke the endpoint and send it the `test_bow` data."
   ]
  },
  {
   "cell_type": "code",
   "execution_count": null,
   "metadata": {},
   "outputs": [],
   "source": [
    "response = runtime.invoke_endpoint(EndpointName = xgb_predictor.endpoint, # The name of the endpoint we created\n",
    "                                       ContentType = 'text/csv',                     # The data format that is expected\n",
    "                                       Body = test_bow)"
   ]
  },
  {
   "cell_type": "markdown",
   "metadata": {},
   "source": [
    "So why did we get an error?\n",
    "\n",
    "Because we tried to send the endpoint a list of integers but it expected us to send data of type `text/csv`. So, we need to convert it."
   ]
  },
  {
   "cell_type": "code",
   "execution_count": null,
   "metadata": {},
   "outputs": [],
   "source": [
    "response = runtime.invoke_endpoint(EndpointName = xgb_predictor.endpoint, # The name of the endpoint we created\n",
    "                                       ContentType = 'text/csv',                     # The data format that is expected\n",
    "                                       Body = ','.join([str(val) for val in test_bow]).encode('utf-8'))"
   ]
  },
  {
   "cell_type": "code",
   "execution_count": null,
   "metadata": {},
   "outputs": [],
   "source": [
    "print(response)"
   ]
  },
  {
   "cell_type": "markdown",
   "metadata": {},
   "source": [
    "As we can see, the response from our model is a somewhat complicated looking dict that contains a bunch of information. The bit that we are most interested in is `'Body'` object which is a streaming object that we need to `read` in order to make use of."
   ]
  },
  {
   "cell_type": "code",
   "execution_count": null,
   "metadata": {},
   "outputs": [],
   "source": [
    "response = response['Body'].read().decode('utf-8')\n",
    "print(response)"
   ]
  },
  {
   "cell_type": "markdown",
   "metadata": {},
   "source": [
    "Now that we know how to process the incoming user data we can start setting up the infrastructure to make our simple web app work. To do this we will make use of two different services. Amazon's Lambda and API Gateway services.\n",
    "\n",
    "Lambda is a service which allows someone to write some relatively simple code and have it executed whenever a chosen trigger occurs. For example, you may want to update a database whenever new data is uploaded to a folder stored on S3.\n",
    "\n",
    "API Gateway is a service that allows you to create HTTP endpoints (url addresses) which are connected to other AWS services. One of the benefits to this is that you get to decide what credentials, if any, are required to access these endpoints.\n",
    "\n",
    "In our case we are going to set up an HTTP endpoint through API Gateway which is open to the public. Then, whenever anyone sends data to our public endpoint we will trigger a Lambda function which will send the input (in our case a review) to our model's endpoint and then return the result."
   ]
  },
  {
   "cell_type": "markdown",
   "metadata": {},
   "source": [
    "### Setting up a Lambda function\n",
    "\n",
    "The first thing we are going to do is set up a Lambda function. This Lambda function will be executed whenever our public API has data sent to it. When it is executed it will receive the data, perform any sort of processing that is required, send the data (the review) to the SageMaker endpoint we've created and then return the result.\n",
    "\n",
    "#### Part A: Create an IAM Role for the Lambda function\n",
    "\n",
    "Since we want the Lambda function to call a SageMaker endpoint, we need to make sure that it has permission to do so. To do this, we will construct a role that we can later give the Lambda function.\n",
    "\n",
    "Using the AWS Console, navigate to the **IAM** page and click on **Roles**. Then, click on **Create role**. Make sure that the **AWS service** is the type of trusted entity selected and choose **Lambda** as the service that will use this role, then click **Next: Permissions**.\n",
    "\n",
    "In the search box type `sagemaker` and select the check box next to the **AmazonSageMakerFullAccess** policy. Then, click on **Next: Review**.\n",
    "\n",
    "Lastly, give this role a name. Make sure you use a name that you will remember later on, for example `LambdaSageMakerRole`. Then, click on **Create role**."
   ]
  },
  {
   "cell_type": "markdown",
   "metadata": {},
   "source": [
    "#### Part B: Create a Lambda function\n",
    "\n",
    "Now it is time to actually create the Lambda function. Remember from earlier that in order to process the user provided input and send it to our endpoint we need to gather two pieces of information:\n",
    "\n",
    " - The name of the endpoint, and\n",
    " - the vocabulary object.\n",
    "\n",
    "We will copy these pieces of information to our Lambda function after we create it.\n",
    "\n",
    "To start, using the AWS Console, navigate to the AWS Lambda page and click on **Create a function**. When you get to the next page, make sure that **Author from scratch** is selected. Now, name your Lambda function, using a name that you will remember later on, for example `sentiment_analysis_xgboost_func`. Make sure that the **Python 3.6** runtime is selected and then choose the role that you created in the previous part. Then, click on **Create Function**.\n",
    "\n",
    "On the next page you will see some information about the Lambda function you've just created. If you scroll down you should see an editor in which you can write the code that will be executed when your Lambda function is triggered. Collecting the code we wrote above to process a single review and adding it to the provided example `lambda_handler` we arrive at the following.\n",
    "\n",
    "```python\n",
    "# We need to use the low-level library to interact with SageMaker since the SageMaker API\n",
    "# is not available natively through Lambda.\n",
    "import boto3\n",
    "\n",
    "# And we need the regular expression library to do some of the data processing\n",
    "import re\n",
    "\n",
    "REPLACE_NO_SPACE = re.compile(\"(\\.)|(\\;)|(\\:)|(\\!)|(\\')|(\\?)|(\\,)|(\\\")|(\\()|(\\))|(\\[)|(\\])\")\n",
    "REPLACE_WITH_SPACE = re.compile(\"(<br\\s*/><br\\s*/>)|(\\-)|(\\/)\")\n",
    "\n",
    "def review_to_words(review):\n",
    "    words = REPLACE_NO_SPACE.sub(\"\", review.lower())\n",
    "    words = REPLACE_WITH_SPACE.sub(\" \", words)\n",
    "    return words\n",
    "    \n",
    "def bow_encoding(words, vocabulary):\n",
    "    bow = [0] * len(vocabulary) # Start by setting the count for each word in the vocabulary to zero.\n",
    "    for word in words.split():  # For each word in the string\n",
    "        if word in vocabulary:  # If the word is one that occurs in the vocabulary, increase its count.\n",
    "            bow[vocabulary[word]] += 1\n",
    "    return bow\n",
    "\n",
    "\n",
    "def lambda_handler(event, context):\n",
    "    \n",
    "    vocab = \"*** ACTUAL VOCABULARY GOES HERE ***\"\n",
    "    \n",
    "    words = review_to_words(event['body'])\n",
    "    bow = bow_encoding(words, vocab)\n",
    "\n",
    "    # The SageMaker runtime is what allows us to invoke the endpoint that we've created.\n",
    "    runtime = boto3.Session().client('sagemaker-runtime')\n",
    "\n",
    "    # Now we use the SageMaker runtime to invoke our endpoint, sending the review we were given\n",
    "    response = runtime.invoke_endpoint(EndpointName = '***ENDPOINT NAME HERE***',# The name of the endpoint we created\n",
    "                                       ContentType = 'text/csv',                 # The data format that is expected\n",
    "                                       Body = ','.join([str(val) for val in bow]).encode('utf-8')) # The actual review\n",
    "\n",
    "    # The response is an HTTP response whose body contains the result of our inference\n",
    "    result = response['Body'].read().decode('utf-8')\n",
    "    \n",
    "    # Round the result so that our web app only gets '1' or '0' as a response.\n",
    "    result = round(float(result))\n",
    "\n",
    "    return {\n",
    "        'statusCode' : 200,\n",
    "        'headers' : { 'Content-Type' : 'text/plain', 'Access-Control-Allow-Origin' : '*' },\n",
    "        'body' : str(result)\n",
    "    }\n",
    "```"
   ]
  },
  {
   "cell_type": "markdown",
   "metadata": {},
   "source": [
    "Once you have copy and pasted the code above into the Lambda code editor, replace the `**ENDPOINT NAME HERE**` portion with the name of the endpoint that we deployed earlier. You can determine the name of the endpoint using the code cell below."
   ]
  },
  {
   "cell_type": "code",
   "execution_count": null,
   "metadata": {},
   "outputs": [],
   "source": [
    "xgb_predictor.endpoint"
   ]
  },
  {
   "cell_type": "markdown",
   "metadata": {},
   "source": [
    "In addition, you will need to copy the vocabulary dict to the appropriate place in the code at the beginning of the `lambda_handler` method. The cell below prints out the vocabulary dict in a way that is easy to copy and paste."
   ]
  },
  {
   "cell_type": "code",
   "execution_count": 54,
   "metadata": {},
   "outputs": [
    {
     "name": "stdout",
     "output_type": "stream",
     "text": [
      "{'what': 4858, 'loved': 2670, 'about': 67, 'the': 4426, 'on': 3105, 'screen': 3829, 'adaptation': 113, 'of': 3083, 'stone': 4197, 'angel': 231, 'is': 2360, 'that': 4424, 'it': 2366, 'stayed': 4167, 'so': 4046, 'true': 4596, 'to': 4507, 'novel': 3052, 'great': 1964, 'film': 1716, 'as': 311, 'an': 223, 'find': 1726, 'worst': 4952, 'thing': 4450, 'book': 535, 'somehow': 4063, 'gets': 1900, 'lost': 2660, 'in': 2257, 'translation': 4562, 'you': 4986, 'can': 665, 'tell': 4395, 'team': 4378, 'was': 4805, 'careful': 688, 'not': 3040, 'let': 2579, 'this': 4457, 'happen': 2026, 'with': 4911, 'ellen': 1446, 'excellent': 1555, 'casting': 711, 'choice': 797, 'for': 1784, 'role': 3726, 'and': 226, 'she': 3923, 'definitely': 1162, 'movie': 2926, 'however': 2183, 'think': 4452, 'canadian': 667, 'actress': 105, 'chosen': 805, 'play': 3296, 'her': 2085, 'younger': 4990, 'years': 4979, 'also': 199, 'did': 1241, 'incredible': 2269, 'job': 2405, 'praise': 3364, 'havent': 2053, 'seen': 3865, 'any': 256, 'previous': 3387, 'work': 4940, 'but': 636, 'will': 4886, 'seek': 3858, 'out': 3141, 'after': 143, 'seeing': 3857, 'performance': 3228, 'heard': 2062, 'theatrical': 4430, 'release': 3602, 'going': 1931, 'spring': 4134, 'or': 3124, 'summer': 4291, 'cant': 671, 'wait': 4770, 'see': 3855, 'big': 478, 'again': 146, 'have': 2052, 'no': 3020, 'idea': 2213, 'other': 3135, 'reviewer': 3677, 'talking': 4360, 'wonderful': 4928, 'created': 1037, 'sense': 3877, 'era': 1513, 'feels': 1687, 'like': 2599, 'time': 4495, 'travel': 4567, 'characters': 760, 'are': 285, 'truly': 4597, 'young': 4989, 'mary': 2751, 'strong': 4229, 'match': 2762, 'claire': 831, 'juvenile': 2441, 'tad': 4347, 'annoying': 249, 'convincing': 985, 'beaten': 424, 'down': 1335, 'all': 187, 'beautiful': 428, 'curious': 1083, 'frightening': 1839, 'they': 4442, 'gothic': 1945, 'works': 4945, 'independent': 2272, 'piece': 3272, 'shock': 3938, 'different': 1248, 'reasons': 3560, 'from': 1840, 'my': 2951, 'best': 469, 'capture': 676, 'must': 2950, 'felt': 1692, 'romantic': 3733, 'yes': 4982, 'completely': 922, 'interest': 2323, 'lives': 2628, 'shelley': 3928, 'every': 1539, 'one': 3107, 'favorites': 1672, 'spoilers': 4124, 'undoubtedly': 4648, 'based': 404, 'legendary': 2565, 'us': 4690, 'soft': 4051, 'spoken': 4126, 'rogers': 3725, 'look': 2646, 'alike': 185, 'who': 4871, 'ran': 3513, 'up': 4683, 'score': 3822, 'much': 2934, 'north': 3036, 'military': 2844, 'kills': 2474, 'during': 1387, 'his': 2118, 'two': 4620, 'shows': 3960, 'just': 2437, 'how': 2181, 'deadly': 1133, 'effective': 1429, 'trained': 4557, 'really': 3556, 'tom': 4514, 'cool': 989, 'whos': 4876, 'at': 331, 'end': 1468, 'career': 686, 'top': 4525, 'later': 2525, 'realizes': 3554, 'life': 2592, 'be': 418, 'pointless': 3318, 'since': 3990, 'theres': 4440, 'nothing': 3047, 'outside': 3146, 'him': 2110, 'do': 1302, 'skills': 4014, 'he': 2056, 'learned': 2551, 'unless': 4669, 'decides': 1150, 'become': 433, 'mob': 2879, 'hit': 2122, 'man': 2721, 'fate': 1665, 'lifetime': 2594, 'professional': 3421, 'killer': 2470, 'country': 1014, 'story': 4207, 'focused': 1767, 'former': 1800, 'sharp': 3922, 'shooting': 3943, 'silver': 3977, 'government': 1948, 'agent': 150, 'richard': 3686, 'miller': 2846, 'billy': 482, 'being': 448, 'sent': 3880, 'deep': 1154, 'inside': 2297, 'jungle': 2434, 'take': 4349, 'rebel': 3561, 'general': 1880, 'drug': 1373, 'king': 2479, 'supporting': 4304, 'planned': 3290, 'over': 3148, 'we': 4823, 'earlier': 1399, 'scope': 3821, 'leader': 2546, 'which': 4867, 'feel': 1684, 'scene': 3809, 'step': 4175, 'by': 642, 'help': 2079, 'does': 1308, 'sub': 4252, 'plot': 3309, 'killed': 2469, 'were': 4848, 'both': 547, 'waiting': 4772, 'helicopter': 2076, 'would': 4957, 'thought': 4462, 'cat': 713, 'mouse': 2919, 'played': 3297, 'between': 475, 'when': 4862, 'ended': 1470, 'had': 2003, 'trouble': 4592, 'early': 1400, 'using': 4698, 'hurt': 2202, 'most': 2909, 'ironically': 2356, 'last': 2521, 'fifteen': 1706, 'minutes': 2859, 'went': 4847, 'shot': 3949, 'kill': 2468, 'rambo': 3511, 'ending': 1471, 'fighting': 1709, 'off': 3084, 'entire': 1502, 'bullets': 621, 'flying': 1764, 'thick': 4447, 'london': 2641, 'still': 4188, 'well': 4843, 'worth': 4953, 'watching': 4815, 'fact': 1621, 'tells': 4397, 'person': 3238, 'until': 4680, 'now': 3054, 'has': 2043, 'been': 438, 'war': 4792, 'movies': 2927, 'skill': 4013, 'master': 2757, 'diamond': 1236, 'accomplished': 87, 'total': 4531, 'led': 2558, 'captain': 674, 'storm': 4206, 'mark': 2739, 'travels': 4569, 'valley': 4707, 'kings': 2481, 'happened': 2027, 'meet': 2793, 'mysterious': 2955, 'them': 4432, 'soon': 4074, 'themselves': 4435, 'faced': 1617, 'blood': 512, 'drinking': 1362, 'only': 3110, 'seems': 3864, 'know': 2489, 'whats': 4860, 'real': 3547, 'caught': 722, 'late': 2523, 'night': 3013, 'tv': 4610, '10': 0, 'put': 3480, 'me': 2778, 'sleep': 4024, 'these': 4441, 'why': 4878, 'its': 2370, 'slow': 4031, 'moving': 2928, 'mummy': 2937, 'doesnt': 1309, 'even': 1533, 'show': 3953, '40': 48, 'long': 2644, 'acting': 99, 'bad': 382, 'george': 1893, 'violence': 4747, 'found': 1811, 'more': 2904, 'second': 3846, 'rate': 3526, 'involving': 2349, 'silly': 3976, 'love': 2669, 'than': 4420, 'horror': 2168, 'three': 4469, 'stars': 4155, 'because': 432, 'actually': 109, 'looks': 2649, 'pretty': 3384, 'good': 1937, 'everyone': 1542, 'plays': 3301, 'straight': 4210, 'some': 4061, 'diane': 1238, 'short': 3946, 'attack': 337, 'scenes': 3811, 'arent': 288, 'theyre': 4445, 'scary': 3807, 'mildly': 2840, 'creepy': 1052, 'sure': 4308, 'fire': 1734, 'cure': 1081, 'im': 2232, 'grand': 1953, 'epic': 1506, 'american': 213, 'revolutionary': 3681, 'aint': 163, 'matter': 2769, 'neither': 2996, 'saw': 3798, 'screening': 3830, 'old': 3100, 'mgm': 2828, 'studios': 4241, 'before': 440, 'came': 656, 'audience': 352, 'high': 2100, 'expectations': 1576, 'expensive': 1579, 'period': 3236, 'written': 4972, 'veteran': 4724, 'robert': 3713, 'directed': 1259, 'hugh': 2186, 'hudson': 2184, 'fame': 1642, 'starring': 4154, 'al': 170, 'pacino': 3164, 'didnt': 1242, 'people': 3221, 'start': 4156, 'their': 4431, 'comments': 901, 'horribly': 2164, 'accent': 78, 'supposed': 4306, 'scottish': 3825, 'recently': 3567, 'england': 1482, 'then': 4436, 'started': 4157, 'downhill': 1336, 'fast': 1661, 'motivations': 2915, 'dialogue': 1234, 'atrocious': 335, 'events': 1536, 'historical': 2119, 'political': 3324, 'context': 968, 'there': 4438, 'forward': 1808, 'absurd': 73, 'third': 4455, 'lovers': 2673, 'into': 2332, 'each': 1395, 'joke': 2414, 'donald': 1321, 'sutherland': 4333, 'gave': 1875, 'british': 589, 'officer': 3092, 'map': 2733, 'too': 4522, 'guess': 1989, 'werent': 4849, 'english': 1483, 'actors': 104, 'available': 361, 'lots': 2662, 'left': 2561, 'those': 4460, 'tried': 4584, 'stuck': 4237, 'figured': 1712, 'least': 2554, 'battle': 414, 'might': 2835, 'wrong': 4973, 'chose': 804, 'hand': 2015, 'held': 2074, 'cameras': 660, 'giving': 1915, 'ruined': 3751, 'scale': 3802, 'semi': 3874, 'famous': 1647, 'few': 1700, 'ahead': 159, 'gary': 1873, 'channel': 753, 'news': 3005, 'could': 1007, 'behavior': 446, 'rest': 3657, 'enough': 1491, 'segment': 3867, 'next': 3007, 'day': 1129, 'notorious': 3051, 'while': 4868, 'clearly': 840, 'art': 304, 'disaster': 1276, 'star': 4150, 'another': 250, 'almost': 193, 'never': 3001, 'say': 3799, 'warn': 4797, '14': 6, 'under': 4639, 'contract': 973, 'made': 2697, 'feature': 1678, 'judy': 2426, 'year': 4978, 'first': 1736, 'louis': 2665, 'decided': 1149, 'need': 2987, 'singers': 3994, 'placed': 3283, 'bet': 470, 'go': 1924, 'universal': 4665, 'immediately': 2242, 'signed': 3971, 'rushed': 3760, 'smart': 4035, 'girls': 1911, 'screenplay': 3831, 'part': 3193, 'shes': 3930, 'equivalent': 1512, 'lights': 2597, 'around': 297, 'name': 2960, 'convinced': 984, 'right': 3696, 'less': 2575, 'musical': 2947, 'comedy': 890, '15': 7, 'released': 3603, 'carries': 699, 'craig': 1030, 'older': 3101, 'sisters': 4002, 'joan': 2404, 'kay': 2447, 'determined': 1221, 'save': 3794, 'father': 1666, 'mother': 2911, 'elegant': 1441, 'gold': 1932, 'talk': 4358, 'way': 4820, 'where': 4864, 'live': 2625, 'new': 3003, 'york': 4985, 'city': 825, 'plan': 3287, 'break': 569, 'fathers': 1667, 'wedding': 4836, 'ten': 4399, 'apart': 264, 'loves': 2674, 'guy': 2000, 'doubt': 1332, 'sing': 3992, 'song': 4071, 'warm': 4794, 'finding': 1727, 'material': 2766, 'along': 195, 'saying': 3800, 'couldnt': 1008, 'keep': 2449, 'playing': 3300, 'little': 2624, 'miss': 2866, 'forever': 1792, 'course': 1019, 'pat': 3208, 'funny': 1852, 'things': 4451, 'natural': 2973, 'personality': 3242, 'genuine': 1891, 'makes': 2716, 'mix': 2876, 'farce': 1654, 'confusion': 943, 'intentions': 2321, 'downright': 1337, 'endearing': 1469, 'ease': 1404, 'lot': 2661, 'fun': 1848, 'hold': 2129, 'own': 3158, 'against': 147, 'likes': 2602, 'donna': 1323, 'woman': 4921, 'rich': 3685, 'charles': 764, 'stealing': 4171, 'either': 1438, 'alice': 182, 'brady': 561, 'daughter': 1121, 'ray': 3533, 'lord': 2652, 'michael': 2829, 'through': 4477, 'contrived': 976, 'amusing': 221, 'mistaken': 2872, 'holds': 2131, 'light': 2595, 'weight': 4840, 'ups': 4686, 'brand': 565, 'huge': 2185, 'success': 4265, 'saved': 3795, '11': 2, 'mr': 2929, 'whole': 4873, 'family': 1645, 'believe': 454, 'sun': 4292, 'nights': 3016, 'gags': 1862, 'rob': 3710, 'opening': 3114, 'use': 4692, 'spot': 4131, 'finally': 1724, 'kicking': 2462, 'door': 1328, 'open': 3112, 'taking': 4352, 'episode': 1507, 'dress': 1357, 'shirt': 3937, 'missed': 2867, 'timing': 4498, 'everything': 1544, 'got': 1944, 'laughs': 2534, 'remember': 3616, 'aunt': 355, 'jack': 2373, 'always': 203, 'wanted': 4789, 'something': 4066, 'scientific': 3817, 'come': 886, 'causing': 726, 'brilliant': 583, 'stole': 4194, 'continue': 969, 'series': 3890, 'quit': 3494, 'afraid': 140, 'somewhere': 4069, '1st': 28, 'anyway': 261, 'tiny': 4500, 'tim': 4494, 'nancy': 2964, 'ever': 1538, 'cover': 1022, 'guide': 1993, 'press': 3379, 'major': 2711, 'trip': 4588, 'museum': 2945, 'nyc': 3065, 'ago': 154, 'disappointing': 1274, 'very': 4723, 'episodes': 1508, 'gone': 1935, 'wish': 4904, 'fairly': 1631, 'knowledge': 2491, 'german': 1896, 'cinema': 816, 'surely': 4309, 'numerous': 3062, 'films': 1721, 'girl': 1909, 'having': 2054, 'troubles': 4594, 'boy': 557, 'friend': 1835, 'such': 4268, 'shown': 3959, 'provided': 3449, 'if': 2222, 'captivating': 675, 'todays': 4509, 'challenging': 744, 'audiences': 353, 'maker': 2714, 'principal': 3398, 'protagonist': 3441, 'everybody': 1540, 'including': 2264, 'bold': 528, 'face': 1616, 'punishment': 3467, 'kinds': 2478, 'criminal': 1057, 'activities': 102, 'originally': 3131, 'blown': 516, 'afterwards': 145, '35': 45, 'technical': 4381, 'our': 3139, 'learn': 2550, 'becoming': 435, 'run': 3755, 'mill': 2845, 'someone': 4064, 'state': 4160, 'positive': 3346, 'aspect': 321, 'may': 2775, 'involvement': 2347, 'result': 3660, 'human': 2188, 'unique': 4662, 'accurate': 90, 'takes': 4351, 'research': 3644, 'writing': 4971, 'pays': 3218, 'truth': 4599, 'though': 4461, 'draw': 1349, 'reviews': 3679, 'stories': 4205, 'clean': 838, 'sweet': 4336, 'once': 3106, 'brings': 587, 'christopher': 811, 'acted': 98, 'presented': 3376, 'poignant': 3315, 'done': 1322, 'hat': 2045, 'writer': 4968, 'production': 3419, 'crew': 1053, 'watch': 4811, 'aired': 165, 'memory': 2804, '1960s': 15, 'mike': 2838, 'kenneth': 2455, 'resist': 3648, 'challenge': 743, 'should': 3951, 'known': 2492, 'better': 472, 'quite': 3495, 'remake': 3612, 'parody': 3192, 'homage': 2141, 'cartoon': 704, 'plots': 3310, 'main': 2707, 'fox': 1814, 'act': 97, 'bob': 524, 'painful': 3171, 'cast': 710, 'merely': 2815, 'comedian': 887, 'wanting': 4790, 'far': 1653, 'aware': 368, 'situation': 4008, 'cgi': 740, 'effects': 1431, 'improvement': 2256, '30': 42, 'viewer': 4738, 'camera': 659, 'mask': 2752, 'poor': 3328, 'quality': 3484, 'scripts': 3836, 'style': 4249, 'substance': 4258, 'whereas': 4865, 'dated': 1119, 'matrix': 2767, 'power': 3359, 'subtle': 4260, 'tension': 4404, 'living': 2629, 'leads': 2548, 'glory': 1922, 'days': 1130, '90s': 61, 'god': 1926, 'soul': 4079, 'turn': 4605, 'central': 735, 'hour': 2176, 'greatest': 1966, 'saturday': 3792, 'glorious': 1921, 'whether': 4866, 'original': 3129, 'ready': 3546, 'players': 3299, 'golden': 1934, 'age': 148, 'snl': 4044, 'featuring': 1681, 'chris': 806, 'adam': 111, 'sandler': 3781, 'david': 1124, 'hell': 2077, 'exposed': 1598, 'half': 2007, 'passed': 3202, 'terrible': 4407, 'many': 2732, 'horrible': 2163, 'flaws': 1752, 'suppose': 4305, 'ill': 2228, 'bathroom': 412, 'humor': 2192, 'enjoyed': 1486, 'ms': 2931, 'talents': 4356, 'magnificent': 2705, 'alex': 179, 'talented': 4355, 'actor': 103, 'although': 201, 'ha': 2002, 'moments': 2887, 'endless': 1473, 'line': 2610, 'drivel': 1364, 'idiots': 2220, 'cameo': 657, 'theater': 4427, 'south': 4087, 'beach': 419, 'club': 863, 'wild': 4885, '60s': 54, 'home': 2142, 'generation': 1883, 'sexual': 3908, 'revolution': 3680, 'quest': 3486, 'conflict': 939, 'following': 1774, 'ones': 3108, 'seeking': 3859, 'paced': 3162, 'highly': 2105, 'enjoyable': 1485, 'vegas': 4717, 'sin': 3988, 'women': 4923, 'cameos': 658, 'romance': 3732, 'happy': 2032, 'poster': 3353, 'bedroom': 437, 'wall': 4781, 'back': 378, 'youth': 4994, 'times': 4497, 'dad': 1095, 'reminds': 3620, '80s': 59, 'john': 2409, 'place': 3282, 'world': 4946, 'attractive': 351, 'easily': 1406, 'conflicts': 940, 'occasionally': 3075, 'away': 369, 'mostly': 2910, 'proceedings': 3410, 'vast': 4716, 'amounts': 220, 'set': 3898, 'pop': 3330, 'tunes': 4603, 'absolute': 71, 'treat': 4572, 'beginning': 443, 'wife': 4884, 'ourselves': 3140, 'totally': 4532, 'won': 4925, 'making': 2718, 'embarrassing': 1454, 'admit': 122, 'room': 3735, 'theatre': 4429, 'enjoy': 1484, 'grade': 1951, 'features': 1680, 'ok': 3098, 'dr': 1340, 'credits': 1050, 'special': 4097, 'low': 2676, 'budget': 610, 'mad': 2696, 'scientist': 3818, 'nude': 3058, 'buffs': 612, 'simply': 3986, 'here': 2086, 'anne': 246, 'get': 1899, 'excited': 1561, 'realize': 3552, 'summary': 4290, 'free': 1827, 'ticket': 4487, 'dont': 1324, 'offended': 3085, 'travesty': 4570, 'call': 651, 'walked': 4776, 'unfortunately': 4654, 'consider': 949, 'mistakes': 2873, 'thus': 4486, 'became': 431, 'pure': 3471, 'closing': 859, 'demon': 1177, 'child': 789, 'sticks': 4186, 'head': 2057, 'behind': 447, 'sign': 3970, 'says': 3801, 'problem': 3408, 'coming': 896, 'hands': 2020, 'terrifying': 4410, 'moment': 2886, 'recorded': 3574, 'recall': 3562, 'involved': 2346, 'ritter': 3705, 'perhaps': 3235, 'ive': 2372, 'without': 4913, 'block': 508, 'mind': 2849, 'maybe': 2776, 'intent': 2318, 'fail': 1625, 'miserably': 2864, 'frame': 1815, 'remains': 3611, 'horrid': 2165, 'forget': 1793, 'baby': 376, 'kid': 2464, 'cake': 648, 'difference': 1246, 'sorry': 4076, 'hes': 2093, 'impossible': 2249, 'likely': 2601, 'character': 758, 'portrayed': 3342, 'want': 4788, 'spoiler': 4123, 'anyone': 259, 'cares': 690, 'yelling': 4980, 'send': 3875, 'shocked': 3939, 'several': 3905, 'given': 1913, 'imdb': 2240, 'superman': 4301, 'worse': 4951, 'quote': 3496, 'said': 3774, 'sequel': 3885, 'dragged': 1343, 'dead': 1132, 'body': 527, 'perform': 3227, 'rather': 3528, '24': 39, 'police': 3322, 'academy': 77, 'sequels': 3886, 'twenty': 4612, 'give': 1912, 'negative': 2991, 'deserves': 1201, 'burn': 625, 'please': 3304, 'honestly': 2147, 'mean': 2779, 'fan': 1648, 'imagine': 2238, 'industry': 2280, 'offer': 3087, 'title': 4504, 'wouldnt': 4958, 'intrigued': 2334, 'vampires': 4712, 'vs': 4767, 'zombies': 4998, 'images': 2235, 'myself': 2953, 'hadnt': 2004, 'ask': 316, 'absolutely': 72, 'feeling': 1685, 'souls': 4080, 'money': 2888, 'project': 3427, 'business': 633, 'read': 3543, 'hated': 2047, 'especially': 1520, 'id': 2212, 'comment': 898, 'point': 3316, 'deal': 1135, 'called': 652, 'shallow': 3917, 'desire': 1205, 'yet': 4984, 'brother': 598, 'mundane': 2938, 'disagree': 1269, 'similar': 3978, 'relate': 3593, 'daily': 1097, 'abuse': 74, 'knowing': 2490, 'current': 1084, 'path': 3209, 'inevitably': 2283, 'lead': 2545, 'self': 3869, 'destruction': 1216, 'paul': 3214, 'questionable': 3488, 'folks': 1771, 'painfully': 3172, 'howard': 2182, 'same': 3778, 'forces': 1788, 'drive': 1363, 'tear': 4379, 'damn': 1100, 'norman': 3035, 'river': 3707, 'runs': 3757, 'probably': 3407, 'answer': 251, 'tragedy': 4551, 'occur': 3076, 'blame': 499, 'often': 3095, 'personal': 3240, 'sometimes': 4067, 'comes': 891, 'school': 3813, 'evil': 1548, 'rock': 3720, 'roll': 3728, 'music': 2946, 'together': 4511, 'ramones': 3512, 'football': 1783, 'vincent': 4746, 'van': 4713, 'seem': 3861, 'connect': 944, 'realizing': 3555, 'cute': 1090, 'kate': 2446, 'instant': 2305, 'midnight': 2834, 'kept': 2456, '1980s': 21, 'college': 875, 'party': 3200, 'singing': 3995, 'songs': 4072, 'laughing': 2533, 'generally': 1881, 'adult': 125, 'script': 3834, 'full': 1846, 'hearing': 2063, 'change': 749, 'random': 3514, 'goes': 1930, 'jumping': 2431, 'saves': 3796, 'lines': 2612, 'performances': 3229, 'enjoying': 1487, 'herself': 2092, 'energy': 1478, 'roles': 3727, 'tune': 4602, 'youre': 4992, 'higher': 2101, 'rating': 3529, 'warning': 4800, 'kids': 2467, 'pg': 3250, 'theyll': 4444, 'mood': 2898, 'otherwise': 3137, 'stay': 4166, 'reason': 3557, 'parker': 3191, 'matt': 2768, 'park': 3190, 'towards': 4540, 'blatant': 502, 'toilet': 4512, 'humour': 2194, 'throughout': 4478, 'constant': 957, 'witty': 4917, 'ruin': 3750, 'event': 1535, 'mans': 2730, 'alone': 194, 'funniest': 1851, 'youll': 4988, 'jokes': 2415, 'hollywood': 2137, 'thrown': 4481, 'bargain': 400, 'game': 1864, 'surprised': 4313, 'amount': 219, 'worried': 4949, 'buy': 640, 'internet': 2327, 'uk': 4626, 'sort': 4077, 'boys': 559, 'am': 204, 'friends': 1837, 'bits': 490, 'unnecessary': 4672, 'clear': 839, 'jenny': 2393, 'past': 3207, 'appreciate': 279, 'hire': 2116, 'kind': 2476, 'proper': 3436, 'guilty': 1995, 'single': 3996, 'lets': 2580, 'important': 2247, 'isnt': 2362, 'involves': 2348, 'words': 4938, 'language': 2516, 'seemingly': 3863, 'gore': 1941, 'death': 1141, 'couple': 1016, 'cringe': 1059, 'worthy': 4956, 'surprises': 4314, 'exactly': 1551, 'holes': 2133, 'continuity': 972, 'errors': 1516, 'weapon': 4828, 'wasnt': 4807, 'cut': 1089, 'hours': 2177, 'fix': 1744, 'relies': 3606, 'instead': 2307, 'cinematic': 818, 'experience': 1580, 'season': 3843, 'abc': 63, 'website': 4834, '2007': 37, 'crazy': 1035, 'favorite': 1671, 'program': 3424, 'fall': 1637, 'sad': 3767, 'hope': 2155, 'bring': 585, 'thinking': 4453, 'remarks': 3615, 'mine': 2853, 'certainly': 738, 'decision': 1151, 'hopefully': 2157, 'station': 4164, 'pick': 3265, 'interesting': 2325, 'treatment': 4574, 'subject': 4253, 'controversial': 978, 'apparently': 270, 'hate': 2046, 'make': 2713, 'basically': 407, 'values': 4710, 'outer': 3143, 'space': 4090, 'level': 2584, 'ed': 1415, 'wood': 4933, 'putting': 3482, 'aside': 315, 'religious': 3608, 'message': 2819, 'add': 115, 'slightest': 4028, 'close': 853, 'future': 1856, 'becomes': 434, 'try': 4600, 'code': 869, 'thief': 4448, 'explain': 1586, 'politics': 3326, 'middle': 2833, 'east': 1407, 'leading': 2547, 'effect': 1428, 'itself': 2371, 'thin': 4449, 'trying': 4601, 'happening': 2028, 'told': 4513, 'red': 3576, 'transition': 4561, 'television': 4394, 'brought': 600, 'laughter': 2535, 'begin': 442, 'variety': 4714, 'san': 3780, 'introduced': 2337, 'queen': 3485, 'your': 4991, 'comedic': 888, 'hide': 2097, 'tragic': 4552, 'son': 4070, 'died': 1244, 'suicide': 4283, 'dutch': 1389, 'aka': 168, 'arthur': 305, 'nasty': 2968, 'used': 4693, 'fictional': 1703, 'facts': 1624, 'details': 1219, 'versions': 4721, 'included': 2262, 'public': 3460, 'relations': 3596, 'executed': 1565, 'et': 1526, 'thats': 4425, 'represents': 3639, 'carrying': 701, 'execution': 1566, 'bo': 521, 'pay': 3216, 'legs': 2566, 'mrs': 2930, 'jewish': 2401, 'comic': 893, 'relief': 3605, 'lame': 2510, 'humorous': 2193, 'turning': 4608, 'grave': 1962, 'personally': 3243, 'tries': 4585, 'hard': 2033, 'extreme': 1609, 'water': 4816, 'himself': 2111, 'rolling': 3730, 'floor': 1759, 'calm': 655, 'yourself': 4993, 'laugh': 2529, 'understand': 4643, 'comparison': 914, 'toward': 4539, 'comics': 895, 'stage': 4139, 'wants': 4791, 'alive': 186, 'thru': 4483, 'liked': 2600, 'pieces': 3273, 'mental': 2808, 'funnier': 1850, 'eight': 1436, '3d': 46, 'cg': 739, 'visuals': 4759, 'blew': 505, 'okay': 3099, 'futuristic': 1857, 'blade': 495, 'tales': 4357, 'fine': 1729, 'voice': 4761, 'particularly': 3195, 'bland': 500, 'hoping': 2160, 'french': 1830, 'version': 4720, 'floating': 1758, 'concerned': 932, 'social': 4049, 'commentary': 899, 'balls': 390, 'violent': 4748, 'video': 4733, 'games': 1865, 'impression': 2252, 'ben': 463, 'media': 2789, 'devoid': 1230, 'influence': 2286, 'obvious': 3071, 'laughable': 2530, 'burning': 627, 'subtlety': 4261, 'fiction': 1702, 'nice': 3008, 'influenced': 2287, 'wont': 4932, 'dumb': 1385, 'nazi': 2977, 'ground': 1979, 'portrayal': 3341, 'families': 1644, 'doing': 1312, 'serious': 3891, 'flaw': 1749, 'dynamic': 1394, 'fellow': 1691, 'killers': 2471, 'normal': 3033, 'obviously': 3072, 'false': 1641, 'phony': 3256, 'depiction': 1185, 'teenage': 4389, 'witch': 4909, 'friday': 1834, 'adorable': 124, 'boyfriend': 558, 'harvey': 2042, 'hot': 2174, 'hart': 2041, 'looking': 2648, 'glass': 1917, 'overall': 3150, 'kim': 2475, 'traveling': 4568, 'miles': 2843, 'remote': 3622, 'cabin': 643, 'car': 680, 'hits': 2125, 'mere': 2814, 'marks': 2742, 'reality': 3551, 'flesh': 1753, 'eating': 1413, 'animal': 239, 'small': 4033, 'larry': 2520, 'provoking': 3452, 'developed': 1223, 'bone': 533, 'chilling': 794, 'handled': 2019, 'effectively': 1430, 'entirely': 1503, 'contact': 961, 'rented': 3628, 'library': 2589, 'purely': 3472, 'curiosity': 1082, 'complete': 921, 'disappointment': 1275, 'bell': 458, 'text': 4419, 'focus': 1766, 'constructed': 959, 'anywhere': 263, 'poetry': 3314, 'lady': 2507, 'unbelievable': 4634, '20': 29, 'partly': 3197, 'due': 1382, 'filming': 1718, 'emotion': 1458, 'craft': 1028, 'direction': 1261, 'mediocre': 2791, 'director': 1264, 'covers': 1024, 'else': 1448, 'fitting': 1742, 'oh': 3096, 'sixties': 4011, 'renting': 3629, 'legend': 2564, 'searching': 3842, 'inspiring': 2302, 'surprisingly': 4316, 'able': 66, 'information': 2288, 'site': 4005, 'thank': 4421, 'disney': 1289, 'picture': 3269, 'wonder': 4926, 'rights': 3697, 'dvd': 1391, 'generations': 1884, 'follow': 1772, 'house': 2178, 'dig': 1250, 'married': 2744, 'stephen': 4176, 'five': 1743, 'breaks': 571, 'road': 3709, 'mansion': 2731, 'finds': 1728, 'secret': 3849, 'opinion': 3118, 'expect': 1575, 'amazed': 208, 'anything': 260, 'specific': 4099, 'minds': 2852, 'eye': 1611, 'box': 555, 'falling': 1639, 'tape': 4365, 'graphics': 1959, 'sell': 3871, 'computer': 927, 'animation': 242, 'imagery': 2234, 'recommended': 3572, 'spectacular': 4101, 'journey': 2421, 'begins': 444, 'dawn': 1127, 'creation': 1040, 'moves': 2925, 'rise': 3702, 'technology': 4385, 'breathtaking': 574, 'worlds': 4947, 'artists': 309, 'powerful': 3360, 'soundtrack': 4085, 'williams': 4888, 'bbc': 417, 'impressive': 2253, 'italian': 2367, 'mixed': 2877, 'task': 4368, 'titled': 4505, 'documentary': 1307, 'emily': 1456, 'emotionally': 1460, 'disturbed': 1299, 'psychic': 3456, 'named': 2961, 'hysterical': 2208, 'instance': 2304, 'sees': 3866, 'flashbacks': 1747, 'persons': 3244, 'view': 4736, 'upon': 4684, 'theme': 4433, 'namely': 2962, 'pre': 3365, 'matters': 2770, 'naive': 2958, 'realistic': 3550, 'believable': 453, 'regarding': 3589, 'difficult': 1249, 'mainly': 2708, 'according': 88, 'theory': 4437, 'children': 792, 'already': 197, 'mentioned': 2811, 'per': 3223, 'childish': 791, 'cannot': 670, 'earth': 1403, 'badly': 383, 'addition': 118, 'incredibly': 2270, 'cheap': 774, 'indeed': 2271, 'disappoint': 1272, '1970s': 17, 'stinks': 4192, 'care': 684, 'anyways': 262, 'hip': 2114, 'hop': 2154, 'nation': 2969, 'dancing': 1107, 'zero': 4996, 'nuclear': 3057, 'viewers': 4739, '70s': 56, 'considered': 951, 'lived': 2626, 'fresh': 1833, 'william': 4887, 'nicholas': 3010, 'ball': 388, 'emma': 1457, 'peters': 3248, 'rachel': 3500, 'davies': 1125, 'brutal': 603, 'murder': 2939, 'condition': 937, 'intention': 2319, 'move': 2921, 'neighbors': 2994, 'jean': 2389, 'brian': 576, 'eerie': 1427, 'birthday': 487, 'leave': 2555, 'hammer': 2014, 'fantastic': 1651, 'twist': 4617, 'conclusion': 936, 'vote': 4766, 'brazil': 568, '3rd': 47, 'adams': 112, 'punch': 3466, 'drunk': 1375, 'boat': 523, 'hair': 2005, 'peter': 3247, 'australian': 357, 'bird': 484, 'lack': 2502, 'depth': 1190, 'decent': 1147, 'bottom': 551, '100': 1, 'weak': 4824, 'fonda': 1777, 'aging': 153, 'wins': 4899, 'teen': 4388, 'unlikely': 4671, 'search': 3841, 'indian': 2274, 'deeper': 1155, 'meaning': 2780, 'surprise': 4312, 'scenery': 3810, 'sexy': 3911, 'appealing': 272, 'starred': 4153, 'talked': 4359, 'useless': 4695, 'ridiculous': 3693, 'mess': 2818, 'henry': 2084, 'easy': 1410, 'example': 1553, 'ashamed': 312, 'pass': 3201, 'modesty': 2883, 'sleeping': 4025, 'means': 2783, 'rent': 3626, 'stick': 4185, 'figure': 1711, 'boring': 543, 'planet': 3289, 'stand': 4143, 'button': 639, 'wasted': 4809, 'crap': 1031, 'waste': 4808, 'colour': 880, 'air': 164, 'breath': 573, 'murphy': 2944, 'action': 100, 'thriller': 4472, 'suspense': 4330, 'wes': 4851, 'craven': 1034, 'starts': 4159, 'hotel': 2175, 'lisa': 2616, 'manager': 2724, 'airport': 167, 'meets': 2795, 'jackson': 2375, 'board': 522, 'plane': 3288, 'sit': 4003, 'chasing': 772, 'nearly': 2981, 'twelve': 4611, 'intensity': 2317, '25': 40, 'intense': 2316, 'shocking': 3940, 'thrilling': 4474, 'somewhat': 4068, 'disturbing': 1300, 'pitch': 3279, 'perfect': 3224, 'awesome': 371, 'directing': 1260, 'editing': 1421, 'spending': 4106, '13': 4, 'sequences': 3888, 'content': 966, 'town': 4541, 'montana': 2895, 'brothers': 599, 'grow': 1982, 'brad': 560, 'pitt': 3280, 'lessons': 2578, 'religion': 3607, 'fly': 1763, 'keeps': 2451, 'attention': 345, 'study': 4242, 'six': 4010, 'returns': 3668, 'lloyd': 2630, 'teach': 4374, 'chicago': 785, 'reporter': 3636, 'cinematography': 820, 'mountains': 2918, 'woods': 4935, 'fortunately': 1805, 'mystery': 2956, 'men': 2805, 'fabulous': 1615, 'super': 4295, 'heroes': 2089, 'pull': 3461, 'genius': 1887, 'woody': 4936, 'stuff': 4243, 'appropriate': 283, 'hilarious': 2106, 'dialog': 1232, 'clever': 841, 'card': 681, 'tricks': 4583, 'parties': 3196, 'reaction': 3541, 'upper': 4685, 'newspaper': 3006, 'critics': 1064, 'sound': 4081, 'plus': 3311, 'notice': 3048, 'getting': 1901, 'bit': 488, 'dance': 1103, 'entertaining': 1499, 'agrees': 157, 'history': 2121, 'added': 116, 'narrative': 2966, 'agree': 155, 'cliff': 847, 'tony': 4521, 'narration': 2965, 'form': 1798, 'sum': 4289, 'birth': 486, 'childhood': 790, 'etc': 1527, 'create': 1036, 'familiar': 1643, 'identify': 2216, 'purpose': 3474, 'adding': 117, 'sick': 3963, 'blockbuster': 509, 'recent': 3566, 'none': 3028, 'list': 2617, 'cried': 1054, 'class': 833, 'image': 2233, 'telling': 4396, 'sitcom': 4004, 'danny': 1112, 'whose': 4877, 'crash': 1033, 'asks': 319, 'law': 2538, 'jesse': 2397, 'joey': 2408, 'raise': 3507, 'michelle': 2830, 'parts': 3199, 'dull': 1384, 'dave': 1123, 'ashley': 313, 'final': 1722, '2004': 34, 'festival': 1697, 'expected': 1577, 'office': 3091, 'common': 906, 'intriguing': 2335, 'vision': 4754, 'creativity': 1042, 'helped': 2080, 'express': 1600, 'wide': 4880, 'range': 3516, 'emotions': 1461, 'required': 3641, 'performing': 3233, 'portraying': 3343, 'sister': 4001, 'projects': 3428, 'genres': 1889, 'local': 2634, 'shots': 3950, 'lesser': 2576, 'effort': 1432, 'looked': 2647, 'terms': 4406, 'writers': 4969, 'further': 1853, 'warned': 4798, 'paid': 3169, 'reading': 3544, 'fit': 1740, 'category': 718, 'politically': 3325, 'fat': 1663, 'entertainment': 1500, 'possibly': 3351, 'gods': 1928, 'green': 1971, 'case': 707, 'considering': 952, 'qualities': 3483, 'insane': 2296, 'value': 4709, 'consists': 955, 'portion': 3338, 'thanks': 4423, 'nick': 3012, 'broke': 593, 'heart': 2064, 'grew': 1972, 'anime': 243, 'unusual': 4681, 'choices': 798, 'others': 3136, 'wolf': 4920, 'follows': 1775, 'mountain': 2917, 'eat': 1411, 'broken': 594, 'cry': 1073, 'rare': 3523, 'beautifully': 429, 'glad': 1916, 'holmes': 2139, 'professor': 3422, 'adventure': 130, 'willing': 4889, 'write': 4967, 'detective': 1220, 'greater': 1965, 'fully': 1847, 'empty': 1465, 'increasingly': 2268, 'apparent': 269, 'aspects': 322, 'african': 142, 'deals': 1137, 'letters': 2582, 'successful': 4266, 'minimum': 2856, 'tale': 4353, 'hired': 2117, 'purchase': 3469, 'proves': 3447, 'smaller': 4034, 'prepared': 3371, 'protect': 3443, 'attempting': 342, 'gotten': 1947, 'household': 2179, 'carefully': 689, 'hiding': 2099, 'turns': 4609, 'victim': 4729, 'damage': 1099, 'shoots': 3944, 'collection': 874, 'discover': 1279, 'identity': 2217, 'running': 3756, 'fascinating': 1658, 'band': 391, 'issue': 2364, 'wrote': 4974, 'respected': 3653, 'amateur': 206, 'artist': 307, 'murdered': 2940, 'studio': 4240, 'began': 441, 'opinions': 3119, 'killing': 2472, 'committed': 905, 'stopped': 4202, 'bare': 398, 'homosexual': 2145, 'certain': 737, 'sake': 3775, 'dropped': 1370, 'justify': 2439, 'whoever': 4872, 'description': 1197, 'spent': 4108, 'showing': 3958, 'victims': 4730, 'promising': 3433, 'army': 295, 'exposure': 1599, 'demands': 1175, 'reputation': 3640, 'relationships': 3598, 'husband': 2204, 'destroyed': 1214, 'hardy': 2037, 'unexpected': 4650, 'angry': 238, 'showed': 3956, 'loss': 2659, 'various': 4715, 'wars': 4804, 'charge': 761, 'four': 1812, 'sir': 4000, 'suddenly': 4273, 'returned': 3666, 'frequently': 1832, 'popular': 3333, 'britain': 588, 'native': 2972, 'eaten': 1412, 'today': 4508, 'week': 4837, 'suck': 4269, 'urban': 4688, 'needed': 2988, 'improved': 2255, 'kicks': 2463, 'ass': 323, 'damon': 1101, 'square': 4136, 'prior': 3400, 'basis': 408, 'joseph': 2419, 'knew': 2486, 'nostalgic': 3039, 'tribute': 4581, 'frank': 1821, 'sounds': 4084, 'typical': 4623, 'area': 286, 'society': 4050, 'possibilities': 3348, 'street': 4216, 'worked': 4941, 'letting': 2583, 'sam': 3777, 'repeat': 3630, 'amazing': 209, 'visually': 4758, 'closely': 855, 'brando': 566, 'abilities': 64, 'sinatra': 3989, 'simmons': 3981, 'sky': 4017, 'sarah': 3785, 'brown': 601, 'delight': 1167, 'nicely': 3009, 'johnson': 2411, 'costumes': 1006, 'tone': 4517, 'turned': 4606, 'struggle': 4234, 'properly': 3437, 'attitude': 346, 'develop': 1222, 'represent': 3637, 'progresses': 3426, 'passing': 3204, 'tired': 4501, 'model': 2880, 'nature': 2975, 'falls': 1640, 'near': 2979, 'decades': 1145, 'adapted': 114, 'hundreds': 2196, 'fatal': 1664, 'black': 493, 'ludicrous': 2685, 'whilst': 4869, 'attacked': 338, 'crying': 1074, 'bed': 436, 'leg': 2562, 'walls': 4783, 'paper': 3183, 'nonsense': 3030, 'watchable': 4812, 'seventies': 3904, 'creatures': 1046, 'vengeance': 4719, 'push': 3477, 'pile': 3275, 'affected': 137, 'dreadful': 1353, 'necessarily': 2983, 'rough': 3741, 'spots': 4132, 'friendly': 1836, 'fits': 1741, 'perfectly': 3226, 'captures': 678, 'surprising': 4315, 'describe': 1194, 'brenda': 575, 'except': 1556, 'campy': 664, 'expert': 1585, 'watched': 4813, 'psychotic': 3459, 'massacre': 2754, 'ii': 2226, 'sucks': 4271, 'scared': 3805, 'individuals': 2278, 'side': 3965, 'non': 3027, 'motivation': 2914, 'acceptable': 81, 'angle': 236, 'foot': 1781, 'tall': 4362, 'millions': 2848, 'object': 3066, 'filmed': 1717, 'lazy': 2543, 'impressed': 2251, 'gory': 1943, 'buff': 611, 'darkness': 1117, 'vampire': 4711, 'die': 1243, 'rated': 3527, 'creators': 1044, 'masterpiece': 2759, 'america': 212, 'joe': 2407, 'cooper': 990, 'corrupt': 1001, 'sports': 4130, 'desert': 1198, 'reunion': 3669, 'sport': 4129, 'basketball': 409, 'pro': 3406, 'manage': 2722, 'mate': 2765, 'itll': 2369, 'dude': 1381, 'jerk': 2395, 'recommend': 3571, 'quirky': 3493, 'dinner': 1254, 'table': 4346, 'choreographed': 801, 'staged': 4140, 'steve': 4181, 'martin': 2748, 'seemed': 3862, 'spoof': 4127, 'unlike': 4670, 'seven': 3903, 'unable': 4631, 'accident': 84, 'weeks': 4839, 'bought': 552, 'copy': 994, 'disappointed': 1273, 'superb': 4296, 'animated': 241, 'drawn': 1351, 'entertain': 1497, 'adults': 126, 'island': 2361, 'castle': 712, 'jerry': 2396, 'built': 618, 'land': 2511, 'unfortunate': 4653, 'president': 3378, 'depression': 1189, 'tracy': 4546, 'working': 4944, 'priest': 3392, 'francisco': 1819, 'classic': 835, 'tough': 4537, 'twice': 4613, 'sexually': 3910, 'facing': 1620, 'problems': 3409, 'settle': 3902, 'extra': 1606, 'affair': 135, 'catholic': 720, 'marriage': 2743, 'took': 4523, 'faith': 1633, 'seriously': 3892, 'walter': 4784, 'camp': 662, 'encounter': 1466, 'creep': 1051, 'climax': 849, 'grim': 1974, 'usual': 4699, 'fare': 1655, 'avoid': 363, 'drama': 1346, 'review': 3676, 'asking': 318, 'question': 3487, 'witnessed': 4915, 'dramatic': 1348, 'definition': 1163, 'themes': 4434, 'pointed': 3317, 'racial': 3501, 'directorial': 1265, 'debut': 1143, 'stop': 4201, 'elements': 1443, 'vice': 4727, 'concept': 930, 'sadly': 3769, 'ultimately': 4628, 'preview': 3386, 'constantly': 958, 'gives': 1914, 'intelligent': 2314, 'intelligence': 2313, 'lacking': 2504, 'race': 3499, 'ideas': 2215, 'structure': 4233, 'hospital': 2172, 'literally': 2622, 'everywhere': 1545, 'developing': 1224, 'creating': 1039, 'throws': 4482, 'unwatchable': 4682, 'hurts': 2203, 'brief': 579, 'attempt': 340, 'villain': 4744, 'speak': 4094, 'destroy': 1213, 'stereotype': 4178, 'cliché': 844, 'satire': 3788, 'generic': 1885, 'stands': 4147, 'ability': 65, 'color': 877, 'improve': 2254, 'typically': 4624, 'ignored': 2225, 'talent': 4354, 'pool': 3327, 'bright': 581, 'above': 68, 'smile': 4036, 'product': 3418, 'experiences': 1582, 'speaking': 4095, 'idiotic': 2219, 'flash': 1745, 'clips': 852, 'learning': 2552, 'starting': 4158, 'tight': 4492, 'defined': 1160, 'combined': 885, 'control': 977, 'failed': 1626, 'reminded': 3619, 'spell': 4104, 'word': 4937, 'silent': 3975, 'excitement': 1562, 'potential': 3355, 'technique': 4383, 'experienced': 1581, 'ship': 3934, 're': 3535, 'pictures': 3270, 'touched': 4534, 'lynch': 2691, 'proved': 3446, 'complicated': 925, 'states': 4163, 'hunters': 2200, 'bear': 420, 'ex': 1549, 'vietnam': 4735, 'metal': 2823, 'finger': 1731, 'la': 2500, 'freddy': 1826, 'walk': 4775, 'argument': 291, 'group': 1980, 'bodies': 526, 'murders': 2943, 'guys': 2001, 'ways': 4822, 'knife': 2487, 'trap': 4563, 'slasher': 4020, 'ladies': 2506, 'barely': 399, 'happens': 2029, 'discuss': 1283, 'smoke': 4039, 'occasional': 3074, 'dedicated': 1153, 'zombie': 4997, 'hunter': 2199, 'chair': 742, 'illegal': 2229, 'concerning': 933, 'disease': 1285, 'puts': 3481, 'strength': 4219, 'explained': 1587, 'uninteresting': 4660, 'tedious': 4387, 'existent': 1572, 'respect': 3652, 'flick': 1754, 'regret': 3591, 'savage': 3793, 'ireland': 2352, 'changed': 750, '1980': 20, 'subsequent': 4257, 'viewings': 4741, 'loud': 2664, 'domestic': 1318, 'post': 3352, 'boom': 537, 'pleasure': 3306, 'sophisticated': 4075, 'douglas': 1334, 'cary': 706, 'grant': 1956, 'memorable': 2802, 'favourite': 1673, 'gotta': 1946, 'christmas': 810, 'scrooge': 3837, 'soap': 4047, 'sex': 3907, 'references': 3583, 'handle': 2018, 'walks': 4780, 'ensemble': 1492, 'luckily': 2682, 'james': 2378, 'fill': 1714, 'shadow': 3912, 'comfortable': 892, 'jump': 2429, 'popcorn': 3331, 'leaves': 2556, '2006': 36, 'critical': 1062, 'actual': 108, 'bizarre': 492, 'secretary': 3850, 'quickly': 3491, 'audio': 354, 'conversations': 981, 'meant': 2784, 'white': 4870, 'service': 3896, 'chaos': 755, 'nations': 2971, 'driving': 1368, 'historically': 2120, 'depicted': 1183, 'gross': 1978, 'fair': 1630, 'record': 3573, 'fantasy': 1652, 'producers': 3416, 'motives': 2916, 'beloved': 461, 'channels': 754, 'reel': 3581, 'mention': 2810, 'issues': 2365, 'within': 4912, 'network': 3000, 'culture': 1079, '2000': 30, 'knows': 2493, 'hippie': 2115, 'touch': 4533, 'cd': 728, 'interested': 2324, 'experiments': 1584, 'missing': 2869, 'johnny': 2410, 'blow': 514, 'supposedly': 4307, 'responsible': 3656, 'double': 1331, 'noise': 3024, 'store': 4204, 'simple': 3983, 'jennifer': 2392, 'distant': 1295, 'busy': 635, 'practice': 3363, 'partner': 3198, 'scott': 3824, 'fond': 1776, 'attraction': 350, 'beyond': 476, 'friendship': 1838, 'test': 4416, 'seed': 3856, 'lover': 2672, 'cheating': 776, 'via': 4726, 'phone': 3255, 'calls': 654, 'plans': 3292, 'results': 3662, 'sorts': 4078, 'comedies': 889, 'pathetic': 3210, 'messages': 2820, 'consistently': 954, 'background': 380, 'mitchell': 2875, 'viewing': 4740, 'elaborate': 1439, 'defend': 1158, 'defense': 1159, 'attorney': 348, 'court': 1020, 'rule': 3753, 'judge': 2424, 'blank': 501, 'shut': 3961, 'insult': 2309, 'justice': 2438, 'male': 2719, 'species': 4098, 'whom': 4875, 'jail': 2376, 'innocent': 2294, 'awful': 372, 'trial': 4580, 'allowed': 190, 'bored': 541, 'eyes': 1613, 'throw': 4479, 'stupid': 4247, 'predictable': 3367, 'surrounding': 4319, 'taylor': 4372, 'cross': 1066, 'sleazy': 4023, 'forced': 1787, 'anymore': 258, 'mistake': 2871, 'anger': 235, 'loser': 2655, 'sight': 3969, 'students': 4239, 'awfully': 373, 'vague': 4705, 'anti': 254, 'onto': 3111, 'fight': 1707, 'fields': 1705, 'personalities': 3241, 'attempted': 341, 'pseudo': 3454, 'alan': 171, 'de': 1131, 'escape': 1517, 'slowly': 4032, 'deceased': 1146, 'wealthy': 4827, 'status': 4165, 'obsession': 3070, 'naked': 2959, 'existence': 1571, 'believes': 456, 'spends': 4107, 'lone': 2642, 'marry': 2745, 'key': 2458, 'doctor': 1304, 'cousin': 1021, 'holding': 2130, 'estate': 1525, 'witness': 4914, 'slaughter': 4021, 'cash': 709, 'davis': 1126, 'bound': 553, 'doors': 1329, 'albert': 174, 'described': 1195, 'appears': 278, 'ghost': 1902, 'haunting': 2051, 'members': 2801, 'ultimate': 4627, 'crimes': 1056, 'edge': 1418, 'honest': 2146, 'uneven': 4649, 'pacing': 3163, 'rising': 3703, 'sequence': 3887, 'caring': 691, 'ice': 2210, 'crime': 1055, 'throat': 4476, 'scheme': 3812, 'slightly': 4029, 'theyd': 4443, 'benefit': 465, 'stellar': 4174, 'below': 462, 'par': 3184, 'atmosphere': 333, 'china': 795, 'student': 4238, 'development': 1225, 'plant': 3293, 'ruthless': 3764, 'bunch': 623, 'company': 910, 'chased': 770, 'speaks': 4096, 'order': 3126, 'whatever': 4859, 'evidence': 1546, 'remain': 3609, 'faults': 1669, 'attracted': 349, 'genre': 1888, 'appeal': 271, 'endure': 1475, 'count': 1010, 'shoot': 3942, 'em': 1452, 'filmmakers': 1720, 'corruption': 1002, 'villains': 4745, 'alert': 178, 'formulaic': 1803, 'wouldve': 4959, 'hey': 2095, 'elvira': 1450, 'crappy': 1032, 'flicks': 1755, 'check': 777, 'speed': 4103, 'connection': 946, 'uwe': 4703, 'boll': 529, 'topless': 4527, 'brains': 563, 'wondering': 4930, 'brain': 562, 'nowhere': 3056, 'fell': 1690, 'asleep': 320, 'footage': 1782, 'dinosaurs': 1256, 'stolen': 4195, 'concerns': 934, 'dinosaur': 1255, 'minute': 2858, 'stretched': 4222, '90': 60, 'desperate': 1208, 'century': 736, 'charm': 767, 'succeeds': 4264, 'relationship': 3597, 'sons': 4073, 'worry': 4950, 'ie': 2221, 'americas': 215, 'figures': 1713, 'jason': 2383, 'bourne': 554, 'sits': 4006, 'meanwhile': 2785, 'cia': 814, 'chief': 788, 'response': 3654, 'territory': 4411, 'associated': 327, 'necessary': 2984, 'national': 2970, 'security': 3854, 'costs': 1004, 'taken': 4350, 'simon': 3982, 'brutally': 604, 'movement': 2923, 'stunt': 4245, 'struggling': 4236, 'delivers': 1172, 'possible': 3350, 'tense': 4403, 'essentially': 1523, 'brilliantly': 584, 'storyline': 4208, 'decisions': 1152, 'dubbed': 1379, '2002': 32, 'print': 3399, 'dubbing': 1380, 'clumsy': 866, 'western': 4853, 'conversation': 980, 'utterly': 4702, 'redeeming': 3577, 'hype': 2207, 'scares': 3806, 'dark': 1115, 'fails': 1628, 'illogical': 2231, 'cheated': 775, 'haunted': 2050, 'border': 539, 'present': 3374, 'bleak': 503, 'enormous': 1490, 'gay': 1876, 'accepted': 82, 'limits': 2607, 'peoples': 3222, 'accept': 80, 'newly': 3004, 'sends': 3876, 'bomb': 531, 'wounded': 4961, 'funeral': 1849, 'arrives': 302, 'managed': 2723, 'moved': 2922, 'reaches': 3538, 'prince': 3396, 'peace': 3219, 'sides': 3967, 'stronger': 4230, 'prisoners': 3403, 'wearing': 4831, 'yellow': 4981, 'pink': 3277, 'exist': 1569, 'thousands': 4466, 'solution': 4059, 'succeed': 4262, 'discussion': 1284, 'suffering': 4277, 'forbidden': 1785, 'soldiers': 4054, 'university': 4667, 'paris': 3189, 'heston': 2094, 'normally': 3034, 'screenwriter': 3833, 'fault': 1668, 'shakespeare': 3915, 'fest': 1696, 'credibility': 1047, 'female': 1693, 'intended': 2315, 'plausible': 3295, 'sensitive': 3879, 'hero': 2088, 'type': 4621, 'overacting': 3149, 'compelling': 916, 'exciting': 1563, 'breaking': 570, 'correct': 1000, 'essence': 1521, 'biggest': 480, 'screens': 3832, 'admittedly': 123, 'deserved': 1200, 'hopes': 2159, 'member': 2800, 'pleasantly': 3303, 'contrary': 974, 'attempts': 343, 'lewis': 2586, 'physical': 3262, 'ignorant': 2223, 'fool': 1779, 'ape': 266, 'crack': 1027, 'ends': 1474, 'dog': 1310, 'mouth': 2920, 'falk': 1636, 'gag': 1861, 'performed': 3230, 'delivery': 1173, 'faces': 1618, 'drag': 1342, 'asian': 314, 'gonna': 1936, 'trailers': 4555, 'halloween': 2010, '13th': 5, 'scream': 3826, 'listed': 2618, 'bloody': 513, 'grown': 1984, 'picked': 3266, 'revenge': 3675, 'somebody': 4062, 'includes': 2263, 'richards': 3687, 'jessica': 2398, 'theyve': 4446, 'invisible': 2344, 'display': 1291, 'karloff': 2445, 'bela': 450, 'lugosi': 2686, 'pulls': 3464, 'flawless': 1751, 'unbearable': 4633, 'passionate': 3206, 'maintain': 2710, 'hear': 2061, 'junk': 2436, 'science': 3816, 'relevant': 3604, 'reaching': 3539, 'delightful': 1168, 'weekend': 4838, 'marvelous': 2750, 'exception': 1557, 'kevin': 2457, 'halfway': 2008, 'smith': 4038, 'exceptionally': 1559, 'assumed': 329, 'ultra': 4629, 'across': 96, 'nobody': 3022, 'core': 995, 'killings': 2473, 'alright': 198, 'tied': 4489, 'kinda': 2477, 'ron': 3734, 'irony': 2357, 'mainstream': 2709, 'offensive': 3086, 'suggests': 4282, 'lonely': 2643, 'wow': 4962, 'stereotypes': 4179, 'bitter': 491, 'struggles': 4235, 'weve': 4856, 'powell': 3358, 'explore': 1594, 'claims': 830, 'virginia': 4750, 'chases': 771, 'mothers': 2912, 'losing': 2658, 'steal': 4170, 'fortune': 1806, 'engaging': 1481, 'engage': 1479, 'notable': 3041, 'appearance': 274, 'cartoons': 705, 'target': 4366, 'nor': 3032, 'note': 3044, 'decide': 1148, 'scare': 3803, 'ridiculously': 3694, 'besides': 468, 'crowd': 1067, 'harsh': 2040, 'precious': 3366, 'indie': 2276, 'minor': 2857, 'viewed': 4737, 'terror': 4412, 'mighty': 2836, 'finish': 1732, 'infamous': 2284, 'unaware': 4632, 'massive': 2756, 'celluloid': 731, 'inept': 2281, 'string': 4227, 'unfunny': 4655, 'rick': 3689, 'alongside': 196, 'francis': 1818, 'bill': 481, 'directors': 1266, 'longer': 2645, 'trash': 4565, 'tomatoes': 4515, 'dressing': 1359, 'costume': 1005, 'urge': 4689, 'whenever': 4863, 'switch': 4339, 'lane': 2515, 'multiple': 2936, 'sloppy': 4030, 'staying': 4168, 'names': 2963, 'wishing': 4907, 'murderer': 2941, 'journalist': 2420, 'sid': 3964, 'allen': 188, 'entertained': 1498, 'guessing': 1991, 'till': 4493, 'million': 2847, 'tiresome': 4502, 'suits': 4287, 'expressed': 1601, 'poem': 3312, 'among': 217, 'chorus': 803, 'particular': 3194, 'artistic': 308, 'rendition': 3625, 'occurred': 3077, 'appreciation': 281, 'fbi': 1675, 'reed': 3580, 'guest': 1992, 'usa': 4691, 'prison': 3401, 'ralph': 3510, 'cell': 730, 'criminals': 1058, 'jr': 2423, 'magazine': 2701, 'reveals': 3673, 'hanging': 2023, 'imagined': 2239, 'hasnt': 2044, 'guarantee': 1987, 'questions': 3489, 'presumably': 3380, 'property': 3438, 'sellers': 3872, 'turkey': 4604, 'insulting': 2310, 'oscar': 3133, 'win': 4892, '40s': 49, 'degree': 1164, 'catch': 714, 'husbands': 2205, 'temple': 4398, 'martial': 2747, 'arts': 310, 'kung': 2498, 'fu': 1844, 'standard': 4144, 'choreography': 802, 'remarkable': 3613, 'displayed': 1292, 'west': 4852, 'gray': 1963, 'crafted': 1029, 'cultural': 1078, 'compare': 911, 'feelings': 1686, 'courage': 1018, 'sacrifice': 3766, 'doomed': 1327, 'tonight': 4519, 'flawed': 1750, 'loosely': 2651, 'terribly': 4408, 'miscast': 2862, 'don': 1320, 'lyrics': 2692, 'parallel': 3185, 'detail': 1217, 'doc': 1303, 'safe': 3771, 'bullet': 620, 'virtually': 4751, 'roy': 3745, 'thomas': 4458, 'novels': 3053, 'explains': 1589, 'complain': 919, 'batman': 413, 'gordon': 1940, 'fans': 1650, 'books': 536, 'charlie': 765, 'chan': 746, 'tarzan': 4367, 'buck': 605, 'types': 4622, 'despite': 1211, 'regular': 3592, 'terrific': 4409, 'quick': 3490, 'passion': 3205, 'teachers': 4376, 'banned': 395, 'teaching': 4377, 'pamela': 3179, 'realized': 3553, 'nose': 3037, 'princess': 3397, 'streisand': 4218, 'plastic': 3294, 'stunning': 4244, 'gem': 1877, 'welcome': 4842, 'petty': 3249, 'building': 615, 'shop': 3945, 'wacky': 4769, 'ingredients': 2289, 'ride': 3692, 'passes': 3203, 'superbly': 4297, 'macy': 2695, 'locked': 2637, 'madonna': 2699, 'inspired': 2301, 'latter': 2528, 'produced': 3414, 'steven': 4182, 'fred': 1825, 'astaire': 330, 'dances': 1106, 'duo': 1386, 'ginger': 1908, 'advantage': 129, 'burns': 628, 'radio': 3504, 'chance': 747, '30s': 44, 'tap': 4364, 'numbers': 3061, 'points': 3319, 'trio': 4587, 'number': 3060, 'horrifying': 2167, 'fashion': 1659, 'trilogy': 4586, 'staring': 4152, 'sitting': 4007, 'polanski': 3321, 'build': 614, 'round': 3742, 'filmmaker': 1719, 'direct': 1258, 'pulled': 3462, 'highlights': 2104, 'greatly': 1967, 'dub': 1378, 'pain': 3170, 'ears': 1402, 'fake': 1635, 'ugly': 4625, 'realise': 3548, 'regardless': 3590, 'corner': 996, 'interpretation': 2328, 'relatively': 3600, 'choose': 799, 'insight': 2298, 'paranoia': 3186, 'uncle': 4636, 'serving': 3897, 'directions': 1262, 'root': 3737, 'cynical': 1093, 'obnoxious': 3067, 'dust': 1388, 'date': 1118, 'expecting': 1578, 'driven': 1365, 'plenty': 3307, 'actresses': 106, 'justin': 2440, 'delivered': 1170, 'lovable': 2668, 'feminist': 1695, 'gender': 1878, 'hearted': 2065, 'shame': 3918, 'widely': 4881, 'horse': 2170, '12': 3, 'gratuitous': 1961, 'strangely': 4212, 'appreciated': 280, 'riding': 3695, 'horses': 2171, 'captured': 677, 'torture': 4529, 'philosophy': 3254, 'setting': 3900, 'coherent': 871, 'cheesy': 781, 'elephant': 1444, 'danger': 1109, 'eventually': 1537, 'ensues': 1493, 'replaced': 3634, 'pot': 3354, 'goodness': 1938, 'andrews': 229, 'discovered': 1280, 'carry': 700, 'hollywoods': 2138, 'granted': 1957, 'liberal': 2588, 'represented': 3638, 'fourth': 1813, 'dirty': 1268, 'harry': 2039, 'disgusting': 1286, 'females': 1694, 'modern': 2882, 'ann': 244, 'foul': 1810, 'clint': 850, 'eastwood': 1409, 'satisfying': 3791, 'base': 402, 'matches': 2764, 'warriors': 4803, 'warrior': 4802, 'texas': 4418, 'doom': 1326, 'crush': 1072, 'seconds': 3848, 'bother': 548, 'sole': 4055, 'survivor': 4324, 'dream': 1354, 'dollar': 1314, 'ted': 4386, 'blues': 519, 'impact': 2244, 'manages': 2725, 'pretending': 3382, 'shortly': 3947, 'legal': 2563, 'wrestling': 4966, 'jake': 2377, 'snake': 4042, 'roberts': 3714, 'jimmy': 2403, 'ring': 3698, 'marty': 2749, 'hitting': 2126, 'survive': 4321, 'jim': 2402, 'allowing': 191, 'overcome': 3151, 'drops': 1372, 'beat': 423, 'tag': 4348, 'boot': 538, 'drop': 1369, 'wore': 4939, 'paint': 3173, 'showdown': 3955, 'luke': 2687, 'relative': 3599, 'beats': 426, 'upset': 4687, 'finest': 1730, 'outfit': 3144, 'gene': 1879, 'pretend': 3381, 'survival': 4320, 'defeat': 1157, 'guns': 1998, 'proceeds': 3411, 'allows': 192, 'chinese': 796, 'unconvincing': 4638, 'acts': 107, 'met': 2822, 'expression': 1602, 'practically': 3362, 'changes': 751, 'erotic': 1515, 'trailer': 4554, 'blows': 517, 'trust': 4598, 'plague': 3285, 'unfolds': 4651, 'pace': 3161, 'dan': 1102, 'makeup': 2717, 'plain': 3286, 'usually': 4700, 'significant': 3972, 'overlooked': 3154, 'crisis': 1060, 'emphasis': 1463, 'portrait': 3339, 'award': 366, 'berlin': 467, 'compared': 912, 'inferior': 2285, 'mentally': 2809, 'blue': 518, 'alcoholic': 177, 'alcohol': 176, 'chain': 741, 'smoking': 4040, 'credit': 1049, 'resolution': 3649, 'directly': 1263, 'daring': 1114, 'european': 1530, 'revealing': 3672, 'fever': 1699, 'universe': 4666, 'guard': 1988, 'dimensional': 1253, 'painted': 3174, 'thugs': 4484, 'overly': 3155, 'graphic': 1958, 'luck': 2681, 'deliver': 1169, 'pilot': 3276, 'thrills': 4475, 'hates': 2048, 'humans': 2190, 'wishes': 4906, 'grows': 1985, 'failure': 1629, 'throwing': 4480, 'brooklyn': 595, 'touches': 4535, 'refreshing': 3586, 'reach': 3536, 'eyed': 1612, 'touching': 4536, 'realism': 3549, 'warmth': 4796, 'neo': 2998, 'sentimental': 3882, 'fairy': 1632, 'chaplin': 756, 'emotional': 1459, 'cold': 872, 'suggested': 4281, 'international': 2326, 'horrors': 2169, 'chances': 748, 'multi': 2935, 'afternoon': 144, 'sets': 3899, 'cutting': 1092, 'spend': 4105, 'holiday': 2134, 'lou': 2663, 'memories': 2803, 'latest': 2526, 'gorgeous': 1942, 'melodramatic': 2798, 'keeping': 2450, 'nostalgia': 3038, 'thrillers': 4473, 'pleasant': 3302, 'gerard': 1895, 'twisted': 4618, 'cinematographer': 819, 'surreal': 4317, 'ignore': 2224, 'hooked': 2153, 'hitchcock': 2123, 'tradition': 4549, 'spider': 4109, 'whatsoever': 4861, 'laughed': 2532, 'noir': 3023, 'involve': 2345, 'incoherent': 2265, 'displays': 1293, 'commented': 900, 'filled': 1715, 'forgotten': 1797, 'eddie': 1416, 'agents': 151, 'countryside': 1015, 'olivier': 3103, 'flight': 1757, 'fancy': 1649, 'flop': 1760, 'fascinated': 1657, 'enthusiasm': 1501, 'pair': 3176, 'ideal': 2214, 'convey': 982, 'landscapes': 2514, 'discovery': 1282, 'satisfied': 3789, 'allow': 189, 'teacher': 4375, 'wind': 4893, 'blowing': 515, 'canada': 666, 'clue': 864, 'heavy': 2070, '2nd': 41, 'parents': 3188, 'germany': 1898, 'staff': 4138, '60': 53, 'isolated': 2363, 'monster': 2892, 'supernatural': 4302, 'walking': 4779, 'mario': 2738, 'absence': 70, 'giallo': 1904, 'sinister': 3998, 'mysteries': 2954, 'secrets': 3852, 'lips': 2615, 'beauty': 430, 'suspects': 4328, 'taste': 4369, 'desperation': 1210, 'appeared': 276, 'suit': 4284, 'streets': 4217, 'charismatic': 763, 'cult': 1077, 'scooby': 3820, 'loads': 2633, 'rubbish': 3748, 'segments': 3868, 'shorts': 3948, 'formula': 1802, 'couples': 1017, 'earl': 1398, 'richardson': 3688, 'intimate': 2331, 'candy': 668, 'patrick': 3213, 'discovers': 1281, 'pregnant': 3369, 'lay': 2542, 'pops': 3332, 'prostitute': 3440, 'worthless': 4954, 'executive': 1567, 'cliche': 843, 'skip': 4016, '17': 9, '18': 10, 'truck': 4595, 'rocket': 3721, 'attached': 336, 'bugs': 613, 'front': 1841, 'dies': 1245, 'wasting': 4810, 'communist': 907, 'standing': 4146, 'unbelievably': 4635, 'explanation': 1590, 'contain': 962, 'traditional': 4550, 'enemies': 1476, '20th': 38, 'ages': 152, 'lie': 2590, 'makers': 2715, 'aimed': 162, 'childrens': 793, 'backgrounds': 381, 'mass': 2753, 'topic': 4526, 'blair': 497, 'raw': 3532, 'menacing': 2807, 'duke': 1383, 'simpson': 3987, 'nelson': 2997, 'authority': 360, 'boss': 546, 'burt': 629, 'reynolds': 3684, 'strip': 4228, 'valuable': 4708, 'opportunity': 3121, 'average': 362, 'appear': 273, 'complex': 923, 'forgot': 1796, 'thirty': 4456, 'troubled': 4593, 'hamlet': 2013, 'hills': 2109, 'wonderfully': 4929, 'buddies': 608, 'cruel': 1070, 'rid': 3690, 'exploitation': 1592, 'contemporary': 965, 'winner': 4897, 'creates': 1038, 'gritty': 1977, 'considerable': 950, 'victoria': 4732, 'girlfriend': 1910, 'linda': 2609, 'singer': 3993, 'mayor': 2777, 'bank': 394, 'andrew': 228, 'stevens': 4183, 'gas': 1874, 'carpenter': 694, 'anthony': 253, 'owner': 3159, 'arm': 292, 'dick': 1239, 'piano': 3264, 'player': 3298, 'moral': 2902, 'slick': 4026, 'lively': 2627, 'trashy': 4566, 'focuses': 1768, 'separate': 3883, 'illness': 2230, 'sudden': 4272, 'gradually': 1952, 'fashioned': 1660, 'france': 1816, 'established': 1524, 'develops': 1226, 'approach': 282, 'handed': 2016, 'greek': 1970, 'moon': 2900, 'suspect': 4327, 'revelation': 3674, 'contained': 963, 'revealed': 3671, 'presence': 3373, 'largely': 2518, 'pretentious': 3383, 'hints': 2113, 'hence': 2083, 'amongst': 218, 'catherine': 719, 'deeply': 1156, 'september': 3884, 'rain': 3506, 'psychological': 3458, 'unhappy': 4656, 'sympathetic': 4342, 'reached': 3537, 'shadows': 3913, 'idiot': 2218, 'forest': 1791, 'angels': 234, 'ripped': 3701, 'ps': 3453, 'admire': 121, 'convince': 983, 'amazingly': 210, 'amateurish': 207, 'inane': 2258, 'careers': 687, 'jaw': 2384, 'cared': 685, 'suggest': 4280, 'youve': 4995, 'akshay': 169, 'needless': 2989, 'slapstick': 4019, 'hardly': 2036, 'odd': 3080, 'manner': 2729, 'extended': 1604, 'requires': 3642, 'monkey': 2890, 'initially': 2291, 'irritating': 2359, 'large': 2517, 'ordinary': 3128, 'kapoor': 2443, 'impress': 2250, '45': 50, 'extremely': 1610, 'stale': 4141, 'technically': 4382, 'lighting': 2596, 'track': 4544, 'doubts': 1333, 'soldier': 4053, 'misses': 2868, 'saving': 3797, 'enemy': 1477, 'rooms': 3736, 'dolph': 1317, 'field': 1704, 'duty': 1390, 'loose': 2650, 'unforgettable': 4652, 'barbara': 397, 'max': 2774, 'von': 4765, 'provides': 3450, 'narrator': 2967, 'highest': 2102, 'solve': 4060, 'refuses': 3587, 'responsibility': 3655, 'areas': 287, 'winning': 4898, 'tender': 4401, 'evening': 1534, 'vhs': 4725, 'humble': 2191, 'ruins': 3752, 'danes': 1108, 'jobs': 2406, 'clichés': 846, 'actions': 101, 'views': 4742, 'hundred': 2195, 'price': 3389, 'albeit': 173, 'position': 3345, 'ego': 1435, 'needs': 2990, 'visual': 4757, 'finale': 1723, 'provide': 3448, 'arnold': 296, 'icon': 2211, 'centers': 734, 'cleverly': 842, 'jay': 2386, 'mindless': 2851, '1930s': 11, 'situations': 4009, 'garbage': 1870, 'caliber': 649, 'letter': 2581, 'neighbor': 2992, 'magical': 2704, 'designed': 1203, 'dramas': 1347, 'innocence': 2293, 'carried': 698, 'tears': 4380, 'coach': 868, 'individual': 2277, 'transformation': 4560, 'creative': 1041, 'rose': 3739, 'believed': 455, 'lee': 2559, 'julia': 2427, 'awkward': 374, 'opposite': 3123, 'pants': 3182, 'promise': 3430, 'pie': 3271, 'stupidity': 4248, 'offered': 3088, 'losers': 2656, 'mom': 2885, 'claim': 828, 'yeah': 4977, 'disappear': 1270, 'premise': 3370, 'cops': 993, 'cars': 702, 'places': 3284, 'reasonable': 3558, 'twists': 4619, 'thrill': 4471, 'eva': 1531, 'frankly': 1823, 'vicious': 4728, 'kicked': 2461, 'march': 2734, 'lacks': 2505, 'incomprehensible': 2267, 'rape': 3521, 'womans': 4922, 'escaped': 1518, 'sheriff': 3929, 'progress': 3425, 'fear': 1676, 'poorly': 3329, 'window': 4894, 'lucky': 2683, 'cost': 1003, 'navy': 2976, 'wwii': 4975, 'brave': 567, 'wooden': 4934, 'sat': 3786, 'attitudes': 347, 'sci': 3815, 'cheese': 780, 'centered': 733, 'wake': 4774, 'morning': 2906, 'motion': 2913, 'irrelevant': 2358, 'workers': 4943, 'heads': 2059, 'scores': 3823, 'alien': 183, 'folk': 1770, '1950s': 14, 'creature': 1045, 'aliens': 184, 'intentionally': 2320, 'deserve': 1199, 'lately': 2524, 'contrast': 975, 'waters': 4817, 'nearby': 2980, 'washington': 4806, 'exaggerated': 1552, 'larger': 2519, 'loving': 2675, 'flat': 1748, 'simplistic': 3985, 'profound': 3423, 'hanks': 2025, 'vehicle': 4718, 'pit': 3278, 'farm': 1656, 'lying': 2690, 'conspiracy': 956, 'threw': 4470, 'carrey': 696, 'rocks': 3722, 'trek': 4578, 'cage': 645, 'combat': 882, 'outcome': 3142, 'treated': 4573, 'dozen': 1338, 'united': 4664, 'enterprise': 1495, 'unknown': 4668, 'tend': 4400, 'kirk': 2482, 'officers': 3093, 'mission': 2870, 'severe': 3906, 'finished': 1733, 'neat': 2982, 'masters': 2761, 'stays': 4169, 'intrigue': 2333, 'eighties': 1437, 'japanese': 2382, 'keaton': 2448, 'global': 1920, 'warming': 4795, 'laws': 2540, 'instinct': 2308, 'train': 4556, 'grasp': 1960, 'location': 2635, 'ah': 158, 'uninspired': 4657, 'dreams': 1355, 'taxi': 4371, 'driver': 1366, 'buddy': 609, 'wise': 4903, 'bore': 540, 'safety': 3772, 'advise': 134, 'stylish': 4251, 'solid': 4057, 'carrie': 697, 'baker': 385, 'blake': 498, 'dennis': 1179, 'spirit': 4113, 'california': 650, '75': 57, 'page': 3167, 'theaters': 4428, 'factor': 1622, 'installment': 2303, 'thinks': 4454, 'overdone': 3152, 'advance': 127, 'assault': 324, 'trademark': 4548, 'process': 3412, 'classics': 837, 'months': 2897, 'burned': 626, 'glover': 1923, 'producer': 3415, 'louise': 2666, 'rangers': 3517, 'dressed': 1358, 'toys': 4543, 'fed': 1682, 'contest': 967, 'turner': 4607, 'notably': 3042, 'command': 897, 'briefly': 580, 'leaving': 2557, 'drives': 1367, 'hint': 2112, 'warner': 4799, 'section': 3853, 'musicals': 2948, 'tends': 4402, 'todd': 4510, 'assistant': 326, 'alexander': 180, 'kelly': 2452, 'wrapped': 4964, 'attend': 344, 'gang': 1867, 'photographer': 3259, 'imitation': 2241, 'edgar': 1417, 'kennedy': 2454, 'restaurant': 3658, 'rip': 3700, 'americans': 214, 'accidentally': 85, 'mentions': 2813, 'shall': 3916, 'incident': 2260, 'florida': 1761, 'achieve': 92, 'feet': 1688, 'embarrassed': 1453, 'uses': 4697, 'belongs': 460, 'include': 2261, 'charisma': 762, 'remembered': 3617, 'naturally': 2974, 'gifted': 1907, 'holly': 2136, 'angela': 232, 'convincingly': 986, 'earned': 1401, 'food': 1778, 'nuts': 3064, 'grandfather': 1954, 'pushed': 3478, 'wisdom': 4902, 'proud': 3444, 'lifestyle': 2593, 'skin': 4015, 'pleased': 3305, 'charming': 768, 'aged': 149, 'conventional': 979, 'vulnerable': 4768, 'screaming': 3827, 'reviewers': 3678, 'cable': 644, 'lower': 2677, 'visit': 4755, 'hitler': 2124, 'backdrop': 379, 'honor': 2150, 'afford': 138, 'despair': 1207, 'frustrated': 1842, 'offers': 3090, 'initial': 2290, 'importantly': 2248, 'glimpse': 1919, 'understood': 4647, 'li': 2587, 'confusing': 942, 'felix': 1689, 'photo': 3257, 'strongly': 4231, 'weird': 4841, 'spooky': 4128, 'caused': 724, 'doo': 1325, 'retired': 3664, 'gift': 1906, 'reminiscent': 3621, 'ruby': 3749, 'powers': 3361, 'clark': 832, 'lol': 2640, 'perry': 3237, 'stanley': 4148, 'combination': 883, 'jonathan': 2417, 'bruce': 602, 'voiced': 4762, 'ward': 4793, 'growing': 1983, 'album': 175, 'lasted': 2522, 'hoped': 2156, 'baseball': 403, 'solo': 4058, 'robot': 3717, 'adventures': 131, 'documentaries': 1306, 'born': 544, 'seasons': 3844, 'online': 3109, 'dvds': 1392, 'compelled': 915, 'split': 4120, 'murderous': 2942, 'lesbian': 2573, 'cardboard': 682, 'gangsters': 1869, 'listening': 2620, 'quotes': 3497, 'removed': 3624, 'featured': 1679, 'porno': 3337, 'utter': 4701, 'crude': 1069, 'nudity': 3059, 'kudos': 2497, 'giant': 1905, 'decade': 1144, 'row': 3744, 'regard': 3588, 'noted': 3045, 'support': 4303, 'cheek': 779, 'favor': 1670, 'disc': 1278, 'recording': 3575, 'subtitles': 4259, 'blunt': 520, 'elizabeth': 1445, 'cases': 708, 'competent': 917, 'financial': 1725, 'happiness': 2031, 'characterization': 759, 'patient': 3211, 'shines': 3932, 'understated': 4646, 'slight': 4027, 'humanity': 2189, 'meeting': 2794, 'nervous': 2999, 'expressions': 1603, 'environment': 1505, 'greed': 1968, 'engaged': 1480, 'abraham': 69, 'packed': 3166, 'opera': 3116, 'eric': 1514, 'lab': 2501, 'desperately': 1209, 'helen': 2075, 'butt': 638, 'rush': 3759, 'commercial': 902, '50': 51, 'ad': 110, 'stiff': 4187, 'cop': 991, 'serve': 3893, 'cuts': 1091, 'jones': 2418, 'pulp': 3465, 'trick': 4582, 'chase': 769, 'raised': 3508, 'bar': 396, 'resources': 3651, 'pearl': 3220, 'jane': 2380, 'eyre': 1614, 'annoyed': 248, 'rochester': 3719, 'dalton': 1098, 'complaint': 920, 'cinderella': 815, 'timeless': 4496, 'lovely': 2671, 'snow': 4045, 'drags': 1345, 'antics': 255, 'genuinely': 1892, 'overrated': 3156, 'underrated': 4642, 'rarely': 3524, 'cox': 1026, 'asked': 317, 'awe': 370, 'bud': 607, 'cowboy': 1025, 'atlantis': 332, 'sea': 3838, 'pity': 3281, 'react': 3540, 'flow': 1762, 'magic': 2703, 'currently': 1085, '50s': 52, 'connected': 945, 'spite': 4117, 'arrive': 300, 'oddly': 3081, 'stock': 4193, 'lose': 2654, 'clothes': 860, 'sullivan': 4288, 'purple': 3473, 'porn': 3336, 'prefer': 3368, 'descent': 1193, 'definite': 1161, 'comical': 894, 'margaret': 2735, 'sidekick': 3966, 'guessed': 1990, 'enters': 1496, 'rage': 3505, 'seeks': 3860, 'steps': 4177, 'saga': 3773, 'nurse': 3063, 'screams': 3828, 'alas': 172, 'dire': 1257, 'heroine': 2091, 'karen': 2444, 'distracting': 1297, 'disappeared': 1271, 'ghosts': 1903, 'clues': 865, 'reveal': 3670, 'abandoned': 62, 'chapter': 757, 'reactions': 3542, 'edited': 1420, 'godzilla': 1929, 'receive': 3563, 'randomly': 3515, 'tea': 4373, 'lake': 2509, 'jealous': 2388, 'retarded': 3663, 'exact': 1550, 'devils': 1229, 'harder': 2035, 'succeeded': 4263, 'prime': 3395, 'extent': 1605, 'widow': 4883, 'counter': 1011, 'rival': 3706, 'polished': 3323, 'advice': 133, 'europe': 1529, 'india': 2273, 'forms': 1801, 'royal': 3746, 'iii': 2227, 'betty': 474, 'wished': 4905, 'interview': 2329, 'adequate': 120, 'slap': 4018, 'teeth': 4393, 'frequent': 1831, 'christian': 808, 'walker': 4778, 'nail': 2957, 'celebrity': 729, 'basic': 406, 'monsters': 2893, 'titles': 4506, 'companion': 909, 'roger': 3724, 'barry': 401, 'cup': 1080, 'storytelling': 4209, 'waitress': 4773, 'werewolf': 4850, 'force': 1786, 'threat': 4467, 'headed': 2058, 'ryan': 3765, 'kane': 2442, 'believing': 457, 'co': 867, 'digital': 1251, 'breasts': 572, 'hill': 2108, 'ancient': 225, 'achieved': 93, 'splatter': 4118, 'reasonably': 3559, 'youd': 4987, 'obscure': 3068, 'dentist': 1180, 'franchise': 1817, 'assume': 328, 'con': 928, 'likewise': 2603, 'originality': 3130, 'sucked': 4270, 'exercise': 1568, 'inducing': 2279, 'leonard': 2572, 'access': 83, 'medium': 2792, 'alternate': 200, 'locations': 2636, 'grab': 1949, 'raped': 3522, 'garden': 1872, 'dolls': 1316, 'speech': 4102, 'therefore': 4439, 'bucks': 606, 'tons': 4520, 'imagination': 2236, 'nevertheless': 3002, 'sincere': 3991, 'hole': 2132, 'obsessed': 3069, 'bringing': 586, 'bath': 411, 'ought': 3138, 'cause': 723, 'suffice': 4279, 'depressed': 1187, 'simplicity': 3984, 'sings': 3997, 'worker': 4942, 'enjoys': 1489, 'thoughtful': 4463, 'bond': 532, 'elderly': 1440, 'serial': 3889, 'exceptional': 1558, 'businessman': 634, 'dealing': 1136, 'sold': 4052, 'victor': 4731, 'market': 2740, 'church': 813, 'jesus': 2399, 'christ': 807, 'jon': 2416, 'che': 773, 'cuba': 1075, 'extraordinary': 1607, 'understanding': 4645, 'troops': 4591, 'medical': 2790, 'system': 4345, 'del': 1165, 'source': 4086, 'heres': 2087, 'chick': 786, 'contains': 964, 'suitable': 4285, 'parent': 3187, 'junior': 2435, 'spike': 4111, 'brilliance': 582, 'related': 3594, 'thankfully': 4422, 'dealt': 1138, 'christians': 809, 'grace': 1950, 'instantly': 2306, 'easier': 1405, 'laid': 2508, 'bible': 477, 'community': 908, 'championship': 745, 'league': 2549, 'kick': 2460, 'goal': 1925, 'dry': 1377, 'planning': 3291, 'meat': 2787, 'share': 3920, 'rubber': 3747, 'cats': 721, 'user': 4696, 'un': 4630, 'foreign': 1790, 'awake': 365, 'strange': 4211, 'changing': 752, 'synopsis': 4344, 'wannabe': 4787, 'fisher': 1739, 'cards': 683, 'ranks': 3519, 'doll': 1313, 'nightmare': 3014, 'spoil': 4121, 'mid': 2832, 'picks': 3268, 'awards': 367, 'steals': 4172, 'nonetheless': 3029, 'shape': 3919, 'forgettable': 1794, 'hidden': 2096, 'beneath': 464, 'levels': 2585, 'stomach': 4196, 'catches': 715, 'denzel': 1181, 'freedom': 1828, 'faithful': 1634, 'agreed': 156, 'stinker': 4191, 'drew': 1360, 'existed': 1570, 'unit': 4663, 'wound': 4960, 'receives': 3565, 'visits': 4756, 'widmark': 4882, 'mickey': 2831, 'warren': 4801, 'wing': 4896, 'domino': 1319, 'caine': 647, 'carter': 703, 'operation': 3117, 'deaths': 1142, 'shoes': 3941, 'opens': 3115, 'dawson': 1128, 'resembles': 3646, 'lies': 2591, 'madness': 2698, 'titanic': 4503, 'minded': 2850, 'possibility': 3349, 'surrounded': 4318, 'destiny': 1212, 'empire': 1464, 'ian': 2209, 'campbell': 663, 'redemption': 3578, 'helping': 2081, 'noticed': 3049, 'swear': 4334, 'arrogant': 303, 'directs': 1267, 'robbins': 3712, 'matthau': 2771, 'kurt': 2499, 'mail': 2706, 'animals': 240, 'russell': 3761, 'wondered': 4927, 'satisfy': 3790, 'strike': 4224, 'arguably': 289, 'revolves': 3682, 'covered': 1023, 'belief': 451, 'pages': 3168, 'montage': 2894, 'highlight': 2103, 'ridden': 3691, 'exists': 1573, 'forgive': 1795, 'sheer': 3925, 'jaws': 2385, 'disbelief': 1277, 'format': 1799, 'produce': 3413, 'chemistry': 782, 'rank': 3518, 'philosophical': 3253, 'shouldnt': 3952, 'essential': 1522, 'fi': 1701, 'capital': 673, 'private': 3404, 'broad': 590, 'everyones': 1543, 'pulling': 3463, 'hall': 2009, 'depressing': 1188, 'notch': 3043, 'soviet': 4089, 'union': 4661, 'rescue': 3643, 'swedish': 4335, 'ambitious': 211, 'ninja': 3018, 'explosions': 1597, 'flies': 1756, 'weapons': 4829, 'miracle': 2860, 'terrorists': 4414, 'edition': 1422, 'extras': 1608, 'dogs': 1311, 'neck': 2985, 'sean': 3840, 'solely': 4056, 'devoted': 1231, 'protagonists': 3442, 'return': 3665, 'brooks': 596, 'thoroughly': 4459, 'entry': 1504, 'mexican': 2826, 'flynn': 1765, 'raising': 3509, 'artificial': 306, 'authentic': 358, 'similarly': 3980, 'classes': 834, 'web': 4833, 'wed': 4835, 'strangers': 4214, 'goofy': 1939, 'rats': 3531, 'implausible': 2245, 'countless': 1012, 'efforts': 1433, 'jet': 2400, 'purposes': 3475, 'introduction': 2339, 'masterpieces': 2760, 'mixture': 2878, 'orson': 3132, 'welles': 4844, 'moore': 2901, 'cameron': 661, 'successfully': 4267, 'embarrassment': 1455, 'meaningless': 2782, 'hood': 2151, 'presents': 3377, 'superior': 4300, 'someones': 4065, 'rules': 3754, 'spread': 4133, 'bite': 489, 'heavily': 2069, 'loaded': 2632, 'blob': 507, 'teenagers': 4391, 'relation': 3595, 'causes': 725, 'answers': 252, 'fights': 1710, 'silence': 3974, 'writes': 4970, 'inner': 2292, 'literature': 2623, 'fears': 1677, 'remind': 3618, 'describes': 1196, 'le': 2544, 'apartment': 265, 'blah': 496, 'kiss': 2483, 'circumstances': 822, 'psycho': 3457, 'bigger': 479, 'capable': 672, 'patients': 3212, 'suspicious': 4332, 'ken': 2453, 'followed': 1773, 'opened': 3113, 'fired': 1735, 'leslie': 2574, 'babe': 375, 'nowadays': 3055, 'stiller': 4189, 'suspenseful': 4331, 'helps': 2082, 'reference': 3582, 'bears': 421, 'outrageous': 3145, 'likable': 2598, 'heat': 2067, 'teens': 4392, 'robots': 3718, 'japan': 2381, 'sexuality': 3909, 'term': 4405, 'perspective': 3245, 'education': 1424, 'ya': 4976, 'advanced': 128, 'lousy': 2667, 'rotten': 3740, 'taught': 4370, 'hardcore': 2034, 'judging': 2425, 'couldve': 1009, '70': 55, 'suffered': 4276, 'behave': 445, 'frustration': 1843, 'vacation': 4704, 'odds': 3082, 'darker': 1116, 'equally': 1510, 'examples': 1554, 'spy': 4135, 'rural': 3758, 'wear': 4830, 'roman': 3731, 'bands': 392, 'talks': 4361, 'listen': 2619, 'iran': 2350, 'sadistic': 3768, 'fay': 1674, 'continues': 971, 'watches': 4814, 'jeff': 2390, 'portrays': 3344, 'ned': 2986, 'learns': 2553, 'westerns': 4854, 'threatening': 4468, 'robbery': 3711, 'load': 2631, 'hang': 2022, 'unintentional': 4658, 'scientists': 3819, '3000': 43, 'host': 2173, 'khan': 2459, 'styles': 4250, 'daniel': 1111, 'georges': 1894, 'bus': 631, 'gentle': 1890, 'arms': 294, 'calling': 653, 'dear': 1140, 'trees': 4577, 'birds': 485, 'spiritual': 4116, 'blend': 504, 'spin': 4112, 'carl': 692, 'spirited': 4114, 'editor': 1423, 'spanish': 4092, 'heights': 2073, 'witches': 4910, 'colorful': 878, 'heroic': 2090, 'bumbling': 622, 'possessed': 3347, 'handful': 2017, 'ruth': 3763, 'carol': 693, 'eager': 1396, 'suffer': 4275, 'laughably': 2531, 'wit': 4908, 'similarities': 3979, 'wilson': 4891, 'prove': 3445, 'balance': 387, 'bollywood': 530, 'credible': 1048, 'evident': 1547, 'trite': 4589, 'hollow': 2135, 'hed': 2072, 'kitchen': 2485, 'delivering': 1171, 'amitabh': 216, 'hopeless': 2158, 'failing': 1627, 'weakest': 4825, 'link': 2613, 'cinemas': 817, 'trapped': 4564, 'thumbs': 4485, 'gripping': 1976, 'godfather': 1927, 'mars': 2746, 'flashback': 1746, 'ships': 3935, 'orders': 3127, 'gun': 1996, 'unintentionally': 4659, 'landscape': 2513, 'orange': 3125, 'surviving': 4323, 'unreal': 4676, 'bat': 410, 'tree': 4576, 'rat': 3525, 'attacks': 339, 'climactic': 848, 'hunt': 2198, 'hunting': 2201, 'method': 2824, 'cities': 823, 'population': 3335, 'stewart': 4184, 'racist': 3503, 'indians': 2275, 'rabbit': 3498, 'strictly': 4223, 'photography': 3260, 'mann': 2728, 'symbolism': 4341, 'winters': 4901, 'dean': 1139, 'handsome': 2021, 'reduced': 3579, 'coffee': 870, 'curtis': 1087, 'wayne': 4821, 'classical': 836, 'equal': 1509, 'triumph': 4590, 'niro': 3019, 'spoiled': 4122, 'rental': 3627, 'movements': 2924, 'harris': 2038, 'worthwhile': 4955, 'bothered': 549, 'length': 2569, 'unoriginal': 4673, 'combine': 884, 'inevitable': 2282, 'wave': 4818, 'pack': 3165, 'excuse': 1564, 'size': 4012, 'menace': 2806, 'robin': 3715, 'returning': 3667, 'hong': 2149, 'kong': 2494, 'stilted': 4190, 'eg': 1434, 'beating': 425, '1999': 27, 'sally': 3776, 'eccentric': 1414, 'tie': 4488, 'dickens': 1240, 'sunday': 4293, 'drawing': 1350, 'fallen': 1638, 'demand': 1174, 'logic': 2638, 'outstanding': 3147, 'nominated': 3025, 'oscars': 3134, 'forty': 1807, 'composed': 926, 'propaganda': 3435, 'distribution': 1298, 'dignity': 1252, '1984': 23, 'eve': 1532, 'spirits': 4115, 'closer': 856, 'whale': 4857, 'winds': 4895, 'wealth': 4826, 'recognized': 3570, 'robinson': 3716, 'disneys': 1290, 'sneak': 4043, 'soccer': 4048, 'dialogs': 1233, 'depicts': 1186, 'explored': 1595, 'wives': 4918, 'mini': 2854, 'tommy': 4516, 'reflection': 3585, 'tongue': 4518, 'checking': 778, 'scenario': 3808, 'kingdom': 2480, 'accompanied': 86, 'machine': 2693, 'kubrick': 2496, 'perfection': 3225, 'chicks': 787, 'recognition': 3568, 'terry': 4415, 'persona': 3239, 'performers': 3232, 'iron': 2354, 'blonde': 511, 'spare': 4093, 'explaining': 1588, 'routine': 3743, 'comparing': 913, 'logical': 2639, 'elvis': 1451, 'mtv': 2933, 'achievement': 94, 'rings': 3699, 'liners': 2611, 'ford': 1789, 'stops': 4203, 'smiling': 4037, 'chest': 784, 'bag': 384, 'steel': 4173, 'subjects': 4254, 'yesterday': 4983, 'dating': 1120, 'toy': 4542, 'wendy': 4846, 'remotely': 3623, 'useful': 4694, 'quiet': 3492, 'acid': 95, 'monkeys': 2891, 'repeated': 3631, 'dollars': 1315, 'santa': 3783, 'swim': 4337, 'meaningful': 2781, 'sadness': 3770, 'elsewhere': 1449, 'lacked': 2503, 'treats': 4575, 'aid': 160, 'techniques': 4384, 'everyday': 1541, 'merits': 2817, 'opposed': 3122, 'dislike': 1288, 'interaction': 2322, 'intellectual': 2312, 'broadcast': 591, 'borrowed': 545, 'purchased': 3470, 'matched': 2763, 'importance': 2246, 'homeless': 2143, 'mafia': 2700, 'drugs': 1374, 'edie': 1419, 'fighter': 1708, 'occurs': 3078, 'shower': 3957, 'edward': 1426, 'anderson': 227, 'immensely': 2243, 'freak': 1824, 'matthew': 2772, 'shine': 3931, 'gain': 1863, 'confidence': 938, 'shell': 3927, 'andy': 230, 'innovative': 2295, 'hello': 2078, 'grey': 1973, 'experiment': 1583, 'samurai': 3779, 'clip': 851, 'machines': 2694, 'demons': 1178, 'stress': 4220, 'majority': 2712, 'arrival': 299, 'excessive': 1560, 'showcase': 3954, 'lees': 2560, 'manhattan': 2726, 'paying': 3217, 'voight': 4764, 'hoffman': 2128, 'honesty': 2148, 'transfer': 4559, 'incompetent': 2266, 'arrested': 298, 'guilt': 1994, 'props': 3439, 'treasure': 4571, 'recognize': 3569, 'reads': 3545, 'generated': 1882, 'rolled': 3729, 'convoluted': 987, 'serves': 3895, 'disjointed': 1287, 'unrealistic': 4677, 'element': 1442, 'builds': 617, 'advertising': 132, 'devil': 1228, 'ham': 2011, 'houses': 2180, 'daughters': 1122, 'copies': 992, '1996': 26, 'waited': 4771, 'secondly': 3847, 'risk': 3704, 'unseen': 4678, 'bottle': 550, 'exotic': 1574, 'lawrence': 2539, 'superhero': 4299, 'limited': 2606, 'productions': 3420, 'dare': 1113, 'repeatedly': 3632, 'ironic': 2355, 'suited': 4286, 'timothy': 4499, '1983': 22, 'pig': 3274, 'oil': 3097, 'suspend': 4329, 'factory': 1623, 'bridge': 578, 'corny': 997, 'crucial': 1068, 'noble': 3021, 'deliberately': 1166, 'der': 1191, 'stood': 4199, 'korean': 2495, 'statement': 4162, 'claimed': 829, 'underlying': 4641, 'focusing': 1769, 'seat': 3845, 'sandra': 3782, 'dorothy': 1330, 'appalling': 268, 'empathy': 1462, 'kidding': 2465, 'maria': 2736, 'stretch': 4221, 'sounded': 4082, 'italy': 2368, 'wanna': 4786, 'chooses': 800, 'hilariously': 2107, 'author': 359, 'standards': 4145, 'june': 2433, 'wells': 4845, 'clichéd': 845, 'presentation': 3375, 'furthermore': 1854, 'lucas': 2680, 'plight': 3308, 'device': 1227, 'notion': 3050, 'branagh': 564, 'jazz': 2387, '80': 58, 'buildings': 616, 'signs': 3973, 'measure': 2786, 'aforementioned': 139, 'marketing': 2741, 'lesson': 2577, 'anybody': 257, 'fx': 1858, 'resemblance': 3645, 'painting': 3175, 'detailed': 1218, 'teenager': 4390, 'subplots': 4256, 'dangerous': 1110, 'joined': 2413, 'witnesses': 4916, '2001': 31, 'joy': 2422, 'dancer': 1104, 'twin': 4615, 'criticism': 1063, 'thoughts': 4464, 'adds': 119, 'nomination': 3026, '1973': 19, 'julie': 2428, 'underground': 4640, 'blind': 506, 'mildred': 2841, 'clothing': 861, 'hyde': 2206, 'sappy': 3784, 'poetic': 3313, '1940s': 13, 'proof': 3434, 'sympathy': 4343, 'continued': 970, 'remaining': 3610, 'jackie': 2374, 'buying': 641, 'foster': 1809, 'tour': 4538, 'understandable': 4644, 'gundam': 1997, 'oz': 3160, 'groups': 1981, 'neighborhood': 2993, 'bush': 632, 'pushing': 3479, 'colors': 879, 'moronic': 2907, 'month': 2896, 'conceived': 929, 'anna': 245, 'rex': 3683, 'gandhi': 1866, 'mexico': 2827, 'reflect': 3584, 'conservative': 948, 'fooled': 1780, 'hearts': 2066, 'nicholson': 3011, 'avoided': 364, 'methods': 2825, 'striking': 4226, 'invasion': 2340, 'stereotypical': 4180, 'cave': 727, 'cagney': 646, 'senseless': 3878, 'jumps': 2432, 'myers': 2952, 'prize': 3405, 'glenn': 1918, 'training': 4558, 'stranger': 4213, 'horrific': 2166, 'competition': 918, 'shed': 3924, 'versus': 4722, 'nightmares': 3015, 'lily': 2605, 'wrap': 4963, 'mature': 2773, 'civilization': 827, 'consequences': 947, 'potentially': 3356, 'manipulative': 2727, 'waves': 4819, 'remarkably': 3614, 'scripted': 3835, 'dying': 1393, 'wandering': 4785, 'drunken': 1376, 'designs': 1204, 'physically': 3263, 'prequel': 3372, 'survivors': 4325, 'primary': 3394, 'stated': 4161, 'hopper': 2161, 'beer': 439, 'bergman': 466, 'explicit': 1591, 'design': 1202, 'argue': 290, '1968': 16, 'bull': 619, 'affect': 136, 'armed': 293, 'introduce': 2336, 'neil': 2995, 'broadway': 592, 'lemmon': 2567, 'consistent': 953, 'nine': 3017, 'previously': 3388, 'closed': 854, 'racism': 3502, 'unpleasant': 4674, 'eastern': 1408, 'confused': 941, 'cusack': 1088, 'facial': 1619, 'morris': 2908, 'liking': 2604, 'angles': 237, 'tracks': 4545, 'lion': 2614, 'educational': 1425, 'superficial': 4298, 'complexity': 924, 'heck': 2071, 'knock': 2488, 'mel': 2796, 'concern': 931, 'schools': 3814, 'pal': 3177, 'dozens': 1339, 'nonsensical': 3031, 'report': 3635, 'differences': 1247, 'models': 2881, 'civil': 826, 'riveting': 3708, 'tortured': 4530, 'kidnapped': 2466, 'promised': 3431, 'repetitive': 3633, 'guts': 1999, 'endings': 1472, 'satan': 3787, 'winter': 4900, 'strikes': 4225, 'wet': 4855, 'critic': 1061, 'loyal': 2679, 'chuck': 812, 'altogether': 202, 'overwhelming': 3157, '2003': 33, 'smooth': 4041, 'drink': 1361, 'abusive': 75, 'bonus': 534, 'interviews': 2330, 'twins': 4616, 'miserable': 2863, 'laurel': 2537, 'testament': 4417, 'stan': 4142, '16': 8, 'dropping': 1371, 'notes': 3046, 'enjoyment': 1488, 'merit': 2816, 'basement': 405, 'feed': 1683, 'deaf': 1134, 'germans': 1897, 'shining': 3933, 'divorce': 1301, 'analysis': 224, 'overlook': 3153, 'mirror': 2861, 'closet': 858, 'minimal': 2855, 'stooges': 4200, 'health': 2060, 'equipment': 1511, 'clown': 862, 'draws': 1352, 'thousand': 4465, 'videos': 4734, 'wears': 4832, 'center': 732, 'russian': 3762, 'holy': 2140, 'loses': 2657, 'amy': 222, 'rocky': 3723, 'forth': 1804, 'huh': 2187, 'diana': 1237, 'performs': 3234, 'belong': 459, 'sounding': 4083, 'official': 3094, 'bin': 483, 'pursuit': 3476, 'pet': 3246, 'virgin': 4749, 'grandmother': 1955, 'dracula': 1341, 'surface': 4310, 'beliefs': 452, 'beast': 422, 'unpredictable': 4675, '1990s': 25, 'introduces': 2338, 'resort': 3650, 'laura': 2536, 'wonders': 4931, 'tremendous': 4579, 'chess': 783, 'gruesome': 1986, 'trade': 4547, 'masterful': 2758, 'shake': 3914, 'punk': 3468, 'distance': 1294, 'circle': 821, 'village': 4743, 'desired': 1206, 'suffers': 4278, 'hung': 2197, 'cole': 873, 'portray': 3340, 'occasion': 3073, 'happily': 2030, 'misery': 2865, 'poverty': 3357, 'carradine': 695, 'dancers': 1105, 'messed': 2821, 'spain': 4091, 'escapes': 1519, 'franco': 1820, 'lit': 2621, 'slave': 4022, 'creator': 1043, 'primarily': 3393, 'commit': 904, 'seagal': 3839, 'sentence': 3881, 'elm': 1447, 'countries': 1013, 'masses': 2755, 'morality': 2903, 'bette': 471, 'philip': 3252, 'wicked': 4879, 'enter': 1494, 'promises': 3432, 'ethan': 1528, 'jamie': 2379, 'visible': 4753, 'hank': 2024, 'southern': 4088, 'melodrama': 2797, 'cube': 1076, 'vivid': 4760, 'performer': 3231, 'irish': 2353, 'investigation': 2343, 'boredom': 542, 'derek': 1192, 'ho': 2127, 'lust': 2689, 'shy': 3962, 'spoke': 4125, 'exploration': 1593, 'sunshine': 4294, 'received': 3564, 'photographed': 3258, 'da': 1094, 'homer': 2144, 'account': 89, 'depicting': 1184, 'bang': 393, 'producing': 3417, 'heaven': 2068, 'worn': 4948, 'hideous': 2098, 'distinct': 1296, 'department': 1182, 'womens': 4924, 'pan': 3180, 'selling': 3873, 'horrendous': 2162, 'alfred': 181, 'shelf': 3926, 'goldberg': 1933, 'splendid': 4119, 'citizen': 824, 'colonel': 876, 'prisoner': 3402, 'photos': 3261, 'commercials': 903, 'doctors': 1305, 'burton': 630, 'gangster': 1868, 'curse': 1086, 'lawyer': 2541, 'susan': 4326, 'africa': 141, 'faster': 1662, 'boxing': 556, 'destroying': 1215, 'settings': 3901, 'torn': 4528, 'blond': 510, 'jeremy': 2394, 'streep': 4215, 'bride': 577, 'mile': 2842, 'accents': 79, 'marie': 2737, 'hatred': 2049, '2005': 35, 'oliver': 3102, 'dreary': 1356, 'abysmal': 76, 'dragon': 1344, 'greedy': 1969, 'voices': 4763, 'join': 2412, 'encounters': 1467, 'generous': 1886, 'appearing': 277, 'demented': 1176, 'resulting': 3661, 'wallace': 4782, 'beings': 449, 'spielberg': 4110, 'priceless': 3390, 'fish': 1738, 'investigate': 2342, 'subplot': 4255, 'battles': 415, 'cruise': 1071, 'airplane': 166, 'mistress': 2874, 'inspector': 2299, 'monk': 2889, 'specifically': 4100, 'tame': 4363, 'accused': 91, 'picking': 3267, 'arrived': 301, 'brosnan': 597, 'hamilton': 2012, 'integrity': 2311, 'buried': 624, 'selfish': 3870, 'muslim': 2949, 'daddy': 1096, 'familys': 1646, 'wreck': 4965, 'mentioning': 2812, 'corporate': 998, 'stanwyck': 4149, 'sword': 4340, 'wizard': 4919, 'charlotte': 766, 'amanda': 205, 'morgan': 2905, 'assigned': 325, 'stones': 4198, 'prevent': 3385, 'latin': 2527, 'capturing': 679, 'struck': 4232, 'apes': 267, 'ocean': 3079, 'offering': 3089, 'twilight': 4614, 'zone': 4999, 'shirley': 3936, 'bettie': 473, 'providing': 3451, 'hbo': 2055, 'appearances': 275, 'walken': 4777, 'freeman': 1829, 'corpse': 999, 'jumped': 2430, 'nazis': 2978, 'wholly': 4874, 'lowest': 2678, 'bobby': 525, 'grinch': 1975, 'inappropriate': 2259, 'uncomfortable': 4637, 'firstly': 1737, 'sidney': 3968, 'columbo': 881, 'melting': 2799, 'swimming': 4338, 'concert': 935, 'bay': 416, 'imaginative': 2237, 'frankenstein': 1822, 'cook': 988, 'stunts': 4246, 'mall': 2720, 'explosion': 1596, '1933': 12, 'hook': 2152, 'willis': 4890, 'molly': 2884, 'shark': 3921, 'stargate': 4151, 'australia': 356, 'pride': 3391, '1990': 24, 'relatives': 3601, 'fury': 1855, 'hal': 2006, 'sink': 3999, 'fetched': 1698, 'catching': 716, 'dialogues': 1235, 'survived': 4322, 'unsettling': 4679, 'terrorist': 4413, 'kissing': 2484, 'phantom': 3251, 'raymond': 3534, 'gabriel': 1859, 'jeffrey': 2391, 'vaguely': 4706, 'landing': 2512, 'roots': 3738, 'maggie': 2702, 'inventive': 2341, 'sue': 4274, 'tiger': 4491, 'lumet': 2688, 'closest': 857, 'trail': 4553, 'mild': 2839, 'miike': 2837, 'moody': 2899, 'annie': 247, 'mst3k': 2932, 'opportunities': 3120, 'resident': 3647, 'ratings': 3530, 'popularity': 3334, 'ear': 1397, 'april': 284, 'garbo': 1871, 'bakshi': 386, 'virus': 4752, '1972': 18, 'psychiatrist': 3455, 'ties': 4490, 'fulci': 1845, 'st': 4137, 'iraq': 2351, 'blacks': 494, 'secretly': 3851, 'restored': 3659, 'aids': 161, 'construction': 960, 'atmospheric': 334, 'surfing': 4311, 'inspiration': 2300, 'ballet': 389, 'pokemon': 3320, 'mechanical': 2788, 'paltrow': 3178, 'prom': 3429, 'catchy': 717, 'paulie': 3215, 'butler': 637, 'bacall': 377, 'omen': 3104, 'gadget': 1860, 'served': 3894, 'rap': 3520, 'los': 2653, 'angeles': 233, 'cannibal': 669, 'crocodile': 1065, 'panic': 3181, 'tooth': 4524, 'lucy': 2684, 'lincoln': 2608, 'beatty': 427, 'scarecrow': 3804, 'lengthy': 2570, 'lena': 2568, 'leo': 2571}\n"
     ]
    }
   ],
   "source": [
    "print(str(vocabulary))"
   ]
  },
  {
   "cell_type": "markdown",
   "metadata": {},
   "source": [
    "Once you have added the endpoint name to the Lambda function, click on **Save**. Your Lambda function is now up and running. Next we need to create a way for our web app to execute the Lambda function."
   ]
  },
  {
   "cell_type": "markdown",
   "metadata": {},
   "source": [
    "### Setting up API Gateway\n",
    "\n",
    "Now that our Lambda function is set up, it is time to create a new API using API Gateway that will trigger the Lambda function we have just created.\n",
    "\n",
    "Using AWS Console, navigate to **Amazon API Gateway** and then click on **Get started**.\n",
    "\n",
    "On the next page, make sure that **New API** is selected and give the new api a name, for example, `sentiment_analysis_web_app`. Then, click on **Create API**.\n",
    "\n",
    "Now we have created an API, however it doesn't currently do anything. What we want it to do is to trigger the Lambda function that we created earlier.\n",
    "\n",
    "Select the **Actions** dropdown menu and click **Create Method**. A new blank method will be created, select its dropdown menu and select **POST**, then click on the check mark beside it.\n",
    "\n",
    "For the integration point, make sure that **Lambda Function** is selected and click on the **Use Lambda Proxy integration**. This option makes sure that the data that is sent to the API is then sent directly to the Lambda function with no processing. It also means that the return value must be a proper response object as it will also not be processed by API Gateway.\n",
    "\n",
    "Type the name of the Lambda function you created earlier into the **Lambda Function** text entry box and then click on **Save**. Click on **OK** in the pop-up box that then appears, giving permission to API Gateway to invoke the Lambda function you created.\n",
    "\n",
    "The last step in creating the API Gateway is to select the **Actions** dropdown and click on **Deploy API**. You will need to create a new Deployment stage and name it anything you like, for example `prod`.\n",
    "\n",
    "You have now successfully set up a public API to access your SageMaker model. Make sure to copy or write down the URL provided to invoke your newly created public API as this will be needed in the next step. This URL can be found at the top of the page, highlighted in blue next to the text **Invoke URL**."
   ]
  },
  {
   "cell_type": "markdown",
   "metadata": {},
   "source": [
    "## Step 7: Deploying our web app\n",
    "\n",
    "Now that we have a publicly available API, we can start using it in a web app. For our purposes, we have provided a simple static html file which can make use of the public api you created earlier.\n",
    "\n",
    "In the `website` folder there should be a file called `index.html`. Download the file to your computer and open that file up in a text editor of your choice. There should be a line which contains **\\*\\*REPLACE WITH PUBLIC API URL\\*\\***. Replace this string with the url that you wrote down in the last step and then save the file.\n",
    "\n",
    "Now, if you open `index.html` on your local computer, your browser will behave as a local web server and you can use the provided site to interact with your SageMaker model.\n",
    "\n",
    "If you'd like to go further, you can host this html file anywhere you'd like, for example using github or hosting a static site on Amazon's S3. Once you have done this you can share the link with anyone you'd like and have them play with it too!\n",
    "\n",
    "> **Important Note** In order for the web app to communicate with the SageMaker endpoint, the endpoint has to actually be deployed and running. This means that you are paying for it. Make sure that the endpoint is running when you want to use the web app but that you shut it down when you don't need it, otherwise you will end up with a surprisingly large AWS bill."
   ]
  },
  {
   "cell_type": "markdown",
   "metadata": {},
   "source": [
    "### Delete the endpoint\n",
    "\n",
    "Remember to always shut down your endpoint if you are no longer using it. You are charged for the length of time that the endpoint is running so if you forget and leave it on you could end up with an unexpectedly large bill."
   ]
  },
  {
   "cell_type": "code",
   "execution_count": 55,
   "metadata": {},
   "outputs": [
    {
     "ename": "NameError",
     "evalue": "name 'xgb_predictor' is not defined",
     "output_type": "error",
     "traceback": [
      "\u001b[0;31m---------------------------------------------------------------------------\u001b[0m",
      "\u001b[0;31mNameError\u001b[0m                                 Traceback (most recent call last)",
      "\u001b[0;32m<ipython-input-55-16a6b43a8b29>\u001b[0m in \u001b[0;36m<module>\u001b[0;34m()\u001b[0m\n\u001b[0;32m----> 1\u001b[0;31m \u001b[0mxgb_predictor\u001b[0m\u001b[0;34m.\u001b[0m\u001b[0mdelete_endpoint\u001b[0m\u001b[0;34m(\u001b[0m\u001b[0;34m)\u001b[0m\u001b[0;34m\u001b[0m\u001b[0m\n\u001b[0m",
      "\u001b[0;31mNameError\u001b[0m: name 'xgb_predictor' is not defined"
     ]
    }
   ],
   "source": [
    "xgb_predictor.delete_endpoint()"
   ]
  },
  {
   "cell_type": "markdown",
   "metadata": {},
   "source": [
    "## Optional: Clean up\n",
    "\n",
    "The default notebook instance on SageMaker doesn't have a lot of excess disk space available. As you continue to complete and execute notebooks you will eventually fill up this disk space, leading to errors which can be difficult to diagnose. Once you are completely finished using a notebook it is a good idea to remove the files that you created along the way. Of course, you can do this from the terminal or from the notebook hub if you would like. The cell below contains some commands to clean up the created files from within the notebook."
   ]
  },
  {
   "cell_type": "code",
   "execution_count": 56,
   "metadata": {},
   "outputs": [
    {
     "ename": "OSError",
     "evalue": "[Errno 12] Cannot allocate memory",
     "output_type": "error",
     "traceback": [
      "\u001b[0;31m---------------------------------------------------------------------------\u001b[0m",
      "\u001b[0;31mOSError\u001b[0m                                   Traceback (most recent call last)",
      "\u001b[0;32m<ipython-input-56-2c87d8eefdf2>\u001b[0m in \u001b[0;36m<module>\u001b[0;34m()\u001b[0m\n\u001b[1;32m      1\u001b[0m \u001b[0;31m# First we will remove all of the files contained in the data_dir directory\u001b[0m\u001b[0;34m\u001b[0m\u001b[0;34m\u001b[0m\u001b[0m\n\u001b[0;32m----> 2\u001b[0;31m \u001b[0mget_ipython\u001b[0m\u001b[0;34m(\u001b[0m\u001b[0;34m)\u001b[0m\u001b[0;34m.\u001b[0m\u001b[0msystem\u001b[0m\u001b[0;34m(\u001b[0m\u001b[0;34m'rm $data_dir/*'\u001b[0m\u001b[0;34m)\u001b[0m\u001b[0;34m\u001b[0m\u001b[0m\n\u001b[0m\u001b[1;32m      3\u001b[0m \u001b[0;34m\u001b[0m\u001b[0m\n\u001b[1;32m      4\u001b[0m \u001b[0;31m# And then we delete the directory itself\u001b[0m\u001b[0;34m\u001b[0m\u001b[0;34m\u001b[0m\u001b[0m\n\u001b[1;32m      5\u001b[0m \u001b[0mget_ipython\u001b[0m\u001b[0;34m(\u001b[0m\u001b[0;34m)\u001b[0m\u001b[0;34m.\u001b[0m\u001b[0msystem\u001b[0m\u001b[0;34m(\u001b[0m\u001b[0;34m'rmdir $data_dir'\u001b[0m\u001b[0;34m)\u001b[0m\u001b[0;34m\u001b[0m\u001b[0m\n",
      "\u001b[0;32m~/anaconda3/envs/python3/lib/python3.6/site-packages/IPython/core/interactiveshell.py\u001b[0m in \u001b[0;36msystem_piped\u001b[0;34m(self, cmd)\u001b[0m\n\u001b[1;32m   2259\u001b[0m         \u001b[0;31m# a non-None value would trigger :func:`sys.displayhook` calls.\u001b[0m\u001b[0;34m\u001b[0m\u001b[0;34m\u001b[0m\u001b[0m\n\u001b[1;32m   2260\u001b[0m         \u001b[0;31m# Instead, we store the exit_code in user_ns.\u001b[0m\u001b[0;34m\u001b[0m\u001b[0;34m\u001b[0m\u001b[0m\n\u001b[0;32m-> 2261\u001b[0;31m         \u001b[0mself\u001b[0m\u001b[0;34m.\u001b[0m\u001b[0muser_ns\u001b[0m\u001b[0;34m[\u001b[0m\u001b[0;34m'_exit_code'\u001b[0m\u001b[0;34m]\u001b[0m \u001b[0;34m=\u001b[0m \u001b[0msystem\u001b[0m\u001b[0;34m(\u001b[0m\u001b[0mself\u001b[0m\u001b[0;34m.\u001b[0m\u001b[0mvar_expand\u001b[0m\u001b[0;34m(\u001b[0m\u001b[0mcmd\u001b[0m\u001b[0;34m,\u001b[0m \u001b[0mdepth\u001b[0m\u001b[0;34m=\u001b[0m\u001b[0;36m1\u001b[0m\u001b[0;34m)\u001b[0m\u001b[0;34m)\u001b[0m\u001b[0;34m\u001b[0m\u001b[0m\n\u001b[0m\u001b[1;32m   2262\u001b[0m \u001b[0;34m\u001b[0m\u001b[0m\n\u001b[1;32m   2263\u001b[0m     \u001b[0;32mdef\u001b[0m \u001b[0msystem_raw\u001b[0m\u001b[0;34m(\u001b[0m\u001b[0mself\u001b[0m\u001b[0;34m,\u001b[0m \u001b[0mcmd\u001b[0m\u001b[0;34m)\u001b[0m\u001b[0;34m:\u001b[0m\u001b[0;34m\u001b[0m\u001b[0m\n",
      "\u001b[0;32m~/anaconda3/envs/python3/lib/python3.6/site-packages/IPython/utils/_process_posix.py\u001b[0m in \u001b[0;36msystem\u001b[0;34m(self, cmd)\u001b[0m\n\u001b[1;32m    154\u001b[0m                 \u001b[0mchild\u001b[0m \u001b[0;34m=\u001b[0m \u001b[0mpexpect\u001b[0m\u001b[0;34m.\u001b[0m\u001b[0mspawnb\u001b[0m\u001b[0;34m(\u001b[0m\u001b[0mself\u001b[0m\u001b[0;34m.\u001b[0m\u001b[0msh\u001b[0m\u001b[0;34m,\u001b[0m \u001b[0margs\u001b[0m\u001b[0;34m=\u001b[0m\u001b[0;34m[\u001b[0m\u001b[0;34m'-c'\u001b[0m\u001b[0;34m,\u001b[0m \u001b[0mcmd\u001b[0m\u001b[0;34m]\u001b[0m\u001b[0;34m)\u001b[0m \u001b[0;31m# Pexpect-U\u001b[0m\u001b[0;34m\u001b[0m\u001b[0m\n\u001b[1;32m    155\u001b[0m             \u001b[0;32melse\u001b[0m\u001b[0;34m:\u001b[0m\u001b[0;34m\u001b[0m\u001b[0m\n\u001b[0;32m--> 156\u001b[0;31m                 \u001b[0mchild\u001b[0m \u001b[0;34m=\u001b[0m \u001b[0mpexpect\u001b[0m\u001b[0;34m.\u001b[0m\u001b[0mspawn\u001b[0m\u001b[0;34m(\u001b[0m\u001b[0mself\u001b[0m\u001b[0;34m.\u001b[0m\u001b[0msh\u001b[0m\u001b[0;34m,\u001b[0m \u001b[0margs\u001b[0m\u001b[0;34m=\u001b[0m\u001b[0;34m[\u001b[0m\u001b[0;34m'-c'\u001b[0m\u001b[0;34m,\u001b[0m \u001b[0mcmd\u001b[0m\u001b[0;34m]\u001b[0m\u001b[0;34m)\u001b[0m  \u001b[0;31m# Vanilla Pexpect\u001b[0m\u001b[0;34m\u001b[0m\u001b[0m\n\u001b[0m\u001b[1;32m    157\u001b[0m             \u001b[0mflush\u001b[0m \u001b[0;34m=\u001b[0m \u001b[0msys\u001b[0m\u001b[0;34m.\u001b[0m\u001b[0mstdout\u001b[0m\u001b[0;34m.\u001b[0m\u001b[0mflush\u001b[0m\u001b[0;34m\u001b[0m\u001b[0m\n\u001b[1;32m    158\u001b[0m             \u001b[0;32mwhile\u001b[0m \u001b[0;32mTrue\u001b[0m\u001b[0;34m:\u001b[0m\u001b[0;34m\u001b[0m\u001b[0m\n",
      "\u001b[0;32m~/anaconda3/envs/python3/lib/python3.6/site-packages/pexpect/pty_spawn.py\u001b[0m in \u001b[0;36m__init__\u001b[0;34m(self, command, args, timeout, maxread, searchwindowsize, logfile, cwd, env, ignore_sighup, echo, preexec_fn, encoding, codec_errors, dimensions, use_poll)\u001b[0m\n\u001b[1;32m    202\u001b[0m             \u001b[0mself\u001b[0m\u001b[0;34m.\u001b[0m\u001b[0mname\u001b[0m \u001b[0;34m=\u001b[0m \u001b[0;34m'<pexpect factory incomplete>'\u001b[0m\u001b[0;34m\u001b[0m\u001b[0m\n\u001b[1;32m    203\u001b[0m         \u001b[0;32melse\u001b[0m\u001b[0;34m:\u001b[0m\u001b[0;34m\u001b[0m\u001b[0m\n\u001b[0;32m--> 204\u001b[0;31m             \u001b[0mself\u001b[0m\u001b[0;34m.\u001b[0m\u001b[0m_spawn\u001b[0m\u001b[0;34m(\u001b[0m\u001b[0mcommand\u001b[0m\u001b[0;34m,\u001b[0m \u001b[0margs\u001b[0m\u001b[0;34m,\u001b[0m \u001b[0mpreexec_fn\u001b[0m\u001b[0;34m,\u001b[0m \u001b[0mdimensions\u001b[0m\u001b[0;34m)\u001b[0m\u001b[0;34m\u001b[0m\u001b[0m\n\u001b[0m\u001b[1;32m    205\u001b[0m         \u001b[0mself\u001b[0m\u001b[0;34m.\u001b[0m\u001b[0muse_poll\u001b[0m \u001b[0;34m=\u001b[0m \u001b[0muse_poll\u001b[0m\u001b[0;34m\u001b[0m\u001b[0m\n\u001b[1;32m    206\u001b[0m \u001b[0;34m\u001b[0m\u001b[0m\n",
      "\u001b[0;32m~/anaconda3/envs/python3/lib/python3.6/site-packages/pexpect/pty_spawn.py\u001b[0m in \u001b[0;36m_spawn\u001b[0;34m(self, command, args, preexec_fn, dimensions)\u001b[0m\n\u001b[1;32m    301\u001b[0m \u001b[0;34m\u001b[0m\u001b[0m\n\u001b[1;32m    302\u001b[0m         self.ptyproc = self._spawnpty(self.args, env=self.env,\n\u001b[0;32m--> 303\u001b[0;31m                                      cwd=self.cwd, **kwargs)\n\u001b[0m\u001b[1;32m    304\u001b[0m \u001b[0;34m\u001b[0m\u001b[0m\n\u001b[1;32m    305\u001b[0m         \u001b[0mself\u001b[0m\u001b[0;34m.\u001b[0m\u001b[0mpid\u001b[0m \u001b[0;34m=\u001b[0m \u001b[0mself\u001b[0m\u001b[0;34m.\u001b[0m\u001b[0mptyproc\u001b[0m\u001b[0;34m.\u001b[0m\u001b[0mpid\u001b[0m\u001b[0;34m\u001b[0m\u001b[0m\n",
      "\u001b[0;32m~/anaconda3/envs/python3/lib/python3.6/site-packages/pexpect/pty_spawn.py\u001b[0m in \u001b[0;36m_spawnpty\u001b[0;34m(self, args, **kwargs)\u001b[0m\n\u001b[1;32m    312\u001b[0m     \u001b[0;32mdef\u001b[0m \u001b[0m_spawnpty\u001b[0m\u001b[0;34m(\u001b[0m\u001b[0mself\u001b[0m\u001b[0;34m,\u001b[0m \u001b[0margs\u001b[0m\u001b[0;34m,\u001b[0m \u001b[0;34m**\u001b[0m\u001b[0mkwargs\u001b[0m\u001b[0;34m)\u001b[0m\u001b[0;34m:\u001b[0m\u001b[0;34m\u001b[0m\u001b[0m\n\u001b[1;32m    313\u001b[0m         \u001b[0;34m'''Spawn a pty and return an instance of PtyProcess.'''\u001b[0m\u001b[0;34m\u001b[0m\u001b[0m\n\u001b[0;32m--> 314\u001b[0;31m         \u001b[0;32mreturn\u001b[0m \u001b[0mptyprocess\u001b[0m\u001b[0;34m.\u001b[0m\u001b[0mPtyProcess\u001b[0m\u001b[0;34m.\u001b[0m\u001b[0mspawn\u001b[0m\u001b[0;34m(\u001b[0m\u001b[0margs\u001b[0m\u001b[0;34m,\u001b[0m \u001b[0;34m**\u001b[0m\u001b[0mkwargs\u001b[0m\u001b[0;34m)\u001b[0m\u001b[0;34m\u001b[0m\u001b[0m\n\u001b[0m\u001b[1;32m    315\u001b[0m \u001b[0;34m\u001b[0m\u001b[0m\n\u001b[1;32m    316\u001b[0m     \u001b[0;32mdef\u001b[0m \u001b[0mclose\u001b[0m\u001b[0;34m(\u001b[0m\u001b[0mself\u001b[0m\u001b[0;34m,\u001b[0m \u001b[0mforce\u001b[0m\u001b[0;34m=\u001b[0m\u001b[0;32mTrue\u001b[0m\u001b[0;34m)\u001b[0m\u001b[0;34m:\u001b[0m\u001b[0;34m\u001b[0m\u001b[0m\n",
      "\u001b[0;32m~/anaconda3/envs/python3/lib/python3.6/site-packages/ptyprocess/ptyprocess.py\u001b[0m in \u001b[0;36mspawn\u001b[0;34m(cls, argv, cwd, env, echo, preexec_fn, dimensions)\u001b[0m\n\u001b[1;32m    220\u001b[0m \u001b[0;34m\u001b[0m\u001b[0m\n\u001b[1;32m    221\u001b[0m         \u001b[0;32mif\u001b[0m \u001b[0muse_native_pty_fork\u001b[0m\u001b[0;34m:\u001b[0m\u001b[0;34m\u001b[0m\u001b[0m\n\u001b[0;32m--> 222\u001b[0;31m             \u001b[0mpid\u001b[0m\u001b[0;34m,\u001b[0m \u001b[0mfd\u001b[0m \u001b[0;34m=\u001b[0m \u001b[0mpty\u001b[0m\u001b[0;34m.\u001b[0m\u001b[0mfork\u001b[0m\u001b[0;34m(\u001b[0m\u001b[0;34m)\u001b[0m\u001b[0;34m\u001b[0m\u001b[0m\n\u001b[0m\u001b[1;32m    223\u001b[0m         \u001b[0;32melse\u001b[0m\u001b[0;34m:\u001b[0m\u001b[0;34m\u001b[0m\u001b[0m\n\u001b[1;32m    224\u001b[0m             \u001b[0;31m# Use internal fork_pty, for Solaris\u001b[0m\u001b[0;34m\u001b[0m\u001b[0;34m\u001b[0m\u001b[0m\n",
      "\u001b[0;32m~/anaconda3/envs/python3/lib/python3.6/pty.py\u001b[0m in \u001b[0;36mfork\u001b[0;34m()\u001b[0m\n\u001b[1;32m     95\u001b[0m \u001b[0;34m\u001b[0m\u001b[0m\n\u001b[1;32m     96\u001b[0m     \u001b[0mmaster_fd\u001b[0m\u001b[0;34m,\u001b[0m \u001b[0mslave_fd\u001b[0m \u001b[0;34m=\u001b[0m \u001b[0mopenpty\u001b[0m\u001b[0;34m(\u001b[0m\u001b[0;34m)\u001b[0m\u001b[0;34m\u001b[0m\u001b[0m\n\u001b[0;32m---> 97\u001b[0;31m     \u001b[0mpid\u001b[0m \u001b[0;34m=\u001b[0m \u001b[0mos\u001b[0m\u001b[0;34m.\u001b[0m\u001b[0mfork\u001b[0m\u001b[0;34m(\u001b[0m\u001b[0;34m)\u001b[0m\u001b[0;34m\u001b[0m\u001b[0m\n\u001b[0m\u001b[1;32m     98\u001b[0m     \u001b[0;32mif\u001b[0m \u001b[0mpid\u001b[0m \u001b[0;34m==\u001b[0m \u001b[0mCHILD\u001b[0m\u001b[0;34m:\u001b[0m\u001b[0;34m\u001b[0m\u001b[0m\n\u001b[1;32m     99\u001b[0m         \u001b[0;31m# Establish a new session.\u001b[0m\u001b[0;34m\u001b[0m\u001b[0;34m\u001b[0m\u001b[0m\n",
      "\u001b[0;31mOSError\u001b[0m: [Errno 12] Cannot allocate memory"
     ]
    }
   ],
   "source": [
    "# First we will remove all of the files contained in the data_dir directory\n",
    "!rm $data_dir/*\n",
    "\n",
    "# And then we delete the directory itself\n",
    "!rmdir $data_dir\n",
    "\n",
    "# Similarly we remove the files in the cache_dir directory and the directory itself\n",
    "!rm $cache_dir/*\n",
    "!rmdir $cache_dir"
   ]
  },
  {
   "cell_type": "code",
   "execution_count": null,
   "metadata": {},
   "outputs": [],
   "source": []
  }
 ],
 "metadata": {
  "kernelspec": {
   "display_name": "conda_python3",
   "language": "python",
   "name": "conda_python3"
  },
  "language_info": {
   "codemirror_mode": {
    "name": "ipython",
    "version": 3
   },
   "file_extension": ".py",
   "mimetype": "text/x-python",
   "name": "python",
   "nbconvert_exporter": "python",
   "pygments_lexer": "ipython3",
   "version": "3.6.5"
  }
 },
 "nbformat": 4,
 "nbformat_minor": 2
}
